{
 "cells": [
  {
   "cell_type": "code",
   "execution_count": 1,
   "metadata": {},
   "outputs": [],
   "source": [
    "import tensorflow_probability as tfp\n",
    "import tensorflow as tf\n",
    "\n",
    "from tensorflow.keras import backend as K\n",
    "\n",
    "import numpy as np\n",
    "import matplotlib.pyplot as plt\n",
    "\n",
    "import pandas as pd\n",
    "import seaborn as sns\n",
    "\n",
    "from importlib import reload"
   ]
  },
  {
   "cell_type": "code",
   "execution_count": 25,
   "metadata": {},
   "outputs": [],
   "source": [
    "import sys\n",
    "import os\n",
    "sys.path.insert(0,'../../scripts/tools_for_VAE/')\n",
    "import tools_for_VAE.layers as layers\n",
    "from  tools_for_VAE import utils\n",
    "from tools_for_VAE import vae_functions"
   ]
  },
  {
   "cell_type": "code",
   "execution_count": 3,
   "metadata": {},
   "outputs": [
    {
     "data": {
      "text/plain": [
       "<module 'tools_for_VAE.utils' from '../../scripts/tools_for_VAE/tools_for_VAE/utils.py'>"
      ]
     },
     "execution_count": 3,
     "metadata": {},
     "output_type": "execute_result"
    }
   ],
   "source": [
    "reload(utils)"
   ]
  },
  {
   "cell_type": "code",
   "execution_count": 4,
   "metadata": {},
   "outputs": [],
   "source": [
    "from tensorflow.keras.layers import Input, Dense, Lambda, Layer, Add, Multiply, Reshape, Flatten, BatchNormalization\n",
    "from tensorflow.keras.models import Model, Sequential\n",
    "from tensorflow.keras.layers import Conv2D, Input, Dense, Dropout, MaxPool2D, Flatten,  Reshape, UpSampling2D, Cropping2D, Conv2DTranspose, PReLU, Concatenate, Lambda, BatchNormalization, concatenate, LeakyReLU"
   ]
  },
  {
   "cell_type": "code",
   "execution_count": 5,
   "metadata": {},
   "outputs": [],
   "source": [
    "tfd = tfp.distributions"
   ]
  },
  {
   "cell_type": "code",
   "execution_count": 6,
   "metadata": {},
   "outputs": [],
   "source": [
    "import tensorflow"
   ]
  },
  {
   "cell_type": "markdown",
   "metadata": {},
   "source": [
    "## Encoder"
   ]
  },
  {
   "cell_type": "code",
   "execution_count": 23,
   "metadata": {},
   "outputs": [],
   "source": [
    "nb_of_bands = 6\n",
    "batch_size = 100 \n",
    "\n",
    "input_shape = (64, 64, nb_of_bands)\n",
    "hidden_dim = 256\n",
    "latent_dim = 32\n",
    "filters = [32, 64, 128, 256]\n",
    "kernels = [3,3,3,3]\n",
    "\n",
    "conv_activation = None\n",
    "dense_activation = None\n",
    "\n",
    "bands = [4,5,6,7,8,9]"
   ]
  },
  {
   "cell_type": "markdown",
   "metadata": {},
   "source": [
    "Batchgenerator"
   ]
  },
  {
   "cell_type": "code",
   "execution_count": 8,
   "metadata": {},
   "outputs": [],
   "source": [
    "class BatchGenerator_ellipticity(tensorflow.keras.utils.Sequence):\n",
    "    \"\"\"\n",
    "    Class to create batch generator for the LSST VAE.\n",
    "    \"\"\"\n",
    "    def __init__(self, bands, list_of_samples,total_sample_size, batch_size, trainval_or_test, do_norm,denorm, list_of_weights_e):\n",
    "        \"\"\"\n",
    "        Initialization function\n",
    "        total_sample_size: size of the whole training (or validation) sample\n",
    "        batch_size: size of the batches to provide\n",
    "        list_of_samples: list of the numpy arrays which correspond to the whole training (or validation) sample\n",
    "#        path: path to the first numpy array taken in which the batch will be taken\n",
    "        training_or_validation: choice between training of validation generator\n",
    "        x: input of the neural network\n",
    "        y: target of the neural network\n",
    "        r: random value to sample into the validation sample\n",
    "        \"\"\"\n",
    "        self.bands = bands\n",
    "        self.nbands = len(bands)\n",
    "        self.total_sample_size = total_sample_size\n",
    "        self.batch_size = batch_size\n",
    "        self.list_of_samples = list_of_samples\n",
    "        self.trainval_or_test = trainval_or_test\n",
    "        \n",
    "        # indices = 0\n",
    "        \n",
    "        #self.noisy = noisy\n",
    "        # self.step = 0\n",
    "        # self.size = 100\n",
    "        self.epoch = 0\n",
    "        self.do_norm = do_norm\n",
    "        self.denorm = denorm\n",
    "\n",
    "        # self.scale_radius = scale_radius\n",
    "        # self.SNR = SNR\n",
    "\n",
    "        # Weights computed from the lengths of lists\n",
    "        self.p = []\n",
    "        for sample in self.list_of_samples:\n",
    "            temp = np.load(sample, mmap_mode = 'c')\n",
    "            self.p.append(float(len(temp)))\n",
    "        self.p = np.array(self.p)\n",
    "        self.total_sample_size = int(np.sum(self.p))\n",
    "        print(\"[BatchGenerator] total_sample_size = \", self.total_sample_size)\n",
    "        print(\"[BatchGenerator] len(list_of_samples) = \", len(self.list_of_samples))\n",
    "\n",
    "        self.p /= np.sum(self.p)\n",
    "\n",
    "        self.produced_samples = 0\n",
    "        self.list_of_weights_e = list_of_weights_e\n",
    "        #self.shifts = shifts\n",
    "\n",
    "    def __len__(self):\n",
    "        \"\"\"\n",
    "        Function to define the length of an epoch\n",
    "        \"\"\"\n",
    "        return int(float(self.total_sample_size) / float(self.batch_size))      \n",
    "\n",
    "    def on_epoch_end(self):\n",
    "        \"\"\"\n",
    "        Function executed at the end of each epoch\n",
    "        \"\"\"\n",
    "        # indices = 0\n",
    "        print(\"Produced samples\", self.produced_samples)\n",
    "        self.produced_samples = 0\n",
    "        \n",
    "    def __getitem__(self, idx):\n",
    "        \"\"\"\n",
    "        Function which returns the input and target batches for the network\n",
    "        \"\"\"\n",
    "        # If the generator is a training generator, the whole sample is displayed\n",
    "        #sample_filename = np.random.choice(self.list_of_samples, p=self.p)\n",
    "        index = np.random.choice(1)\n",
    "        sample_filename = self.list_of_samples[index]\n",
    "        sample = np.load(sample_filename, mmap_mode = 'c')\n",
    "\n",
    "        if self.list_of_weights_e == None:\n",
    "            indices = np.random.choice(len(sample), size=self.batch_size, replace=False)\n",
    "        else:\n",
    "            self.weights_e = np.load(self.list_of_weights_e[index])\n",
    "            indices = np.random.choice(len(sample), size=self.batch_size, replace=False, p = self.weights_e/np.sum(self.weights_e))\n",
    "            #print(indices)\n",
    "        self.produced_samples += len(indices)\n",
    "\n",
    "        x = sample[indices,1][:,self.bands]\n",
    "\n",
    "\n",
    "        data = pd.read_csv('/sps/lsst/users/barcelin/data/isolated_galaxies/centered/test/galaxies_isolated_20191024_0_data.csv')\n",
    "\n",
    "        y = np.zeros((batch_size, 3))\n",
    "        y[:,0] = data['e1'][indices]\n",
    "        y[:,1] = data['e2'][indices]\n",
    "        y[:,2] = data['redshift'][indices]\n",
    "        \n",
    "        # Preprocessing of the data to be easier for the network to learn\n",
    "        if self.do_norm:\n",
    "            x = utils.norm(x, self.bands)\n",
    "        if self.denorm:\n",
    "            x = utils.denorm(x, self.bands)\n",
    "\n",
    "        #  flip : flipping the image array\n",
    "        rand = np.random.randint(4)\n",
    "        if rand == 1: \n",
    "            x = np.flip(x, axis=-1)\n",
    "        elif rand == 2 : \n",
    "            x = np.swapaxes(x, -1, -2)\n",
    "        elif rand == 3:\n",
    "            x = np.swapaxes(np.flip(x, axis=-1), -1, -2)\n",
    "        \n",
    "        x = np.transpose(x, axes = (0,2,3,1))\n",
    "        \n",
    "        if self.trainval_or_test == 'training' or self.trainval_or_test == 'validation':\n",
    "            return x, y\n",
    "        elif self.trainval_or_test == 'test':\n",
    "            return x, y, data.loc[indices], indices"
   ]
  },
  {
   "cell_type": "code",
   "execution_count": 9,
   "metadata": {},
   "outputs": [],
   "source": [
    "images_dir = '/sps/lsst/users/barcelin/data/isolated_galaxies/centered/'\n",
    "list_of_samples = [x for x in utils.listdir_fullpath(os.path.join(images_dir,'test')) if x.endswith('.npy')]\n",
    "list_of_samples_val = [x for x in utils.listdir_fullpath(os.path.join(images_dir,'test')) if x.endswith('.npy')]"
   ]
  },
  {
   "cell_type": "code",
   "execution_count": 10,
   "metadata": {},
   "outputs": [
    {
     "name": "stdout",
     "output_type": "stream",
     "text": [
      "[BatchGenerator] total_sample_size =  20000\n",
      "[BatchGenerator] len(list_of_samples) =  2\n",
      "[BatchGenerator] total_sample_size =  20000\n",
      "[BatchGenerator] len(list_of_samples) =  2\n"
     ]
    }
   ],
   "source": [
    "training_generator = BatchGenerator_ellipticity(bands, list_of_samples, total_sample_size=None,\n",
    "                                    batch_size=batch_size, \n",
    "                                    trainval_or_test='training',\n",
    "                                    do_norm=False,\n",
    "                                    denorm = False,\n",
    "                                    list_of_weights_e=None)\n",
    "\n",
    "validation_generator = BatchGenerator_ellipticity(bands, list_of_samples_val, total_sample_size=None,\n",
    "                                    batch_size=batch_size, \n",
    "                                    trainval_or_test='validation',\n",
    "                                    do_norm=False,\n",
    "                                    denorm = False,\n",
    "                                    list_of_weights_e= None)"
   ]
  },
  {
   "cell_type": "code",
   "execution_count": 11,
   "metadata": {},
   "outputs": [],
   "source": [
    "test = training_generator.__getitem__(2)"
   ]
  },
  {
   "cell_type": "code",
   "execution_count": 12,
   "metadata": {},
   "outputs": [
    {
     "data": {
      "text/plain": [
       "(100, 64, 64, 6)"
      ]
     },
     "execution_count": 12,
     "metadata": {},
     "output_type": "execute_result"
    }
   ],
   "source": [
    "test[0].shape"
   ]
  },
  {
   "cell_type": "code",
   "execution_count": 65,
   "metadata": {},
   "outputs": [
    {
     "data": {
      "text/plain": [
       "<matplotlib.colorbar.Colorbar at 0x7f81480982e8>"
      ]
     },
     "execution_count": 65,
     "metadata": {},
     "output_type": "execute_result"
    },
    {
     "data": {
      "image/png": "[encoded data removed]",
      "text/plain": [
       "<Figure size 432x288 with 2 Axes>"
      ]
     },
     "metadata": {
      "needs_background": "light"
     },
     "output_type": "display_data"
    }
   ],
   "source": [
    "plt.imshow(test[0][0,:,:,4])\n",
    "plt.colorbar()"
   ]
  },
  {
   "cell_type": "code",
   "execution_count": 16,
   "metadata": {},
   "outputs": [],
   "source": [
    "#### Create encooder\n",
    "def build_encoder(latent_dim, hidden_dim, filters, kernels,nb_of_bands, conv_activation=None, dense_activation=None):#'sofplus'\n",
    "    \"\"\"\n",
    "    Return encoder as model\n",
    "    latent_dim : dimension of the latent variable\n",
    "    hidden_dim : dimension of the dense hidden layer\n",
    "    filters: list of the sizes of the filters used for this model\n",
    "    list of the size of the kernels used for each filter of this model\n",
    "    conv_activation: type of activation layer used after the convolutional layers\n",
    "    dense_activation: type of activation layer used after the dense layers\n",
    "    nb_of bands : nb of band-pass filters needed in the model\n",
    "    \"\"\"\n",
    "    # input_layer = Input(shape=(64,64,nb_of_bands))\n",
    "\n",
    "    # h = Reshape((64,64,nb_of_bands))(input_layer)\n",
    "    # h = BatchNormalization()(h)\n",
    "    # for i in range(len(filters)):\n",
    "    #     h = Conv2D(filters[i], (kernels[i],kernels[i]), activation=conv_activation, padding='same')(h)\n",
    "    #     h = PReLU()(h)\n",
    "    #     h = Conv2D(filters[i], (kernels[i],kernels[i]), activation=conv_activation, padding='same', strides=(2,2))(h)\n",
    "    #     h = PReLU()(h)\n",
    "    # h = Flatten()(h)\n",
    "    # h = Dense(hidden_dim, activation=dense_activation)(h)\n",
    "    # h = PReLU()(h)\n",
    "    # mu = Dense(latent_dim)(h)\n",
    "    # sigma = Dense(latent_dim, activation='softplus')(h)\n",
    "\n",
    "    tfd = tfp.distributions\n",
    "    latent_dim = 16\n",
    "    prior = tfd.Independent(tfd.Normal(loc=tf.zeros(latent_dim), scale=1),\n",
    "                            reinterpreted_batch_ndims=1)\n",
    "\n",
    "    encoder = tf.keras.Sequential([\n",
    "        tf.keras.layers.InputLayer(input_shape=(64,64,nb_of_bands)),\n",
    "        tf.keras.layers.BatchNormalization(),\n",
    "        tf.keras.layers.Conv2D(filters[0], (kernels[0], kernels[0]),\n",
    "                    padding='same', activation=conv_activation),\n",
    "        tf.keras.layers.PReLU(),\n",
    "        tf.keras.layers.Conv2D(filters[0], (kernels[0], kernels[0]),\n",
    "                    padding='same', activation=conv_activation, strides=(2,2)),\n",
    "        tf.keras.layers.PReLU(),\n",
    "        tf.keras.layers.Conv2D(filters[1], (kernels[1], kernels[1]),\n",
    "                    padding='same', activation=conv_activation),\n",
    "        tf.keras.layers.PReLU(),\n",
    "        tf.keras.layers.Conv2D(filters[1], (kernels[1], kernels[1]),\n",
    "                    padding='same', activation=conv_activation, strides=(2,2)),\n",
    "        tf.keras.layers.PReLU(),\n",
    "        tf.keras.layers.Conv2D(filters[2], (kernels[2], kernels[2]),\n",
    "                    padding='same', activation=conv_activation),\n",
    "        tf.keras.layers.PReLU(),\n",
    "        tf.keras.layers.Conv2D(filters[2], (kernels[2], kernels[2]),\n",
    "                    padding='same', activation=conv_activation, strides=(2,2)),\n",
    "        tf.keras.layers.PReLU(),\n",
    "        tf.keras.layers.Conv2D(filters[3], (kernels[3], kernels[3]),\n",
    "                    padding='same', activation=conv_activation),\n",
    "        tf.keras.layers.PReLU(),\n",
    "        tf.keras.layers.Conv2D(filters[3], (kernels[3], kernels[3]),\n",
    "                    padding='same', activation=conv_activation, strides=(2,2)),\n",
    "        tf.keras.layers.PReLU(),\n",
    "        tf.keras.layers.Flatten(),\n",
    "        tf.keras.layers.Dense(tfp.layers.MultivariateNormalTriL.params_size(latent_dim),\n",
    "                activation=None),\n",
    "        tf.keras.layers.Flatten(),\n",
    "        tfp.layers.MultivariateNormalTriL(\n",
    "            latent_dim,\n",
    "            activity_regularizer=tfp.layers.KLDivergenceRegularizer(prior, weight=0.01)),\n",
    "    ])\n",
    "\n",
    "\n",
    "    return encoder\n",
    "\n",
    "\n",
    "#### Create encooder\n",
    "def build_decoder(input_shape, latent_dim, hidden_dim, filters, kernels, conv_activation=None, dense_activation=None):\n",
    "    \"\"\"\n",
    "    Return decoder as model\n",
    "    input_shape: shape of the input data\n",
    "    latent_dim : dimension of the latent variable\n",
    "    hidden_dim : dimension of the dense hidden layer\n",
    "    filters: list of the sizes of the filters used for this model\n",
    "    list of the size of the kernels used for each filter of this model\n",
    "    conv_activation: type of activation layer used after the convolutional layers\n",
    "    dense_activation: type of activation layer used after the dense layers\n",
    "    \"\"\"\n",
    "    # input_layer = Input(shape=(latent_dim,))\n",
    "    # h = Dense(hidden_dim, activation=dense_activation)(input_layer)\n",
    "    # h = PReLU()(h)\n",
    "    # h = Dense(hidden_dim*2, activation=dense_activation)(input_layer)\n",
    "    # h = PReLU()(h)\n",
    "    # h = tfp.distributions.MultivariateNormalDiag()\n",
    "    final_dim = 3\n",
    "\n",
    "    prior_output = tfd.Independent(tfd.Normal(loc=tf.zeros(final_dim), scale=1),\n",
    "                            reinterpreted_batch_ndims=1)\n",
    "\n",
    "    decoder = tf.keras.Sequential([\n",
    "        tf.keras.layers.InputLayer(input_shape=(latent_dim)),\n",
    "        tf.keras.layers.Dense(16, activation=None),\n",
    "        tf.keras.layers.PReLU(),\n",
    "        tf.keras.layers.Dense(256, activation=None),\n",
    "        tf.keras.layers.PReLU(),\n",
    "        tf.keras.layers.Dense(tfp.layers.MultivariateNormalTriL.params_size(final_dim),\n",
    "                activation=None),\n",
    "        tfp.layers.MultivariateNormalTriL(final_dim)\n",
    "    ])\n",
    "\n",
    "    return decoder\n",
    "\n",
    "\n",
    "\n",
    "# Function to define model\n",
    "\n",
    "def vae_model(latent_dim, nb_of_bands):\n",
    "    \"\"\"\n",
    "    Function to create VAE model\n",
    "    nb_of bands : nb of band-pass filters needed in the model\n",
    "    \"\"\"\n",
    "\n",
    "    #### Parameters to fix\n",
    "    # batch_size : size of the batch given to the network\n",
    "    # input_shape: shape of the input data\n",
    "    # latent_dim : dimension of the latent variable\n",
    "    # hidden_dim : dimension of the dense hidden layer\n",
    "    # filters: list of the sizes of the filters used for this model\n",
    "    # kernels: list of the size of the kernels used for each filter of this model\n",
    "\n",
    "    batch_size = 100 \n",
    "    \n",
    "    input_shape = (64, 64, nb_of_bands)\n",
    "    hidden_dim = 256\n",
    "    filters = [32, 64, 128, 256]\n",
    "    kernels = [3,3,3,3]\n",
    "\n",
    "    # Build the encoder\n",
    "    encoder = build_encoder(latent_dim, hidden_dim, filters, kernels, nb_of_bands)\n",
    "    # Build the decoder\n",
    "    decoder = build_decoder(input_shape, latent_dim, hidden_dim, filters, kernels, conv_activation=None, dense_activation=None)\n",
    "\n",
    "    \n",
    "    return encoder, decoder"
   ]
  },
  {
   "cell_type": "code",
   "execution_count": 17,
   "metadata": {},
   "outputs": [],
   "source": [
    "encoder, decoder = vae_model(16, 6)\n",
    "\n",
    "model = tf.keras.Model(inputs=encoder.inputs,\n",
    "                outputs=decoder(encoder.outputs[0]))"
   ]
  },
  {
   "cell_type": "code",
   "execution_count": 13,
   "metadata": {},
   "outputs": [
    {
     "name": "stdout",
     "output_type": "stream",
     "text": [
      "Model: \"sequential_1\"\n",
      "_________________________________________________________________\n",
      "Layer (type)                 Output Shape              Param #   \n",
      "=================================================================\n",
      "dense_1 (Dense)              (None, 512)               8704      \n",
      "_________________________________________________________________\n",
      "p_re_lu_8 (PReLU)            (None, 512)               512       \n",
      "_________________________________________________________________\n",
      "dense_2 (Dense)              (None, 256)               131328    \n",
      "_________________________________________________________________\n",
      "p_re_lu_9 (PReLU)            (None, 256)               256       \n",
      "_________________________________________________________________\n",
      "dense_3 (Dense)              (None, 9)                 2313      \n",
      "_________________________________________________________________\n",
      "multivariate_normal_tri_l_1  ((None, 3), (None, 3))    0         \n",
      "=================================================================\n",
      "Total params: 143,113\n",
      "Trainable params: 143,113\n",
      "Non-trainable params: 0\n",
      "_________________________________________________________________\n"
     ]
    }
   ],
   "source": [
    "decoder.summary()"
   ]
  },
  {
   "cell_type": "code",
   "execution_count": 14,
   "metadata": {},
   "outputs": [
    {
     "name": "stdout",
     "output_type": "stream",
     "text": [
      "Model: \"model\"\n",
      "_________________________________________________________________\n",
      "Layer (type)                 Output Shape              Param #   \n",
      "=================================================================\n",
      "input_1 (InputLayer)         [(None, 64, 64, 6)]       0         \n",
      "_________________________________________________________________\n",
      "batch_normalization (BatchNo (None, 64, 64, 6)         24        \n",
      "_________________________________________________________________\n",
      "conv2d (Conv2D)              (None, 64, 64, 32)        1760      \n",
      "_________________________________________________________________\n",
      "p_re_lu (PReLU)              (None, 64, 64, 32)        131072    \n",
      "_________________________________________________________________\n",
      "conv2d_1 (Conv2D)            (None, 32, 32, 32)        9248      \n",
      "_________________________________________________________________\n",
      "p_re_lu_1 (PReLU)            (None, 32, 32, 32)        32768     \n",
      "_________________________________________________________________\n",
      "conv2d_2 (Conv2D)            (None, 32, 32, 64)        18496     \n",
      "_________________________________________________________________\n",
      "p_re_lu_2 (PReLU)            (None, 32, 32, 64)        65536     \n",
      "_________________________________________________________________\n",
      "conv2d_3 (Conv2D)            (None, 16, 16, 64)        36928     \n",
      "_________________________________________________________________\n",
      "p_re_lu_3 (PReLU)            (None, 16, 16, 64)        16384     \n",
      "_________________________________________________________________\n",
      "conv2d_4 (Conv2D)            (None, 16, 16, 128)       73856     \n",
      "_________________________________________________________________\n",
      "p_re_lu_4 (PReLU)            (None, 16, 16, 128)       32768     \n",
      "_________________________________________________________________\n",
      "conv2d_5 (Conv2D)            (None, 8, 8, 128)         147584    \n",
      "_________________________________________________________________\n",
      "p_re_lu_5 (PReLU)            (None, 8, 8, 128)         8192      \n",
      "_________________________________________________________________\n",
      "conv2d_6 (Conv2D)            (None, 8, 8, 256)         295168    \n",
      "_________________________________________________________________\n",
      "p_re_lu_6 (PReLU)            (None, 8, 8, 256)         16384     \n",
      "_________________________________________________________________\n",
      "conv2d_7 (Conv2D)            (None, 4, 4, 256)         590080    \n",
      "_________________________________________________________________\n",
      "p_re_lu_7 (PReLU)            (None, 4, 4, 256)         4096      \n",
      "_________________________________________________________________\n",
      "flatten (Flatten)            (None, 4096)              0         \n",
      "_________________________________________________________________\n",
      "dense (Dense)                (None, 152)               622744    \n",
      "_________________________________________________________________\n",
      "flatten_1 (Flatten)          (None, 152)               0         \n",
      "_________________________________________________________________\n",
      "multivariate_normal_tri_l (M ((None, 16), (None, 16))  0         \n",
      "_________________________________________________________________\n",
      "sequential_1 (Sequential)    (None, 3)                 143113    \n",
      "=================================================================\n",
      "Total params: 2,246,201\n",
      "Trainable params: 2,246,189\n",
      "Non-trainable params: 12\n",
      "_________________________________________________________________\n"
     ]
    }
   ],
   "source": [
    "model.summary()"
   ]
  },
  {
   "cell_type": "code",
   "execution_count": 15,
   "metadata": {},
   "outputs": [],
   "source": [
    "negative_log_likelihood = lambda x, rv_x: -rv_x.log_prob(x)"
   ]
  },
  {
   "cell_type": "code",
   "execution_count": 16,
   "metadata": {},
   "outputs": [],
   "source": [
    "model.compile(optimizer=tf.optimizers.Adam(learning_rate=1e-4), loss=negative_log_likelihood, metrics=['acc'])"
   ]
  },
  {
   "cell_type": "code",
   "execution_count": 73,
   "metadata": {
    "scrolled": false
   },
   "outputs": [
    {
     "name": "stdout",
     "output_type": "stream",
     "text": [
      "Epoch 1/10\n",
      "8/8 [==============================] - 20s 2s/step - loss: 3.5008 - acc: 0.3713 - val_loss: 2.7545 - val_acc: 0.4050\n",
      "Epoch 2/10\n",
      "8/8 [==============================] - 18s 2s/step - loss: 2.9374 - acc: 0.5063 - val_loss: 37.8555 - val_acc: 0.5950\n",
      "Epoch 3/10\n",
      "8/8 [==============================] - 17s 2s/step - loss: 2.4984 - acc: 0.5800 - val_loss: 61645.9281 - val_acc: 0.7000\n",
      "Epoch 4/10\n",
      "8/8 [==============================] - 15s 2s/step - loss: 2.3897 - acc: 0.6637 - val_loss: 2.2381 - val_acc: 0.7600\n",
      "Epoch 5/10\n",
      "8/8 [==============================] - 15s 2s/step - loss: 2.2505 - acc: 0.6950 - val_loss: 2.0843 - val_acc: 0.7900\n",
      "Epoch 6/10\n",
      "8/8 [==============================] - 13s 2s/step - loss: 2.0405 - acc: 0.7337 - val_loss: 2.0996 - val_acc: 0.7850\n",
      "Epoch 7/10\n",
      "8/8 [==============================] - 13s 2s/step - loss: 1.8991 - acc: 0.7375 - val_loss: 1.9622 - val_acc: 0.7450\n",
      "Epoch 8/10\n",
      "8/8 [==============================] - 12s 1s/step - loss: 1.8941 - acc: 0.7100 - val_loss: 1.9704 - val_acc: 0.7650\n",
      "Epoch 9/10\n",
      "8/8 [==============================] - 11s 1s/step - loss: 1.8000 - acc: 0.7575 - val_loss: 2.2199 - val_acc: 0.8000\n",
      "Epoch 10/10\n",
      "8/8 [==============================] - 11s 1s/step - loss: 1.9048 - acc: 0.7487 - val_loss: 1.8496 - val_acc: 0.6950\n"
     ]
    }
   ],
   "source": [
    "######## Train the network\n",
    "hist = model.fit_generator(generator = training_generator, epochs=10,\n",
    "          steps_per_epoch=8,#128\n",
    "          verbose=1,\n",
    "          shuffle=True,\n",
    "          validation_data=validation_generator,\n",
    "          validation_steps=2,#16\n",
    "          #callbacks=callbacks,\n",
    "          #max_queue_size=4,\n",
    "          workers=0,#4 \n",
    "          use_multiprocessing = False)"
   ]
  },
  {
   "cell_type": "code",
   "execution_count": 17,
   "metadata": {},
   "outputs": [],
   "source": [
    "data = pd.read_csv('/sps/lsst/users/barcelin/data/isolated_galaxies/centered/test/galaxies_isolated_20191024_0_data.csv')\n"
   ]
  },
  {
   "cell_type": "code",
   "execution_count": 18,
   "metadata": {},
   "outputs": [
    {
     "name": "stdout",
     "output_type": "stream",
     "text": [
      "<class 'pandas.core.frame.DataFrame'>\n",
      "RangeIndex: 10000 entries, 0 to 9999\n",
      "Data columns (total 22 columns):\n",
      "nb_blended_gal               10000 non-null int64\n",
      "SNR                          10000 non-null float64\n",
      "SNR_peak                     10000 non-null float64\n",
      "redshift                     10000 non-null float64\n",
      "moment_sigma                 10000 non-null float64\n",
      "e1                           10000 non-null float64\n",
      "e2                           10000 non-null float64\n",
      "mag                          10000 non-null float64\n",
      "mag_ir                       10000 non-null float64\n",
      "closest_x                    0 non-null float64\n",
      "closest_y                    0 non-null float64\n",
      "closest_redshift             0 non-null float64\n",
      "closest_moment_sigma         0 non-null float64\n",
      "closest_e1                   0 non-null float64\n",
      "closest_e2                   0 non-null float64\n",
      "closest_mag                  0 non-null float64\n",
      "closest_mag_ir               0 non-null float64\n",
      "blendedness_total_lsst       0 non-null float64\n",
      "blendedness_closest_lsst     0 non-null float64\n",
      "blendedness_aperture_lsst    0 non-null float64\n",
      "idx_closest_to_peak          10000 non-null int64\n",
      "n_peak_detected              10000 non-null int64\n",
      "dtypes: float64(19), int64(3)\n",
      "memory usage: 1.7 MB\n"
     ]
    }
   ],
   "source": [
    "data.info()"
   ]
  },
  {
   "cell_type": "code",
   "execution_count": 19,
   "metadata": {},
   "outputs": [
    {
     "data": {
      "text/plain": [
       "<matplotlib.axes._subplots.AxesSubplot at 0x7f3e681dfba8>"
      ]
     },
     "execution_count": 19,
     "metadata": {},
     "output_type": "execute_result"
    },
    {
     "data": {
      "image/png": "[encoded data removed]",
      "text/plain": [
       "<Figure size 432x288 with 1 Axes>"
      ]
     },
     "metadata": {
      "needs_background": "light"
     },
     "output_type": "display_data"
    }
   ],
   "source": [
    "sns.distplot(data['e1'])\n",
    "sns.distplot(data['e2'])"
   ]
  },
  {
   "cell_type": "code",
   "execution_count": 20,
   "metadata": {},
   "outputs": [
    {
     "data": {
      "image/png": "[encoded data removed]",
      "text/plain": [
       "<Figure size 432x288 with 1 Axes>"
      ]
     },
     "metadata": {
      "needs_background": "light"
     },
     "output_type": "display_data"
    }
   ],
   "source": [
    "distrib = sns.distplot(data['e1'])"
   ]
  },
  {
   "cell_type": "code",
   "execution_count": 21,
   "metadata": {},
   "outputs": [],
   "source": [
    "import scipy\n",
    "from scipy.stats import norm"
   ]
  },
  {
   "cell_type": "code",
   "execution_count": 22,
   "metadata": {},
   "outputs": [],
   "source": [
    "test = data['e1']"
   ]
  },
  {
   "cell_type": "code",
   "execution_count": 23,
   "metadata": {},
   "outputs": [
    {
     "data": {
      "text/plain": [
       "<matplotlib.axes._subplots.AxesSubplot at 0x7f3e300af518>"
      ]
     },
     "execution_count": 23,
     "metadata": {},
     "output_type": "execute_result"
    },
    {
     "data": {
      "image/png": "[encoded data removed]",
      "text/plain": [
       "<Figure size 432x288 with 1 Axes>"
      ]
     },
     "metadata": {
      "needs_background": "light"
     },
     "output_type": "display_data"
    }
   ],
   "source": [
    "sns.distplot(norm.cdf(test*3.3))"
   ]
  },
  {
   "cell_type": "code",
   "execution_count": 24,
   "metadata": {},
   "outputs": [
    {
     "data": {
      "text/plain": [
       "<matplotlib.axes._subplots.AxesSubplot at 0x7f3e18377630>"
      ]
     },
     "execution_count": 24,
     "metadata": {},
     "output_type": "execute_result"
    },
    {
     "data": {
      "image/png": "[encoded data removed]",
      "text/plain": [
       "<Figure size 432x288 with 1 Axes>"
      ]
     },
     "metadata": {
      "needs_background": "light"
     },
     "output_type": "display_data"
    }
   ],
   "source": [
    "sns.distplot(norm.cdf(data['e2']*3.3)*4, bins = 100)"
   ]
  },
  {
   "cell_type": "code",
   "execution_count": 36,
   "metadata": {},
   "outputs": [
    {
     "data": {
      "text/plain": [
       "<matplotlib.axes._subplots.AxesSubplot at 0x7f3db857e358>"
      ]
     },
     "execution_count": 36,
     "metadata": {},
     "output_type": "execute_result"
    },
    {
     "data": {
      "image/png": "[encoded data removed]",
      "text/plain": [
       "<Figure size 432x288 with 1 Axes>"
      ]
     },
     "metadata": {
      "needs_background": "light"
     },
     "output_type": "display_data"
    }
   ],
   "source": [
    "sns.distplot(norm.cdf(data['e2']*2)*4, bins = 100)"
   ]
  },
  {
   "cell_type": "code",
   "execution_count": 35,
   "metadata": {
    "scrolled": true
   },
   "outputs": [
    {
     "data": {
      "text/plain": [
       "<matplotlib.axes._subplots.AxesSubplot at 0x7f3db874bfd0>"
      ]
     },
     "execution_count": 35,
     "metadata": {},
     "output_type": "execute_result"
    },
    {
     "data": {
      "image/png": "[encoded data removed]",
      "text/plain": [
       "<Figure size 432x288 with 1 Axes>"
      ]
     },
     "metadata": {
      "needs_background": "light"
     },
     "output_type": "display_data"
    }
   ],
   "source": [
    "sns.distplot((data['e2'])*4, bins = 100)"
   ]
  },
  {
   "cell_type": "code",
   "execution_count": 25,
   "metadata": {},
   "outputs": [
    {
     "data": {
      "text/plain": [
       "<matplotlib.axes._subplots.AxesSubplot at 0x7f3e182e89b0>"
      ]
     },
     "execution_count": 25,
     "metadata": {},
     "output_type": "execute_result"
    },
    {
     "data": {
      "image/png": "[encoded data removed]",
      "text/plain": [
       "<Figure size 432x288 with 1 Axes>"
      ]
     },
     "metadata": {
      "needs_background": "light"
     },
     "output_type": "display_data"
    }
   ],
   "source": [
    "sns.distplot(data['redshift'])"
   ]
  },
  {
   "cell_type": "code",
   "execution_count": 91,
   "metadata": {},
   "outputs": [],
   "source": [
    "new_data = data[(np.abs(data['e1'])<=1.) &\n",
    "                (np.abs(data['e2'])<=1) ]"
   ]
  },
  {
   "cell_type": "code",
   "execution_count": 94,
   "metadata": {},
   "outputs": [
    {
     "data": {
      "text/plain": [
       "(array([1628, 2069, 2312, 3908, 4027, 4470, 5497, 5816, 8761, 9930]),)"
      ]
     },
     "execution_count": 94,
     "metadata": {},
     "output_type": "execute_result"
    }
   ],
   "source": [
    "np.where(data['e1']>=1)"
   ]
  },
  {
   "cell_type": "code",
   "execution_count": 96,
   "metadata": {},
   "outputs": [
    {
     "data": {
      "text/plain": [
       "Int64Index([   0,    1,    2,    3,    4,    5,    6,    7,    8,    9,\n",
       "            ...\n",
       "            9990, 9991, 9992, 9993, 9994, 9995, 9996, 9997, 9998, 9999],\n",
       "           dtype='int64', length=9948)"
      ]
     },
     "execution_count": 96,
     "metadata": {},
     "output_type": "execute_result"
    }
   ],
   "source": [
    "new_data.index"
   ]
  },
  {
   "cell_type": "code",
   "execution_count": 98,
   "metadata": {},
   "outputs": [],
   "source": [
    "indices = np.random.choice(new_data.index, size=100, replace=False)"
   ]
  },
  {
   "cell_type": "code",
   "execution_count": 99,
   "metadata": {},
   "outputs": [
    {
     "data": {
      "text/plain": [
       "array([6174, 4758, 7620, 8422, 1659, 8515, 4311, 6900,  234, 5974, 1646,\n",
       "        464, 4022, 1335, 8940, 8673, 3689, 2710, 2795, 9949, 4658, 1757,\n",
       "       2540, 5700, 4390,  131, 7916, 9675, 9510, 7101, 1091, 7969, 6438,\n",
       "       3402, 8873, 5661, 3958,  733, 2077, 4811, 2310, 4720, 7821, 5081,\n",
       "       5736,  460, 6696, 7641, 9138, 1368, 5410, 1425, 4502, 1847, 9718,\n",
       "       4393, 7447, 9042,  188, 7201, 1915, 4847, 2055,  340, 1689,  138,\n",
       "       9505, 1860,  212, 7596, 9108, 2367, 5901, 5998, 8956,  899,  416,\n",
       "       9288, 8002, 8217, 7054, 1024, 8561, 1261, 2759, 1543, 5298, 2752,\n",
       "       9837, 9518, 7686, 7254,  630, 3344, 2040, 1284, 8176, 2189, 8017,\n",
       "       2546])"
      ]
     },
     "execution_count": 99,
     "metadata": {},
     "output_type": "execute_result"
    }
   ],
   "source": [
    "indices"
   ]
  },
  {
   "cell_type": "code",
   "execution_count": 74,
   "metadata": {},
   "outputs": [
    {
     "data": {
      "text/plain": [
       "array([-0.00357435, -0.00287439, -0.00427695, -0.00358357, -0.00405959,\n",
       "       -0.00235075], dtype=float32)"
      ]
     },
     "execution_count": 74,
     "metadata": {},
     "output_type": "execute_result"
    }
   ],
   "source": [
    "model.get_weights()[1]"
   ]
  },
  {
   "cell_type": "code",
   "execution_count": 75,
   "metadata": {},
   "outputs": [],
   "source": [
    "test = training_generator.__getitem__(2)"
   ]
  },
  {
   "cell_type": "code",
   "execution_count": 105,
   "metadata": {},
   "outputs": [
    {
     "data": {
      "text/plain": [
       "1.1005940031260253"
      ]
     },
     "execution_count": 105,
     "metadata": {},
     "output_type": "execute_result"
    },
    {
     "data": {
      "image/png": "[encoded data removed]",
      "text/plain": [
       "<Figure size 432x288 with 1 Axes>"
      ]
     },
     "metadata": {
      "needs_background": "light"
     },
     "output_type": "display_data"
    }
   ],
   "source": [
    "plt.hist(test[1][:,2])\n",
    "np.mean(test[1][:,2])"
   ]
  },
  {
   "cell_type": "code",
   "execution_count": 76,
   "metadata": {},
   "outputs": [],
   "source": [
    "out = model.predict(test[0])"
   ]
  },
  {
   "cell_type": "code",
   "execution_count": 77,
   "metadata": {},
   "outputs": [
    {
     "name": "stderr",
     "output_type": "stream",
     "text": [
      "W0115 14:53:00.567576 140196354434880 base_layer.py:1814] Layer batch_normalization_2 is casting an input tensor from dtype float64 to the layer's dtype of float32, which is new behavior in TensorFlow 2.  The layer has dtype float32 because it's dtype defaults to floatx.\n",
      "\n",
      "If you intended to run this layer in float32, you can safely ignore this warning. If in doubt, this warning is likely only an issue if you are porting a TensorFlow 1.X model to TensorFlow 2.\n",
      "\n",
      "To change all layers to have dtype float64 by default, call `tf.keras.backend.set_floatx('float64')`. To change just this layer, pass dtype='float64' to the layer constructor. If you are the author of this layer, you can disable autocasting by passing autocast=False to the base Layer constructor.\n",
      "\n"
     ]
    }
   ],
   "source": [
    "out_mean_var = model(test[0])"
   ]
  },
  {
   "cell_type": "code",
   "execution_count": 78,
   "metadata": {},
   "outputs": [
    {
     "data": {
      "text/plain": [
       "array([-0.89105105,  0.24391167,  2.0058613 ], dtype=float32)"
      ]
     },
     "execution_count": 78,
     "metadata": {},
     "output_type": "execute_result"
    }
   ],
   "source": [
    "out_mean_var[0].numpy()"
   ]
  },
  {
   "cell_type": "code",
   "execution_count": 79,
   "metadata": {},
   "outputs": [
    {
     "data": {
      "text/plain": [
       "array([ 0.05190581, -0.15631655,  0.5906209 ], dtype=float32)"
      ]
     },
     "execution_count": 79,
     "metadata": {},
     "output_type": "execute_result"
    }
   ],
   "source": [
    "out_mean_var[1].numpy()"
   ]
  },
  {
   "cell_type": "code",
   "execution_count": 80,
   "metadata": {},
   "outputs": [],
   "source": [
    "assert isinstance(out_mean_var, tfd.Distribution)"
   ]
  },
  {
   "cell_type": "code",
   "execution_count": 81,
   "metadata": {},
   "outputs": [
    {
     "data": {
      "text/plain": [
       "array([-0.02500424, -0.04576324,  1.0282348 ], dtype=float32)"
      ]
     },
     "execution_count": 81,
     "metadata": {},
     "output_type": "execute_result"
    }
   ],
   "source": [
    "out_mean_var.mean()[0].numpy()"
   ]
  },
  {
   "cell_type": "code",
   "execution_count": 82,
   "metadata": {},
   "outputs": [
    {
     "data": {
      "text/plain": [
       "array([[ 0.15590698, -0.01278681, -0.00874183],\n",
       "       [-0.01278681,  0.12526816,  0.05058449],\n",
       "       [-0.00874183,  0.05058449,  0.6767809 ]], dtype=float32)"
      ]
     },
     "execution_count": 82,
     "metadata": {},
     "output_type": "execute_result"
    }
   ],
   "source": [
    "out_mean_var.covariance()[0].numpy()"
   ]
  },
  {
   "cell_type": "code",
   "execution_count": 85,
   "metadata": {},
   "outputs": [
    {
     "data": {
      "text/plain": [
       "array([ 0.39705762, -1.13163948,  0.96350002])"
      ]
     },
     "execution_count": 85,
     "metadata": {},
     "output_type": "execute_result"
    }
   ],
   "source": [
    "test[1][0]"
   ]
  },
  {
   "cell_type": "code",
   "execution_count": 35,
   "metadata": {},
   "outputs": [
    {
     "data": {
      "text/plain": [
       "array([[-1.48571149e-01,  1.69313714e-01,  1.01268351e+00],\n",
       "       [-2.15079606e-01, -1.39539391e-01,  4.67687964e-01],\n",
       "       [-2.10660666e-01,  1.80341601e-02,  4.94284451e-01],\n",
       "       [ 3.71372044e-01, -5.10662608e-02,  2.15654969e+00],\n",
       "       [-1.12676211e-01,  2.64112115e-01,  1.59222436e+00],\n",
       "       [ 2.48781621e-01, -5.51071703e-01,  1.04620385e+00],\n",
       "       [ 2.41629049e-01,  1.87543228e-01,  9.35838223e-02],\n",
       "       [ 5.26045501e-01, -2.12554649e-01,  8.74206305e-01],\n",
       "       [-2.51740724e-01, -1.13458827e-01,  8.35449934e-01],\n",
       "       [ 8.71403813e-01, -1.74277514e-01,  6.20503962e-01],\n",
       "       [ 3.91508549e-01, -9.21170771e-01,  1.15008223e+00],\n",
       "       [ 7.00848252e-02,  7.80354440e-02,  2.21889567e+00],\n",
       "       [-2.83846527e-01,  1.21286012e-01,  1.59041226e-01],\n",
       "       [ 1.40346467e-01, -1.61395386e-01,  2.98196614e-01],\n",
       "       [ 2.07454897e-02,  3.66484784e-02,  6.53183222e-01],\n",
       "       [ 1.88754916e-01,  8.29510987e-02,  1.29277444e+00],\n",
       "       [ 4.33269329e-02,  2.72044897e-01,  7.70505011e-01],\n",
       "       [ 5.20186722e-02,  6.52711034e-01,  2.01815057e+00],\n",
       "       [ 3.67036343e-01,  1.65976569e-01,  1.29649365e+00],\n",
       "       [-1.03941202e-01,  3.33250225e-01,  1.38513958e+00],\n",
       "       [ 7.88715035e-02,  4.81730178e-02,  1.25928342e+00],\n",
       "       [-3.33506018e-01, -2.24920392e-01,  8.24928224e-01],\n",
       "       [ 2.51806378e-01,  8.29978213e-02, -3.68070602e-02],\n",
       "       [-2.49992281e-01,  2.65151143e-01,  8.10812593e-01],\n",
       "       [ 7.19221085e-02, -2.63597757e-01,  1.62739360e+00],\n",
       "       [-3.52239221e-01,  3.49161208e-01,  4.17234927e-01],\n",
       "       [-4.11322713e-02, -4.66829538e-01,  1.66561687e+00],\n",
       "       [-1.67163044e-01, -3.76187325e-01,  8.24424267e-01],\n",
       "       [-5.48426695e-02, -2.46247530e-01,  8.02022159e-01],\n",
       "       [ 6.76896334e-01, -5.35071492e-01,  1.08049893e+00],\n",
       "       [-6.16936609e-02, -2.28229836e-02,  1.32390785e+00],\n",
       "       [-4.43513930e-01,  7.68598199e-01,  7.68874645e-01],\n",
       "       [ 2.98199117e-01,  9.38698575e-02,  2.75696445e+00],\n",
       "       [ 2.43883982e-01,  2.20515393e-03, -2.12674260e-01],\n",
       "       [ 2.05125675e-01, -5.13214290e-01, -1.49460030e+00],\n",
       "       [-2.71044105e-01,  1.10563062e-01,  1.73112965e+00],\n",
       "       [-1.56734571e-01, -7.58137703e-02,  7.92091906e-01],\n",
       "       [-2.44632930e-01,  4.05670047e-01,  1.47676957e+00],\n",
       "       [ 1.87669963e-01, -1.66266054e-01,  1.68194628e+00],\n",
       "       [ 1.26212463e-02, -3.92733008e-01,  8.00045729e-01],\n",
       "       [ 1.83557659e-01, -4.73421700e-02,  1.79051840e+00],\n",
       "       [ 1.09648377e-01,  1.35914534e-01,  1.36756372e+00],\n",
       "       [ 8.13812762e-02,  1.04810286e+00,  6.66224241e-01],\n",
       "       [ 7.00655460e-01, -5.21669865e-01,  7.89651215e-01],\n",
       "       [-6.47312999e-01, -7.94360340e-02,  1.55093992e+00],\n",
       "       [-2.21257880e-01,  8.47899199e-01,  5.30332923e-02],\n",
       "       [ 3.97797763e-01, -2.85412401e-01,  1.60950148e+00],\n",
       "       [-9.26884860e-02, -5.33894420e-01,  1.44694006e+00],\n",
       "       [ 1.37486622e-01,  4.46566880e-01,  1.35537624e+00],\n",
       "       [-3.00838828e-01, -3.83668035e-01,  9.23696816e-01],\n",
       "       [-3.19863290e-01, -4.30161774e-01,  1.04661393e+00],\n",
       "       [-2.16975659e-01, -3.58988941e-01,  9.05199885e-01],\n",
       "       [-3.73520434e-01,  2.46380836e-01,  2.84859562e+00],\n",
       "       [ 7.50566363e-01,  6.04073346e-01,  2.29346335e-01],\n",
       "       [-2.82606602e-01,  4.86301258e-02, -9.85939741e-01],\n",
       "       [-2.19683856e-01, -4.50295955e-02,  1.27013183e+00],\n",
       "       [ 1.07057139e-01, -6.68277323e-01,  1.47451329e+00],\n",
       "       [-6.36100769e-03, -2.14596108e-01,  8.86792421e-01],\n",
       "       [-1.73009709e-01, -6.45379126e-01,  2.06534171e+00],\n",
       "       [-1.07758693e-01,  2.73223482e-02,  6.16646886e-01],\n",
       "       [-1.34747580e-01, -1.91543415e-01, -2.95346975e-02],\n",
       "       [-1.28570795e-01,  1.98621139e-01,  1.43324995e+00],\n",
       "       [ 2.04624221e-01,  6.88608885e-02,  6.53269649e-01],\n",
       "       [-2.26582944e-01,  2.66828537e-01,  1.40634847e+00],\n",
       "       [ 9.87505794e-01, -1.64037436e-01,  6.96398020e-01],\n",
       "       [ 1.39308512e-01, -7.18488246e-02,  2.34408307e+00],\n",
       "       [ 5.49002290e-01,  9.90945846e-02,  2.01511669e+00],\n",
       "       [ 3.56933594e-01,  1.59450054e-01,  3.20323348e-01],\n",
       "       [-6.48948923e-02, -6.13229692e-01,  4.57419991e-01],\n",
       "       [-1.80744499e-01,  4.83232021e-01,  1.37701774e+00],\n",
       "       [ 2.09081531e-01,  2.08457157e-01,  1.24043262e+00],\n",
       "       [-3.66262436e-01,  2.47865483e-01,  2.52750969e+00],\n",
       "       [-1.14393115e-01,  7.74282157e-01,  7.33759880e-01],\n",
       "       [-2.90676475e-01,  2.48624653e-01,  2.20178795e+00],\n",
       "       [-5.37635624e-01, -2.78600633e-01,  1.16733491e+00],\n",
       "       [ 3.21088612e-01, -6.40592515e-01,  2.63728905e+00],\n",
       "       [ 1.93845332e-01, -3.73642072e-02,  1.67963207e-01],\n",
       "       [ 5.72367787e-01, -2.03160971e-01, -1.03570497e+00],\n",
       "       [-3.56983304e-01, -1.35937184e-01,  1.10597384e+00],\n",
       "       [ 1.38511643e-01,  2.09713370e-01,  2.34819317e+00],\n",
       "       [ 4.67595100e-01,  3.32331479e-01,  2.09665203e+00],\n",
       "       [-2.98130155e-01,  1.80958658e-01,  1.95608020e+00],\n",
       "       [ 1.80333093e-01, -8.50400865e-01,  1.80928850e+00],\n",
       "       [ 1.09342903e-01, -3.90809536e-01,  8.34896207e-01],\n",
       "       [-3.22764546e-01, -2.36315623e-01,  2.19987965e+00],\n",
       "       [ 1.62229478e-01, -3.05537522e-01,  1.10109150e+00],\n",
       "       [ 1.13146290e-01,  2.48844475e-01,  1.63961887e+00],\n",
       "       [ 9.33697820e-03, -2.00245172e-01,  9.21349645e-01],\n",
       "       [-9.87207890e-03,  5.91721497e-02,  1.32124662e+00],\n",
       "       [ 9.09789503e-02, -6.77441359e-02,  1.90929234e+00],\n",
       "       [ 5.92154384e-01,  4.97608006e-01,  2.90600228e+00],\n",
       "       [ 1.52456433e-01, -1.73884600e-01,  3.78716171e-01],\n",
       "       [ 9.02284682e-03,  1.15825899e-01,  4.19478595e-01],\n",
       "       [-5.27086794e-01,  1.44308329e-01,  1.82230604e+00],\n",
       "       [ 1.93246901e-01,  3.92067224e-01,  1.50062001e+00],\n",
       "       [ 5.10272145e-01,  3.30687791e-01, -8.59844685e-03],\n",
       "       [-1.04049429e-01, -1.61824390e-01,  1.90971887e+00],\n",
       "       [ 3.68204296e-01, -8.39697048e-02,  1.48440266e+00],\n",
       "       [ 3.17215592e-01,  2.17305124e-02,  2.87002683e-01],\n",
       "       [-9.21470001e-02,  2.75289208e-01,  2.36992741e+00]], dtype=float32)"
      ]
     },
     "execution_count": 35,
     "metadata": {},
     "output_type": "execute_result"
    }
   ],
   "source": [
    "out_mean_var[:].numpy()"
   ]
  },
  {
   "cell_type": "code",
   "execution_count": 36,
   "metadata": {},
   "outputs": [
    {
     "data": {
      "text/plain": [
       "array([[-0.09785614, -0.05391547,  1.0483965 ],\n",
       "       [ 0.02793783,  0.04754837,  0.91211796],\n",
       "       [-0.06866896,  0.15573928,  1.3179122 ],\n",
       "       [-0.13989908, -0.01669125,  1.0047717 ],\n",
       "       [-0.00658174,  0.09560578,  1.6506323 ],\n",
       "       [ 0.01378741, -0.13724767,  0.9936301 ],\n",
       "       [-0.02887656,  0.1090098 ,  0.80293274],\n",
       "       [ 0.05079518, -0.12597369,  1.2157272 ],\n",
       "       [-0.04552243, -0.22432303,  1.2731495 ],\n",
       "       [ 0.17178726, -0.15793094,  1.5140179 ],\n",
       "       [ 0.0891124 , -0.18625009,  1.2335356 ],\n",
       "       [ 0.04711303, -0.04357231,  1.5347811 ],\n",
       "       [-0.06936673,  0.04602516,  1.1038789 ],\n",
       "       [ 0.16347522,  0.03486443,  0.86906105],\n",
       "       [ 0.01425499,  0.01867703,  1.0740337 ],\n",
       "       [ 0.01110959, -0.01247725,  1.1732851 ],\n",
       "       [ 0.00752979,  0.01733471,  1.142686  ],\n",
       "       [ 0.029018  ,  0.16137919,  1.5662774 ],\n",
       "       [ 0.13570724,  0.01185538,  1.071931  ],\n",
       "       [-0.0355708 ,  0.04505565,  1.4730828 ],\n",
       "       [ 0.10089397, -0.0535513 ,  1.4494932 ],\n",
       "       [-0.04439268, -0.1600141 ,  1.2345793 ],\n",
       "       [ 0.03541218, -0.05747319,  1.3612968 ],\n",
       "       [ 0.02502986,  0.00783197,  1.1675401 ],\n",
       "       [ 0.250974  , -0.00972085,  0.86305976],\n",
       "       [-0.10198591, -0.15547214,  0.8879161 ],\n",
       "       [ 0.10872041,  0.10279966,  1.1849161 ],\n",
       "       [-0.07414566, -0.08273907,  0.9749923 ],\n",
       "       [ 0.02243691,  0.0964165 ,  1.2579447 ],\n",
       "       [ 0.04643856, -0.07561919,  1.3424841 ],\n",
       "       [ 0.070972  , -0.12597877,  1.39281   ],\n",
       "       [-0.10917993,  0.02574767,  1.0379506 ],\n",
       "       [ 0.00457727, -0.0039028 ,  0.92520946],\n",
       "       [ 0.04914184, -0.02084059,  1.0192245 ],\n",
       "       [-0.1849478 , -0.04539389,  0.81098914],\n",
       "       [-0.06027576, -0.06856477,  1.016112  ],\n",
       "       [-0.1475389 ,  0.14430408,  1.1573515 ],\n",
       "       [ 0.12843877, -0.16001482,  1.0802399 ],\n",
       "       [-0.07272833, -0.0292279 ,  1.1732447 ],\n",
       "       [-0.07605328, -0.05685253,  0.6801957 ],\n",
       "       [ 0.01658686,  0.04886917,  1.2729222 ],\n",
       "       [-0.04822234,  0.12841529,  1.4146589 ],\n",
       "       [ 0.04432951, -0.08553681,  0.9345978 ],\n",
       "       [ 0.11069565, -0.17451483,  1.0869306 ],\n",
       "       [-0.09108925,  0.08065361,  1.265146  ],\n",
       "       [ 0.00489387, -0.00232685,  0.71684754],\n",
       "       [-0.10574062,  0.09484658,  0.9767859 ],\n",
       "       [ 0.01595066, -0.0662081 ,  1.1700377 ],\n",
       "       [ 0.08037007, -0.17257589,  1.187165  ],\n",
       "       [-0.03372052,  0.03931951,  0.94948053],\n",
       "       [-0.05764716, -0.16677205,  0.776625  ],\n",
       "       [ 0.1138118 , -0.01581468,  0.77064425],\n",
       "       [ 0.06300703,  0.08735149,  1.4201204 ],\n",
       "       [ 0.00528515, -0.00644755,  1.1097999 ],\n",
       "       [ 0.05053626, -0.04849557,  0.96057796],\n",
       "       [-0.04417936,  0.07987422,  1.4791099 ],\n",
       "       [ 0.07116728, -0.15246026,  1.0803565 ],\n",
       "       [ 0.07214082, -0.01228487,  0.9502624 ],\n",
       "       [-0.01500459, -0.10406714,  0.9135005 ],\n",
       "       [ 0.00769067, -0.00472396,  1.0037622 ],\n",
       "       [ 0.02005883, -0.07733281,  1.1537521 ],\n",
       "       [-0.00873646,  0.01375454,  1.2265346 ],\n",
       "       [ 0.09825657, -0.1435405 ,  1.1049    ],\n",
       "       [ 0.10327414,  0.0811917 ,  1.2048206 ],\n",
       "       [ 0.07511874, -0.00996397,  1.0067949 ],\n",
       "       [-0.0047336 ,  0.0028693 ,  1.1701576 ],\n",
       "       [ 0.0993496 ,  0.17029348,  1.410708  ],\n",
       "       [ 0.0656987 , -0.05099528,  1.1094548 ],\n",
       "       [-0.06194909, -0.0419072 ,  1.0697901 ],\n",
       "       [-0.09836873,  0.08740119,  1.1916144 ],\n",
       "       [ 0.04311705, -0.12592252,  1.0616204 ],\n",
       "       [ 0.03873945, -0.18127112,  1.4379348 ],\n",
       "       [-0.00456252, -0.02649054,  0.8820313 ],\n",
       "       [ 0.0684052 ,  0.00308734,  0.91958594],\n",
       "       [-0.01191714, -0.14408007,  0.7460523 ],\n",
       "       [ 0.01617462, -0.15539336,  1.1956874 ],\n",
       "       [ 0.18193895,  0.01096158,  0.8483606 ],\n",
       "       [-0.0433201 ,  0.03228522,  1.0235144 ],\n",
       "       [ 0.04269071, -0.08369853,  1.1443609 ],\n",
       "       [-0.12155806,  0.01828871,  1.4139378 ],\n",
       "       [ 0.02127852, -0.09185157,  1.0272903 ],\n",
       "       [ 0.08990841, -0.078762  ,  0.77912825],\n",
       "       [-0.00627801, -0.1698556 ,  1.0828618 ],\n",
       "       [-0.00603973,  0.11259913,  1.0836858 ],\n",
       "       [ 0.00607408, -0.0268815 ,  1.0488231 ],\n",
       "       [-0.02044996, -0.13781019,  0.9785199 ],\n",
       "       [ 0.02304747,  0.02688926,  1.2066014 ],\n",
       "       [ 0.09691696, -0.1682931 ,  1.181675  ],\n",
       "       [-0.1069262 , -0.05254662,  0.98164046],\n",
       "       [-0.04953453,  0.06115235,  1.1056815 ],\n",
       "       [ 0.03135822,  0.05838827,  1.3498862 ],\n",
       "       [-0.02933101,  0.05802651,  0.85292923],\n",
       "       [ 0.10764495,  0.02021043,  1.3341293 ],\n",
       "       [ 0.08312018, -0.18137667,  1.0589085 ],\n",
       "       [ 0.09983067, -0.02975823,  1.1935391 ],\n",
       "       [-0.0706671 ,  0.01951788,  1.1310736 ],\n",
       "       [ 0.14490077, -0.00795857,  1.0295763 ],\n",
       "       [ 0.20269835,  0.0175232 ,  0.8354856 ],\n",
       "       [-0.02038759, -0.04130108,  0.959586  ],\n",
       "       [-0.06573939, -0.05768889,  0.7602972 ]], dtype=float32)"
      ]
     },
     "execution_count": 36,
     "metadata": {},
     "output_type": "execute_result"
    }
   ],
   "source": [
    "out_mean_var.mean().numpy()"
   ]
  },
  {
   "cell_type": "code",
   "execution_count": 37,
   "metadata": {},
   "outputs": [
    {
     "data": {
      "text/plain": [
       "[<matplotlib.lines.Line2D at 0x7f8168594a58>]"
      ]
     },
     "execution_count": 37,
     "metadata": {},
     "output_type": "execute_result"
    },
    {
     "data": {
      "image/png": "[encoded data removed]",
      "text/plain": [
       "<Figure size 432x288 with 1 Axes>"
      ]
     },
     "metadata": {
      "needs_background": "light"
     },
     "output_type": "display_data"
    }
   ],
   "source": [
    "plt.plot(test[1][:,0], out[:,0], 'o')\n",
    "x = np.linspace(-1,1)\n",
    "plt.plot(x, x)"
   ]
  },
  {
   "cell_type": "code",
   "execution_count": 38,
   "metadata": {},
   "outputs": [
    {
     "data": {
      "text/plain": [
       "[<matplotlib.lines.Line2D at 0x7f81684ff320>]"
      ]
     },
     "execution_count": 38,
     "metadata": {},
     "output_type": "execute_result"
    },
    {
     "data": {
      "image/png": "[encoded data removed]",
      "text/plain": [
       "<Figure size 432x288 with 1 Axes>"
      ]
     },
     "metadata": {
      "needs_background": "light"
     },
     "output_type": "display_data"
    }
   ],
   "source": [
    "out_mean_var[:].numpy()\n",
    "plt.plot(test[1][:,0], out_mean_var[:,0].numpy(), 'o')\n",
    "x = np.linspace(-1,1)\n",
    "plt.plot(x, x)"
   ]
  },
  {
   "cell_type": "code",
   "execution_count": 39,
   "metadata": {},
   "outputs": [
    {
     "data": {
      "text/plain": [
       "TensorShape([100, 3])"
      ]
     },
     "execution_count": 39,
     "metadata": {},
     "output_type": "execute_result"
    }
   ],
   "source": [
    "out_mean_var.shape"
   ]
  },
  {
   "cell_type": "code",
   "execution_count": 40,
   "metadata": {},
   "outputs": [
    {
     "data": {
      "text/plain": [
       "(100, 3)"
      ]
     },
     "execution_count": 40,
     "metadata": {},
     "output_type": "execute_result"
    }
   ],
   "source": [
    "out_mean_var.mean().numpy().shape"
   ]
  },
  {
   "cell_type": "code",
   "execution_count": 41,
   "metadata": {},
   "outputs": [
    {
     "data": {
      "text/plain": [
       "[<matplotlib.lines.Line2D at 0x7f81684e5630>]"
      ]
     },
     "execution_count": 41,
     "metadata": {},
     "output_type": "execute_result"
    },
    {
     "data": {
      "image/png": "[encoded data removed]",
      "text/plain": [
       "<Figure size 432x288 with 1 Axes>"
      ]
     },
     "metadata": {
      "needs_background": "light"
     },
     "output_type": "display_data"
    }
   ],
   "source": [
    "plt.plot(test[1][:,0], out_mean_var.mean().numpy()[:,0], 'o')\n",
    "x = np.linspace(-1,1)\n",
    "plt.plot(x, x)"
   ]
  },
  {
   "cell_type": "code",
   "execution_count": 45,
   "metadata": {},
   "outputs": [
    {
     "data": {
      "text/plain": [
       "[<matplotlib.lines.Line2D at 0x7f15b40ce470>]"
      ]
     },
     "execution_count": 45,
     "metadata": {},
     "output_type": "execute_result"
    },
    {
     "data": {
      "image/png": "[encoded data removed]",
      "text/plain": [
       "<Figure size 432x288 with 1 Axes>"
      ]
     },
     "metadata": {
      "needs_background": "light"
     },
     "output_type": "display_data"
    }
   ],
   "source": [
    "plt.plot(test[1][:,1], out_mean_var.mean().numpy()[:,1], 'o')\n",
    "x = np.linspace(-1,1)\n",
    "plt.plot(x, x)"
   ]
  },
  {
   "cell_type": "code",
   "execution_count": null,
   "metadata": {},
   "outputs": [],
   "source": [
    "plt.plot(test[1][:,2], out_mean_var.mean().numpy()[:,2], 'o')\n",
    "x = np.linspace(-1,5)\n",
    "plt.plot(x, x)"
   ]
  },
  {
   "cell_type": "markdown",
   "metadata": {},
   "source": [
    "### Loading model"
   ]
  },
  {
   "cell_type": "code",
   "execution_count": 44,
   "metadata": {},
   "outputs": [],
   "source": [
    "loading_path_checkpoint = '/sps/lsst/users/barcelin/TFP/weights/my_checkpoint'"
   ]
  },
  {
   "cell_type": "code",
   "execution_count": 55,
   "metadata": {},
   "outputs": [],
   "source": [
    "loading_path = '/sps/lsst/users/barcelin/TFP/weights/test/'"
   ]
  },
  {
   "cell_type": "code",
   "execution_count": 35,
   "metadata": {},
   "outputs": [
    {
     "data": {
      "text/plain": [
       "<module 'tools_for_VAE.utils' from '../../scripts/tools_for_VAE/tools_for_VAE/utils.py'>"
      ]
     },
     "execution_count": 35,
     "metadata": {},
     "output_type": "execute_result"
    }
   ],
   "source": [
    "reload(utils)"
   ]
  },
  {
   "cell_type": "code",
   "execution_count": null,
   "metadata": {},
   "outputs": [],
   "source": []
  },
  {
   "cell_type": "code",
   "execution_count": 46,
   "metadata": {},
   "outputs": [
    {
     "name": "stderr",
     "output_type": "stream",
     "text": [
      "W0114 17:19:54.450685 140604476471104 base.py:272] Inconsistent references when loading the checkpoint into this object graph. Either the Trackable object references in the Python program have changed in an incompatible way, or the checkpoint was generated in an incompatible program.\n",
      "\n",
      "Two checkpoint references resolved to different objects (<tensorflow.python.keras.layers.core.Dense object at 0x7fdf4c08c438> and <tensorflow.python.keras.layers.core.Flatten object at 0x7fdf4c08c358>).\n",
      "W0114 17:19:54.451765 140604476471104 base.py:272] Inconsistent references when loading the checkpoint into this object graph. Either the Trackable object references in the Python program have changed in an incompatible way, or the checkpoint was generated in an incompatible program.\n",
      "\n",
      "Two checkpoint references resolved to different objects (<tensorflow.python.keras.engine.sequential.Sequential object at 0x7fdf4c54ad30> and <tensorflow.python.keras.layers.core.Flatten object at 0x7fdf4c08c710>).\n"
     ]
    }
   ],
   "source": [
    "model = utils.load_model(loading_path,nb_of_bands,folder = False)"
   ]
  },
  {
   "cell_type": "code",
   "execution_count": 52,
   "metadata": {},
   "outputs": [],
   "source": [
    "from tools_for_VAE import model"
   ]
  },
  {
   "cell_type": "code",
   "execution_count": 53,
   "metadata": {},
   "outputs": [],
   "source": [
    "enc, dec = model.vae_model(32,6)"
   ]
  },
  {
   "cell_type": "code",
   "execution_count": 54,
   "metadata": {},
   "outputs": [],
   "source": [
    "new_model = Model(inputs=enc.inputs, outputs=dec(enc.outputs[0]))"
   ]
  },
  {
   "cell_type": "code",
   "execution_count": 56,
   "metadata": {},
   "outputs": [
    {
     "name": "stderr",
     "output_type": "stream",
     "text": [
      "W0114 17:35:09.174811 140604476471104 base.py:272] Inconsistent references when loading the checkpoint into this object graph. Either the Trackable object references in the Python program have changed in an incompatible way, or the checkpoint was generated in an incompatible program.\n",
      "\n",
      "Two checkpoint references resolved to different objects (<tensorflow.python.keras.layers.core.Dense object at 0x7fdeebf02dd8> and <tensorflow.python.keras.layers.core.Flatten object at 0x7fdeebf02cf8>).\n",
      "W0114 17:35:09.175933 140604476471104 base.py:272] Inconsistent references when loading the checkpoint into this object graph. Either the Trackable object references in the Python program have changed in an incompatible way, or the checkpoint was generated in an incompatible program.\n",
      "\n",
      "Two checkpoint references resolved to different objects (<tensorflow.python.keras.engine.sequential.Sequential object at 0x7fdeebbf0668> and <tensorflow.python.keras.layers.core.Flatten object at 0x7fdeebf0c0f0>).\n"
     ]
    },
    {
     "data": {
      "text/plain": [
       "<tensorflow.python.training.tracking.util.CheckpointLoadStatus at 0x7fdeeb9785c0>"
      ]
     },
     "execution_count": 56,
     "metadata": {},
     "output_type": "execute_result"
    }
   ],
   "source": [
    "latest = tf.train.latest_checkpoint(loading_path)\n",
    "new_model.load_weights(latest)"
   ]
  },
  {
   "cell_type": "code",
   "execution_count": 57,
   "metadata": {},
   "outputs": [],
   "source": [
    "test = training_generator.__getitem__(2)"
   ]
  },
  {
   "cell_type": "code",
   "execution_count": 59,
   "metadata": {},
   "outputs": [
    {
     "ename": "AttributeError",
     "evalue": "'MultivariateNormalTriL' object has no attribute 'type'",
     "output_type": "error",
     "traceback": [
      "\u001b[0;31m\u001b[0m",
      "\u001b[0;31mAttributeError\u001b[0mTraceback (most recent call last)",
      "\u001b[0;32m<ipython-input-59-9ec7760068b0>\u001b[0m in \u001b[0;36m<module>\u001b[0;34m\u001b[0m\n\u001b[0;32m----> 1\u001b[0;31m \u001b[0mout\u001b[0m \u001b[0;34m=\u001b[0m \u001b[0mnew_model\u001b[0m\u001b[0;34m.\u001b[0m\u001b[0mpredict\u001b[0m\u001b[0;34m(\u001b[0m\u001b[0mtest\u001b[0m\u001b[0;34m[\u001b[0m\u001b[0;36m0\u001b[0m\u001b[0;34m]\u001b[0m\u001b[0;34m)\u001b[0m\u001b[0;34m\u001b[0m\u001b[0;34m\u001b[0m\u001b[0m\n\u001b[0m",
      "\u001b[0;32m/sps/lsst/users/barcelin/miniconda/envs/python_cpu6/lib/python3.6/site-packages/tensorflow_core/python/keras/engine/training.py\u001b[0m in \u001b[0;36mpredict\u001b[0;34m(self, x, batch_size, verbose, steps, callbacks, max_queue_size, workers, use_multiprocessing)\u001b[0m\n\u001b[1;32m    907\u001b[0m         \u001b[0mmax_queue_size\u001b[0m\u001b[0;34m=\u001b[0m\u001b[0mmax_queue_size\u001b[0m\u001b[0;34m,\u001b[0m\u001b[0;34m\u001b[0m\u001b[0;34m\u001b[0m\u001b[0m\n\u001b[1;32m    908\u001b[0m         \u001b[0mworkers\u001b[0m\u001b[0;34m=\u001b[0m\u001b[0mworkers\u001b[0m\u001b[0;34m,\u001b[0m\u001b[0;34m\u001b[0m\u001b[0;34m\u001b[0m\u001b[0m\n\u001b[0;32m--> 909\u001b[0;31m         use_multiprocessing=use_multiprocessing)\n\u001b[0m\u001b[1;32m    910\u001b[0m \u001b[0;34m\u001b[0m\u001b[0m\n\u001b[1;32m    911\u001b[0m   \u001b[0;32mdef\u001b[0m \u001b[0mreset_metrics\u001b[0m\u001b[0;34m(\u001b[0m\u001b[0mself\u001b[0m\u001b[0;34m)\u001b[0m\u001b[0;34m:\u001b[0m\u001b[0;34m\u001b[0m\u001b[0;34m\u001b[0m\u001b[0m\n",
      "\u001b[0;32m/sps/lsst/users/barcelin/miniconda/envs/python_cpu6/lib/python3.6/site-packages/tensorflow_core/python/keras/engine/training_arrays.py\u001b[0m in \u001b[0;36mpredict\u001b[0;34m(self, model, x, batch_size, verbose, steps, callbacks, **kwargs)\u001b[0m\n\u001b[1;32m    720\u001b[0m         \u001b[0mverbose\u001b[0m\u001b[0;34m=\u001b[0m\u001b[0mverbose\u001b[0m\u001b[0;34m,\u001b[0m\u001b[0;34m\u001b[0m\u001b[0;34m\u001b[0m\u001b[0m\n\u001b[1;32m    721\u001b[0m         \u001b[0msteps\u001b[0m\u001b[0;34m=\u001b[0m\u001b[0msteps\u001b[0m\u001b[0;34m,\u001b[0m\u001b[0;34m\u001b[0m\u001b[0;34m\u001b[0m\u001b[0m\n\u001b[0;32m--> 722\u001b[0;31m         callbacks=callbacks)\n\u001b[0m",
      "\u001b[0;32m/sps/lsst/users/barcelin/miniconda/envs/python_cpu6/lib/python3.6/site-packages/tensorflow_core/python/keras/engine/training_arrays.py\u001b[0m in \u001b[0;36mmodel_iteration\u001b[0;34m(model, inputs, targets, sample_weights, batch_size, epochs, verbose, callbacks, val_inputs, val_targets, val_sample_weights, shuffle, initial_epoch, steps_per_epoch, validation_steps, validation_freq, mode, validation_in_fit, prepared_feed_values_from_dataset, steps_name, **kwargs)\u001b[0m\n\u001b[1;32m    187\u001b[0m   \u001b[0;31m# function we recompile the metrics based on the updated\u001b[0m\u001b[0;34m\u001b[0m\u001b[0;34m\u001b[0m\u001b[0;34m\u001b[0m\u001b[0m\n\u001b[1;32m    188\u001b[0m   \u001b[0;31m# sample_weight_mode value.\u001b[0m\u001b[0;34m\u001b[0m\u001b[0;34m\u001b[0m\u001b[0;34m\u001b[0m\u001b[0m\n\u001b[0;32m--> 189\u001b[0;31m   \u001b[0mf\u001b[0m \u001b[0;34m=\u001b[0m \u001b[0m_make_execution_function\u001b[0m\u001b[0;34m(\u001b[0m\u001b[0mmodel\u001b[0m\u001b[0;34m,\u001b[0m \u001b[0mmode\u001b[0m\u001b[0;34m)\u001b[0m\u001b[0;34m\u001b[0m\u001b[0;34m\u001b[0m\u001b[0m\n\u001b[0m\u001b[1;32m    190\u001b[0m \u001b[0;34m\u001b[0m\u001b[0m\n\u001b[1;32m    191\u001b[0m   \u001b[0;31m# Prepare validation data. Hold references to the iterator and the input list\u001b[0m\u001b[0;34m\u001b[0m\u001b[0;34m\u001b[0m\u001b[0;34m\u001b[0m\u001b[0m\n",
      "\u001b[0;32m/sps/lsst/users/barcelin/miniconda/envs/python_cpu6/lib/python3.6/site-packages/tensorflow_core/python/keras/engine/training_arrays.py\u001b[0m in \u001b[0;36m_make_execution_function\u001b[0;34m(model, mode)\u001b[0m\n\u001b[1;32m    563\u001b[0m   \u001b[0;32mif\u001b[0m \u001b[0mmodel\u001b[0m\u001b[0;34m.\u001b[0m\u001b[0m_distribution_strategy\u001b[0m\u001b[0;34m:\u001b[0m\u001b[0;34m\u001b[0m\u001b[0;34m\u001b[0m\u001b[0m\n\u001b[1;32m    564\u001b[0m     \u001b[0;32mreturn\u001b[0m \u001b[0mdistributed_training_utils\u001b[0m\u001b[0;34m.\u001b[0m\u001b[0m_make_execution_function\u001b[0m\u001b[0;34m(\u001b[0m\u001b[0mmodel\u001b[0m\u001b[0;34m,\u001b[0m \u001b[0mmode\u001b[0m\u001b[0;34m)\u001b[0m\u001b[0;34m\u001b[0m\u001b[0;34m\u001b[0m\u001b[0m\n\u001b[0;32m--> 565\u001b[0;31m   \u001b[0;32mreturn\u001b[0m \u001b[0mmodel\u001b[0m\u001b[0;34m.\u001b[0m\u001b[0m_make_execution_function\u001b[0m\u001b[0;34m(\u001b[0m\u001b[0mmode\u001b[0m\u001b[0;34m)\u001b[0m\u001b[0;34m\u001b[0m\u001b[0;34m\u001b[0m\u001b[0m\n\u001b[0m\u001b[1;32m    566\u001b[0m \u001b[0;34m\u001b[0m\u001b[0m\n\u001b[1;32m    567\u001b[0m \u001b[0;34m\u001b[0m\u001b[0m\n",
      "\u001b[0;32m/sps/lsst/users/barcelin/miniconda/envs/python_cpu6/lib/python3.6/site-packages/tensorflow_core/python/keras/engine/training.py\u001b[0m in \u001b[0;36m_make_execution_function\u001b[0;34m(self, mode)\u001b[0m\n\u001b[1;32m   2188\u001b[0m       \u001b[0;32mreturn\u001b[0m \u001b[0mself\u001b[0m\u001b[0;34m.\u001b[0m\u001b[0mtest_function\u001b[0m\u001b[0;34m\u001b[0m\u001b[0;34m\u001b[0m\u001b[0m\n\u001b[1;32m   2189\u001b[0m     \u001b[0;32mif\u001b[0m \u001b[0mmode\u001b[0m \u001b[0;34m==\u001b[0m \u001b[0mModeKeys\u001b[0m\u001b[0;34m.\u001b[0m\u001b[0mPREDICT\u001b[0m\u001b[0;34m:\u001b[0m\u001b[0;34m\u001b[0m\u001b[0;34m\u001b[0m\u001b[0m\n\u001b[0;32m-> 2190\u001b[0;31m       \u001b[0mself\u001b[0m\u001b[0;34m.\u001b[0m\u001b[0m_make_predict_function\u001b[0m\u001b[0;34m(\u001b[0m\u001b[0;34m)\u001b[0m\u001b[0;34m\u001b[0m\u001b[0;34m\u001b[0m\u001b[0m\n\u001b[0m\u001b[1;32m   2191\u001b[0m       \u001b[0;32mreturn\u001b[0m \u001b[0mself\u001b[0m\u001b[0;34m.\u001b[0m\u001b[0mpredict_function\u001b[0m\u001b[0;34m\u001b[0m\u001b[0;34m\u001b[0m\u001b[0m\n\u001b[1;32m   2192\u001b[0m \u001b[0;34m\u001b[0m\u001b[0m\n",
      "\u001b[0;32m/sps/lsst/users/barcelin/miniconda/envs/python_cpu6/lib/python3.6/site-packages/tensorflow_core/python/keras/engine/training.py\u001b[0m in \u001b[0;36m_make_predict_function\u001b[0;34m(self)\u001b[0m\n\u001b[1;32m   2178\u001b[0m             \u001b[0mupdates\u001b[0m\u001b[0;34m=\u001b[0m\u001b[0mself\u001b[0m\u001b[0;34m.\u001b[0m\u001b[0mstate_updates\u001b[0m\u001b[0;34m,\u001b[0m\u001b[0;34m\u001b[0m\u001b[0;34m\u001b[0m\u001b[0m\n\u001b[1;32m   2179\u001b[0m             \u001b[0mname\u001b[0m\u001b[0;34m=\u001b[0m\u001b[0;34m'predict_function'\u001b[0m\u001b[0;34m,\u001b[0m\u001b[0;34m\u001b[0m\u001b[0;34m\u001b[0m\u001b[0m\n\u001b[0;32m-> 2180\u001b[0;31m             **kwargs)\n\u001b[0m\u001b[1;32m   2181\u001b[0m \u001b[0;34m\u001b[0m\u001b[0m\n\u001b[1;32m   2182\u001b[0m   \u001b[0;32mdef\u001b[0m \u001b[0m_make_execution_function\u001b[0m\u001b[0;34m(\u001b[0m\u001b[0mself\u001b[0m\u001b[0;34m,\u001b[0m \u001b[0mmode\u001b[0m\u001b[0;34m)\u001b[0m\u001b[0;34m:\u001b[0m\u001b[0;34m\u001b[0m\u001b[0;34m\u001b[0m\u001b[0m\n",
      "\u001b[0;32m/sps/lsst/users/barcelin/miniconda/envs/python_cpu6/lib/python3.6/site-packages/tensorflow_core/python/keras/backend.py\u001b[0m in \u001b[0;36mfunction\u001b[0;34m(inputs, outputs, updates, name, **kwargs)\u001b[0m\n\u001b[1;32m   3771\u001b[0m       raise ValueError('Session keyword arguments are not support during '\n\u001b[1;32m   3772\u001b[0m                        'eager execution. You passed: %s' % (kwargs,))\n\u001b[0;32m-> 3773\u001b[0;31m     \u001b[0;32mreturn\u001b[0m \u001b[0mEagerExecutionFunction\u001b[0m\u001b[0;34m(\u001b[0m\u001b[0minputs\u001b[0m\u001b[0;34m,\u001b[0m \u001b[0moutputs\u001b[0m\u001b[0;34m,\u001b[0m \u001b[0mupdates\u001b[0m\u001b[0;34m=\u001b[0m\u001b[0mupdates\u001b[0m\u001b[0;34m,\u001b[0m \u001b[0mname\u001b[0m\u001b[0;34m=\u001b[0m\u001b[0mname\u001b[0m\u001b[0;34m)\u001b[0m\u001b[0;34m\u001b[0m\u001b[0;34m\u001b[0m\u001b[0m\n\u001b[0m\u001b[1;32m   3774\u001b[0m \u001b[0;34m\u001b[0m\u001b[0m\n\u001b[1;32m   3775\u001b[0m   \u001b[0;32mif\u001b[0m \u001b[0mkwargs\u001b[0m\u001b[0;34m:\u001b[0m\u001b[0;34m\u001b[0m\u001b[0;34m\u001b[0m\u001b[0m\n",
      "\u001b[0;32m/sps/lsst/users/barcelin/miniconda/envs/python_cpu6/lib/python3.6/site-packages/tensorflow_core/python/keras/backend.py\u001b[0m in \u001b[0;36m__init__\u001b[0;34m(self, inputs, outputs, updates, name)\u001b[0m\n\u001b[1;32m   3668\u001b[0m             \u001b[0madd_sources\u001b[0m\u001b[0;34m=\u001b[0m\u001b[0;32mTrue\u001b[0m\u001b[0;34m,\u001b[0m\u001b[0;34m\u001b[0m\u001b[0;34m\u001b[0m\u001b[0m\n\u001b[1;32m   3669\u001b[0m             \u001b[0mhandle_captures\u001b[0m\u001b[0;34m=\u001b[0m\u001b[0;32mTrue\u001b[0m\u001b[0;34m,\u001b[0m\u001b[0;34m\u001b[0m\u001b[0;34m\u001b[0m\u001b[0m\n\u001b[0;32m-> 3670\u001b[0;31m             base_graph=source_graph)\n\u001b[0m\u001b[1;32m   3671\u001b[0m \u001b[0;34m\u001b[0m\u001b[0m\n\u001b[1;32m   3672\u001b[0m         \u001b[0minputs\u001b[0m \u001b[0;34m=\u001b[0m \u001b[0;34m[\u001b[0m\u001b[0mlifted_map\u001b[0m\u001b[0;34m[\u001b[0m\u001b[0mi\u001b[0m\u001b[0;34m]\u001b[0m \u001b[0;32mfor\u001b[0m \u001b[0mi\u001b[0m \u001b[0;32min\u001b[0m \u001b[0minputs\u001b[0m\u001b[0;34m]\u001b[0m\u001b[0;34m\u001b[0m\u001b[0;34m\u001b[0m\u001b[0m\n",
      "\u001b[0;32m/sps/lsst/users/barcelin/miniconda/envs/python_cpu6/lib/python3.6/site-packages/tensorflow_core/python/eager/lift_to_graph.py\u001b[0m in \u001b[0;36mlift_to_graph\u001b[0;34m(tensors, graph, sources, disallowed_placeholders, add_sources, handle_captures, base_graph, op_map)\u001b[0m\n\u001b[1;32m    258\u001b[0m         \u001b[0mvisited_ops\u001b[0m\u001b[0;34m=\u001b[0m\u001b[0mvisited_ops\u001b[0m\u001b[0;34m,\u001b[0m\u001b[0;34m\u001b[0m\u001b[0;34m\u001b[0m\u001b[0m\n\u001b[1;32m    259\u001b[0m         \u001b[0mop_outputs\u001b[0m\u001b[0;34m=\u001b[0m\u001b[0mop_outputs\u001b[0m\u001b[0;34m,\u001b[0m\u001b[0;34m\u001b[0m\u001b[0;34m\u001b[0m\u001b[0m\n\u001b[0;32m--> 260\u001b[0;31m         add_sources=add_sources))\n\u001b[0m\u001b[1;32m    261\u001b[0m \u001b[0;34m\u001b[0m\u001b[0m\n\u001b[1;32m    262\u001b[0m   \u001b[0;31m# Try to topologically sort the nodes we've extracted. Now we know how many of\u001b[0m\u001b[0;34m\u001b[0m\u001b[0;34m\u001b[0m\u001b[0;34m\u001b[0m\u001b[0m\n",
      "\u001b[0;32m/sps/lsst/users/barcelin/miniconda/envs/python_cpu6/lib/python3.6/site-packages/tensorflow_core/python/ops/op_selector.py\u001b[0m in \u001b[0;36mmap_subgraph\u001b[0;34m(init_tensor, sources, disallowed_placeholders, visited_ops, op_outputs, add_sources)\u001b[0m\n\u001b[1;32m    402\u001b[0m     \u001b[0;32mif\u001b[0m \u001b[0mdisallowed_placeholders\u001b[0m \u001b[0;32mis\u001b[0m \u001b[0;32mnot\u001b[0m \u001b[0;32mNone\u001b[0m \u001b[0;32mand\u001b[0m \u001b[0mop\u001b[0m \u001b[0;32min\u001b[0m \u001b[0mdisallowed_placeholders\u001b[0m\u001b[0;34m:\u001b[0m\u001b[0;34m\u001b[0m\u001b[0;34m\u001b[0m\u001b[0m\n\u001b[1;32m    403\u001b[0m       \u001b[0mshould_raise\u001b[0m \u001b[0;34m=\u001b[0m \u001b[0;32mTrue\u001b[0m\u001b[0;34m\u001b[0m\u001b[0;34m\u001b[0m\u001b[0m\n\u001b[0;32m--> 404\u001b[0;31m     \u001b[0;32melif\u001b[0m \u001b[0mop\u001b[0m\u001b[0;34m.\u001b[0m\u001b[0mtype\u001b[0m \u001b[0;34m==\u001b[0m \u001b[0;34m\"Placeholder\"\u001b[0m\u001b[0;34m:\u001b[0m\u001b[0;34m\u001b[0m\u001b[0;34m\u001b[0m\u001b[0m\n\u001b[0m\u001b[1;32m    405\u001b[0m       \u001b[0;32mif\u001b[0m \u001b[0mdisallowed_placeholders\u001b[0m \u001b[0;32mis\u001b[0m \u001b[0;32mNone\u001b[0m \u001b[0;32mand\u001b[0m \u001b[0;32mnot\u001b[0m \u001b[0madd_sources\u001b[0m\u001b[0;34m:\u001b[0m\u001b[0;34m\u001b[0m\u001b[0;34m\u001b[0m\u001b[0m\n\u001b[1;32m    406\u001b[0m         \u001b[0mshould_raise\u001b[0m \u001b[0;34m=\u001b[0m \u001b[0;32mTrue\u001b[0m\u001b[0;34m\u001b[0m\u001b[0;34m\u001b[0m\u001b[0m\n",
      "\u001b[0;31mAttributeError\u001b[0m: 'MultivariateNormalTriL' object has no attribute 'type'"
     ]
    }
   ],
   "source": [
    "out = new_model.predict(test[0])"
   ]
  },
  {
   "cell_type": "code",
   "execution_count": 61,
   "metadata": {},
   "outputs": [
    {
     "name": "stderr",
     "output_type": "stream",
     "text": [
      "W0114 17:36:18.709150 140604476471104 base_layer.py:1814] Layer conv2d_48 is casting an input tensor from dtype float64 to the layer's dtype of float32, which is new behavior in TensorFlow 2.  The layer has dtype float32 because it's dtype defaults to floatx.\n",
      "\n",
      "If you intended to run this layer in float32, you can safely ignore this warning. If in doubt, this warning is likely only an issue if you are porting a TensorFlow 1.X model to TensorFlow 2.\n",
      "\n",
      "To change all layers to have dtype float64 by default, call `tf.keras.backend.set_floatx('float64')`. To change just this layer, pass dtype='float64' to the layer constructor. If you are the author of this layer, you can disable autocasting by passing autocast=False to the base Layer constructor.\n",
      "\n"
     ]
    }
   ],
   "source": [
    "out = new_model(test[0])"
   ]
  },
  {
   "cell_type": "code",
   "execution_count": 62,
   "metadata": {},
   "outputs": [],
   "source": [
    "out_mean = out.mean()"
   ]
  },
  {
   "cell_type": "code",
   "execution_count": 63,
   "metadata": {},
   "outputs": [
    {
     "data": {
      "text/plain": [
       "<tf.Tensor: id=213447, shape=(100, 3), dtype=float32, numpy=\n",
       "array([[ 1.17471790e+01,  4.52402115e-01, -1.07982206e+01],\n",
       "       [ 6.47790527e+01, -3.48112488e+01,  1.60926666e+01],\n",
       "       [ 2.45941284e+02,  4.40437561e+02,  5.86642151e+01],\n",
       "       [ 7.95884037e+00,  3.82130051e+01,  5.10961628e+00],\n",
       "       [ 5.01833496e+01,  1.11367355e+02,  1.23649597e+00],\n",
       "       [ 2.58573723e+01, -2.68151588e+01,  2.07610512e+01],\n",
       "       [ 3.42925224e+01,  3.87512970e+01, -7.02296400e+00],\n",
       "       [ 1.25467834e+01,  6.34360504e+00,  1.23673267e+01],\n",
       "       [ 1.56780777e+01, -2.86492252e+01,  7.44986649e+01],\n",
       "       [ 2.36715393e+02, -2.39944550e+02,  1.23337097e+01],\n",
       "       [ 5.82087631e+01,  3.93832855e+01,  3.16579628e+00],\n",
       "       [-2.17479019e+01,  3.51733971e+01, -1.75909519e+01],\n",
       "       [ 1.25028038e+01, -7.72834921e+00,  4.07332420e+00],\n",
       "       [ 6.17277260e+01, -1.37399330e+01, -3.11870270e+01],\n",
       "       [ 2.75835466e+00, -7.77386665e-01,  4.25636339e+00],\n",
       "       [ 2.27478600e+01,  2.68839874e+01,  3.24867272e+00],\n",
       "       [ 1.14871418e+00,  7.02087498e+00,  1.53634357e+00],\n",
       "       [ 1.42447939e+01,  5.97113895e+00,  2.88046093e+01],\n",
       "       [ 6.88711472e+01,  2.45500336e+01,  3.08166170e+00],\n",
       "       [-2.03167915e+00, -5.58024406e+00, -1.12672882e+01],\n",
       "       [ 6.95534897e+00,  1.30525694e+01,  4.40194988e+00],\n",
       "       [ 2.54649086e+01,  1.05634975e+01,  6.45626688e+00],\n",
       "       [ 3.47626305e+01, -1.31523342e+01, -2.94916840e+01],\n",
       "       [ 4.88683891e+01,  6.09266930e+01,  7.42756844e+00],\n",
       "       [ 9.09593201e+00,  6.40539703e+01, -2.02286682e+01],\n",
       "       [ 2.24685268e+01,  1.94693470e+01, -3.55583096e+00],\n",
       "       [ 8.40863943e-01,  8.61640453e+00,  5.54554129e+00],\n",
       "       [ 4.12057953e+01,  1.85742813e+02,  5.46333389e+01],\n",
       "       [ 3.72705933e+02,  7.92787552e+01,  1.58193207e+01],\n",
       "       [ 1.95740223e+01, -3.52268219e+00,  1.94925499e+01],\n",
       "       [ 1.65178947e+01, -7.13268137e+00, -6.36442566e+00],\n",
       "       [ 1.81133480e+01, -1.39257030e+01, -2.69725761e+01],\n",
       "       [ 4.64621544e+01,  5.53846741e+00,  3.53647995e+00],\n",
       "       [ 4.37933350e+01, -9.13198566e+00, -1.75766392e+01],\n",
       "       [ 2.23471771e+02, -1.56170166e+02, -2.02005539e+01],\n",
       "       [ 2.21615601e+00,  1.18927574e+00, -1.87392592e+00],\n",
       "       [ 1.15120895e+02,  2.79693642e+01, -1.22832230e+02],\n",
       "       [ 5.71264219e+00,  8.65321827e+00,  6.41137218e+00],\n",
       "       [ 5.26222610e+01,  7.49567032e-01,  1.50408649e+00],\n",
       "       [ 1.25072308e+01,  6.17494917e+00, -1.43939638e+00],\n",
       "       [ 2.87689629e+01,  8.17946672e-01,  1.09558296e+01],\n",
       "       [ 3.33171730e+01,  1.54240875e+01, -3.02875519e-01],\n",
       "       [ 3.66997147e+01, -2.67078075e+01, -1.60050049e+01],\n",
       "       [ 1.00010862e+01,  1.03666210e+01, -1.48793812e+01],\n",
       "       [ 1.24821609e+02,  5.30712547e+01,  4.67150917e+01],\n",
       "       [ 9.81445694e+00, -9.85317421e+00,  2.26552811e+01],\n",
       "       [ 1.69493885e+01,  3.26256752e-01, -7.40923309e+00],\n",
       "       [ 4.08131409e+01, -2.84045773e+01, -2.65583439e+01],\n",
       "       [ 1.31869383e+01, -1.69032478e+01,  2.02057228e+01],\n",
       "       [ 9.98748875e+00,  3.97889328e+01, -2.17501945e+01],\n",
       "       [ 2.64126892e+01,  1.55624680e+02,  4.96492920e+01],\n",
       "       [ 4.20147476e+01,  1.55344896e+01,  5.27987385e+00],\n",
       "       [ 9.51586151e+00, -9.04891014e+00,  2.22179604e+00],\n",
       "       [ 1.94343376e+01, -1.34874129e+00,  4.81790066e+00],\n",
       "       [-7.36982346e-01, -8.51044369e+00, -4.82057114e+01],\n",
       "       [ 8.67124176e+00,  1.34727287e+00,  4.57863808e+00],\n",
       "       [ 9.01422596e+00, -7.57500935e+00,  8.56213093e+00],\n",
       "       [ 1.29895220e+01, -1.31046505e+01, -4.10743999e+00],\n",
       "       [ 6.49770975e-01, -1.41793823e+00,  1.29431477e+01],\n",
       "       [ 2.66181068e+01,  2.38800182e+01, -8.66931915e+00],\n",
       "       [ 2.85510368e+01, -1.90418510e+01, -1.10626125e+00],\n",
       "       [ 9.01671124e+00,  1.52273283e+01, -2.35336533e+01],\n",
       "       [ 2.46688919e+01,  5.27796707e+01,  7.00189829e+00],\n",
       "       [ 4.41811256e+01,  1.77307243e+01, -3.91856918e+01],\n",
       "       [ 2.10517883e+00, -3.16870975e+00, -1.46051416e+01],\n",
       "       [ 5.04621735e+01, -3.12127972e+00,  1.94455357e+01],\n",
       "       [-1.45283966e+01,  2.14698811e+01, -4.11554794e+01],\n",
       "       [ 7.97370377e+01,  6.65776978e+01, -7.14109192e+01],\n",
       "       [-1.66832209e+00,  1.85095596e+01,  1.44433022e+00],\n",
       "       [ 2.50502157e+00,  1.82404099e+01, -7.85840511e+00],\n",
       "       [ 2.71401954e+00, -2.05626631e+00, -5.18646622e+00],\n",
       "       [ 3.37436199e-01,  1.70154095e+01,  4.67842293e+00],\n",
       "       [ 1.47499008e+01,  1.20818205e+01, -6.85686874e+00],\n",
       "       [-4.47537041e+00,  8.29693413e+00,  1.25519619e+01],\n",
       "       [ 5.47655258e+01,  2.77228775e+01,  1.15840092e+01],\n",
       "       [ 3.22712851e+00,  5.33835888e+00, -1.46789494e+01],\n",
       "       [ 1.25875101e+01,  7.00078773e+00,  1.09012260e+01],\n",
       "       [ 1.85640545e+01,  3.74830589e+01, -1.71674061e+00],\n",
       "       [ 1.45689411e+01, -2.67188835e+00,  1.21685944e+01],\n",
       "       [ 2.45934887e+01,  1.19823809e+01, -1.13716078e+01],\n",
       "       [-1.54055834e-01,  2.57782688e+01, -2.43224049e+00],\n",
       "       [-1.98530540e+01, -1.22842598e+00,  2.14978790e+01],\n",
       "       [ 3.53309517e+01, -1.10726566e+01,  2.30268173e+01],\n",
       "       [ 2.01194859e+01,  6.11238384e+00,  2.26041126e+01],\n",
       "       [ 3.14454079e+00, -7.93327332e+00, -2.46638985e+01],\n",
       "       [ 3.06955013e+01, -5.67081022e+00,  1.29759293e+01],\n",
       "       [ 3.56493568e+00,  2.39508963e+00, -4.37806320e+01],\n",
       "       [ 1.22086382e+00,  5.94946404e+01,  7.19728374e+00],\n",
       "       [ 1.48232174e+01,  2.59315929e+01,  9.85278702e+00],\n",
       "       [ 1.06363478e+01, -2.66896152e+00, -5.16657829e-02],\n",
       "       [ 1.30569172e+01, -1.02084770e+01,  5.76734304e+00],\n",
       "       [ 1.22258091e+01,  7.17847538e+00,  9.32303047e+00],\n",
       "       [ 3.80488920e+00,  1.98619537e+01,  2.08037167e+01],\n",
       "       [ 1.05511713e+01,  2.10054092e+01,  9.75055695e+00],\n",
       "       [-3.59127760e+00, -1.32336426e+00,  1.06493673e+01],\n",
       "       [ 3.66075611e+00, -1.36745262e+00, -5.59434032e+00],\n",
       "       [ 1.41978703e+01,  4.11357021e+00,  5.20364475e+00],\n",
       "       [ 6.64828205e+00, -2.50987816e+00, -3.41775417e+00],\n",
       "       [ 8.67387199e+00,  1.49037838e-01, -1.07307386e+00],\n",
       "       [ 2.72483387e+01,  5.18303070e+01,  1.57422009e+01]], dtype=float32)>"
      ]
     },
     "execution_count": 63,
     "metadata": {},
     "output_type": "execute_result"
    }
   ],
   "source": [
    "out_mean"
   ]
  },
  {
   "cell_type": "code",
   "execution_count": 64,
   "metadata": {},
   "outputs": [
    {
     "data": {
      "text/plain": [
       "<matplotlib.axes._subplots.AxesSubplot at 0x7fdeeb972320>"
      ]
     },
     "execution_count": 64,
     "metadata": {},
     "output_type": "execute_result"
    },
    {
     "data": {
      "image/png": "[encoded data removed]",
      "text/plain": [
       "<Figure size 432x288 with 1 Axes>"
      ]
     },
     "metadata": {
      "needs_background": "light"
     },
     "output_type": "display_data"
    }
   ],
   "source": [
    "sns.distplot(out_mean[:,0], bins = 20)\n",
    "sns.distplot(test[1][:,0], bins = 20)"
   ]
  },
  {
   "cell_type": "code",
   "execution_count": 25,
   "metadata": {},
   "outputs": [
    {
     "data": {
      "text/plain": [
       "<matplotlib.axes._subplots.AxesSubplot at 0x7f21b405f470>"
      ]
     },
     "execution_count": 25,
     "metadata": {},
     "output_type": "execute_result"
    },
    {
     "data": {
      "image/png": "[encoded data removed]",
      "text/plain": [
       "<Figure size 432x288 with 1 Axes>"
      ]
     },
     "metadata": {
      "needs_background": "light"
     },
     "output_type": "display_data"
    }
   ],
   "source": [
    "sns.distplot(out[:,2], bins = 20)\n",
    "sns.distplot(test[1][:,2], bins = 20)"
   ]
  },
  {
   "cell_type": "code",
   "execution_count": 283,
   "metadata": {},
   "outputs": [
    {
     "name": "stdout",
     "output_type": "stream",
     "text": [
      "[ 1.7217293   0.8821109  -0.07805949 -0.9111776   2.0128024   0.6241628\n",
      "  2.0201128   0.86363286  0.05856061  1.6288843   2.8217096   1.239708\n",
      "  1.6447608   1.6213908   1.0330833   0.10366505  0.47666746  0.6071119\n",
      "  0.6937348   0.12835085  2.0007744   0.9191674   1.6952224   1.6668725\n",
      "  1.475757    2.3583367   2.0119946   0.94068897  1.1634471   1.6641474\n",
      "  1.1032076  -0.03303921  1.6483481  -0.15157431  0.57106936  1.430053\n",
      "  2.6346593   0.18079817  0.68502504  2.3311448   1.3789172   1.511142\n",
      " -0.13274527  1.2875834   0.463654    0.53283834  1.1207008   0.6515695\n",
      "  1.7630503   1.0027022   0.60666513 -0.03694928  1.5720983   0.37975663\n",
      "  1.3906693   1.5281181   0.48871678  0.964806    1.1679019   1.2853928\n",
      "  1.414041    1.9823854  -0.6705128   0.15784776  1.3769997   1.2592883\n",
      "  0.30435264  0.9929921   0.81915665  1.0822244   0.5606001   1.6867698\n",
      "  0.03388     1.4905257  -0.01263738  0.34085166  0.9334474   2.04547\n",
      "  1.6071746   1.9261372   0.71732014  0.7982101   1.3039705   0.4442104\n",
      "  0.4425673   1.5786281   0.8510945  -0.8855081   1.8568549   1.952711\n",
      "  1.0083576   1.4770057   0.95528805  1.1449239   2.4899092  -0.8638378\n",
      "  2.0735588   2.0352933   1.5584587   1.0048221 ]\n"
     ]
    }
   ],
   "source": [
    "print(out[:,2])"
   ]
  },
  {
   "cell_type": "code",
   "execution_count": 26,
   "metadata": {},
   "outputs": [
    {
     "data": {
      "text/plain": [
       "[<matplotlib.lines.Line2D at 0x7f21ac529f60>]"
      ]
     },
     "execution_count": 26,
     "metadata": {},
     "output_type": "execute_result"
    },
    {
     "data": {
      "image/png": "[encoded data removed]",
      "text/plain": [
       "<Figure size 432x288 with 1 Axes>"
      ]
     },
     "metadata": {
      "needs_background": "light"
     },
     "output_type": "display_data"
    }
   ],
   "source": [
    "plt.plot(test[1][:,0], out[:,0], 'o')\n",
    "x = np.linspace(-1,1)\n",
    "plt.plot(x, x)"
   ]
  },
  {
   "cell_type": "code",
   "execution_count": 27,
   "metadata": {},
   "outputs": [],
   "source": [
    "test_2 = np.load(list_of_samples[0], mmap_mode = 'c')[:10000,1,4:]"
   ]
  },
  {
   "cell_type": "code",
   "execution_count": 28,
   "metadata": {},
   "outputs": [],
   "source": [
    "test_2 = test_2.transpose(0,2,3,1)"
   ]
  },
  {
   "cell_type": "code",
   "execution_count": 29,
   "metadata": {},
   "outputs": [
    {
     "data": {
      "text/plain": [
       "(10000, 64, 64, 6)"
      ]
     },
     "execution_count": 29,
     "metadata": {},
     "output_type": "execute_result"
    }
   ],
   "source": [
    "test_2.shape"
   ]
  },
  {
   "cell_type": "code",
   "execution_count": 30,
   "metadata": {},
   "outputs": [],
   "source": [
    "out = model.predict(test_2)"
   ]
  },
  {
   "cell_type": "code",
   "execution_count": 31,
   "metadata": {},
   "outputs": [],
   "source": [
    "data = pd.read_csv('/sps/lsst/users/barcelin/data/isolated_galaxies/centered/test/galaxies_isolated_20191024_0_data.csv')\n",
    "\n",
    "input_test = data['e1'][:10000]"
   ]
  },
  {
   "cell_type": "code",
   "execution_count": 32,
   "metadata": {},
   "outputs": [
    {
     "data": {
      "text/plain": [
       "[<matplotlib.lines.Line2D at 0x7f21ac3ee630>]"
      ]
     },
     "execution_count": 32,
     "metadata": {},
     "output_type": "execute_result"
    },
    {
     "data": {
      "image/png": "[encoded data removed]",
      "text/plain": [
       "<Figure size 432x288 with 1 Axes>"
      ]
     },
     "metadata": {
      "needs_background": "light"
     },
     "output_type": "display_data"
    }
   ],
   "source": [
    "plt.hist2d(input_test, out[:,0], bins = 100)\n",
    "x = np.linspace(-1,1)\n",
    "plt.plot(x, x)"
   ]
  },
  {
   "cell_type": "code",
   "execution_count": 18,
   "metadata": {},
   "outputs": [],
   "source": [
    "#### Create encooder\n",
    "def build_encoder_2(latent_dim, hidden_dim, filters, kernels,nb_of_bands, conv_activation=None, dense_activation=None):#'sofplus'\n",
    "    \"\"\"\n",
    "    Return encoder as model\n",
    "    latent_dim : dimension of the latent variable\n",
    "    hidden_dim : dimension of the dense hidden layer\n",
    "    filters: list of the sizes of the filters used for this model\n",
    "    list of the size of the kernels used for each filter of this model\n",
    "    conv_activation: type of activation layer used after the convolutional layers\n",
    "    dense_activation: type of activation layer used after the dense layers\n",
    "    nb_of bands : nb of band-pass filters needed in the model\n",
    "    \"\"\"\n",
    "    input_layer = Input(shape=(64,64,nb_of_bands))\n",
    "\n",
    "    h = Reshape((64,64,nb_of_bands))(input_layer)\n",
    "    h = BatchNormalization()(h)\n",
    "    for i in range(len(filters)):\n",
    "        h = Conv2D(filters[i], (kernels[i],kernels[i]), activation=conv_activation, padding='same')(h)\n",
    "        h = PReLU()(h)\n",
    "        h = Conv2D(filters[i], (kernels[i],kernels[i]), activation=conv_activation, padding='same', strides=(2,2))(h)\n",
    "        h = PReLU()(h)\n",
    "    h = Flatten()(h)\n",
    "    h = Dense(hidden_dim, activation=dense_activation)(h)\n",
    "    h = PReLU()(h)\n",
    "    mu = Dense(latent_dim)(h)\n",
    "    sigma = Dense(latent_dim, activation='softplus')(h)\n",
    "\n",
    "    return Model(input_layer, [mu, sigma])"
   ]
  },
  {
   "cell_type": "code",
   "execution_count": 29,
   "metadata": {},
   "outputs": [],
   "source": [
    "encoder = build_encoder_2(latent_dim, hidden_dim, filters, kernels, nb_of_bands)"
   ]
  },
  {
   "cell_type": "code",
   "execution_count": 30,
   "metadata": {},
   "outputs": [
    {
     "name": "stdout",
     "output_type": "stream",
     "text": [
      "Model: \"model_4\"\n",
      "__________________________________________________________________________________________________\n",
      "Layer (type)                    Output Shape         Param #     Connected to                     \n",
      "==================================================================================================\n",
      "input_10 (InputLayer)           [(None, 64, 64, 6)]  0                                            \n",
      "__________________________________________________________________________________________________\n",
      "reshape_5 (Reshape)             (None, 64, 64, 6)    0           input_10[0][0]                   \n",
      "__________________________________________________________________________________________________\n",
      "batch_normalization_6 (BatchNor (None, 64, 64, 6)    24          reshape_5[0][0]                  \n",
      "__________________________________________________________________________________________________\n",
      "conv2d_48 (Conv2D)              (None, 64, 64, 32)   1760        batch_normalization_6[0][0]      \n",
      "__________________________________________________________________________________________________\n",
      "p_re_lu_57 (PReLU)              (None, 64, 64, 32)   131072      conv2d_48[0][0]                  \n",
      "__________________________________________________________________________________________________\n",
      "conv2d_49 (Conv2D)              (None, 32, 32, 32)   9248        p_re_lu_57[0][0]                 \n",
      "__________________________________________________________________________________________________\n",
      "p_re_lu_58 (PReLU)              (None, 32, 32, 32)   32768       conv2d_49[0][0]                  \n",
      "__________________________________________________________________________________________________\n",
      "conv2d_50 (Conv2D)              (None, 32, 32, 64)   18496       p_re_lu_58[0][0]                 \n",
      "__________________________________________________________________________________________________\n",
      "p_re_lu_59 (PReLU)              (None, 32, 32, 64)   65536       conv2d_50[0][0]                  \n",
      "__________________________________________________________________________________________________\n",
      "conv2d_51 (Conv2D)              (None, 16, 16, 64)   36928       p_re_lu_59[0][0]                 \n",
      "__________________________________________________________________________________________________\n",
      "p_re_lu_60 (PReLU)              (None, 16, 16, 64)   16384       conv2d_51[0][0]                  \n",
      "__________________________________________________________________________________________________\n",
      "conv2d_52 (Conv2D)              (None, 16, 16, 128)  73856       p_re_lu_60[0][0]                 \n",
      "__________________________________________________________________________________________________\n",
      "p_re_lu_61 (PReLU)              (None, 16, 16, 128)  32768       conv2d_52[0][0]                  \n",
      "__________________________________________________________________________________________________\n",
      "conv2d_53 (Conv2D)              (None, 8, 8, 128)    147584      p_re_lu_61[0][0]                 \n",
      "__________________________________________________________________________________________________\n",
      "p_re_lu_62 (PReLU)              (None, 8, 8, 128)    8192        conv2d_53[0][0]                  \n",
      "__________________________________________________________________________________________________\n",
      "conv2d_54 (Conv2D)              (None, 8, 8, 256)    295168      p_re_lu_62[0][0]                 \n",
      "__________________________________________________________________________________________________\n",
      "p_re_lu_63 (PReLU)              (None, 8, 8, 256)    16384       conv2d_54[0][0]                  \n",
      "__________________________________________________________________________________________________\n",
      "conv2d_55 (Conv2D)              (None, 4, 4, 256)    590080      p_re_lu_63[0][0]                 \n",
      "__________________________________________________________________________________________________\n",
      "p_re_lu_64 (PReLU)              (None, 4, 4, 256)    4096        conv2d_55[0][0]                  \n",
      "__________________________________________________________________________________________________\n",
      "flatten_7 (Flatten)             (None, 4096)         0           p_re_lu_64[0][0]                 \n",
      "__________________________________________________________________________________________________\n",
      "dense_22 (Dense)                (None, 256)          1048832     flatten_7[0][0]                  \n",
      "__________________________________________________________________________________________________\n",
      "p_re_lu_65 (PReLU)              (None, 256)          256         dense_22[0][0]                   \n",
      "__________________________________________________________________________________________________\n",
      "dense_23 (Dense)                (None, 32)           8224        p_re_lu_65[0][0]                 \n",
      "__________________________________________________________________________________________________\n",
      "dense_24 (Dense)                (None, 32)           8224        p_re_lu_65[0][0]                 \n",
      "==================================================================================================\n",
      "Total params: 2,545,880\n",
      "Trainable params: 2,545,868\n",
      "Non-trainable params: 12\n",
      "__________________________________________________________________________________________________\n"
     ]
    }
   ],
   "source": [
    "encoder.summary()"
   ]
  },
  {
   "cell_type": "code",
   "execution_count": 21,
   "metadata": {},
   "outputs": [],
   "source": [
    "#### Create encooder\n",
    "def build_decoder(input_shape, latent_dim, hidden_dim, filters, kernels, conv_activation=None, dense_activation=None):\n",
    "    \"\"\"\n",
    "    Return decoder as model\n",
    "    input_shape: shape of the input data\n",
    "    latent_dim : dimension of the latent variable\n",
    "    hidden_dim : dimension of the dense hidden layer\n",
    "    filters: list of the sizes of the filters used for this model\n",
    "    list of the size of the kernels used for each filter of this model\n",
    "    conv_activation: type of activation layer used after the convolutional layers\n",
    "    dense_activation: type of activation layer used after the dense layers\n",
    "    \"\"\"\n",
    "    # input_layer = Input(shape=(latent_dim,))\n",
    "    # h = Dense(hidden_dim, activation=dense_activation)(input_layer)\n",
    "    # h = PReLU()(h)\n",
    "    # h = Dense(hidden_dim*2, activation=dense_activation)(input_layer)\n",
    "    # h = PReLU()(h)\n",
    "    # h = tfp.distributions.MultivariateNormalDiag()\n",
    "    final_dim = 3\n",
    "\n",
    "    prior_output = tfd.Independent(tfd.Normal(loc=tf.zeros(final_dim), scale=1),\n",
    "                            reinterpreted_batch_ndims=1)\n",
    "\n",
    "    decoder = tf.keras.Sequential([\n",
    "        tf.keras.layers.InputLayer(input_shape=(latent_dim)),\n",
    "        tf.keras.layers.Dense(512, activation=None),\n",
    "        tf.keras.layers.PReLU(),\n",
    "        tf.keras.layers.Dense(256, activation=None),\n",
    "        tf.keras.layers.PReLU(),\n",
    "        tf.keras.layers.Dense(tfp.layers.MultivariateNormalTriL.params_size(final_dim),\n",
    "                activation=None),\n",
    "        tfp.layers.MultivariateNormalTriL(final_dim)\n",
    "    ])\n",
    "\n",
    "    return decoder\n",
    "\n",
    "\n",
    "\n",
    "# Function to define model\n",
    "\n",
    "def vae_model(latent_dim, nb_of_bands):\n",
    "    \"\"\"\n",
    "    Function to create VAE model\n",
    "    nb_of bands : nb of band-pass filters needed in the model\n",
    "    \"\"\"\n",
    "\n",
    "    #### Parameters to fix\n",
    "    # batch_size : size of the batch given to the network\n",
    "    # input_shape: shape of the input data\n",
    "    # latent_dim : dimension of the latent variable\n",
    "    # hidden_dim : dimension of the dense hidden layer\n",
    "    # filters: list of the sizes of the filters used for this model\n",
    "    # kernels: list of the size of the kernels used for each filter of this model\n",
    "\n",
    "    batch_size = 100 \n",
    "    \n",
    "    input_shape = (64, 64, nb_of_bands)\n",
    "    hidden_dim = 256\n",
    "    filters = [32, 64, 128, 256]\n",
    "    kernels = [3,3,3,3]\n",
    "\n",
    "    # Build the encoder\n",
    "    encoder = build_encoder_2(latent_dim, hidden_dim, filters, kernels, nb_of_bands)\n",
    "    # Build the decoder\n",
    "    decoder = build_decoder(input_shape, latent_dim, hidden_dim, filters, kernels, conv_activation=None, dense_activation=None)\n",
    "\n",
    "    \n",
    "    return encoder, decoder"
   ]
  },
  {
   "cell_type": "code",
   "execution_count": 22,
   "metadata": {},
   "outputs": [],
   "source": [
    "encoder, decoder = vae_model(32, 6)\n",
    "\n",
    "#model = tf.keras.Model(inputs=encoder.inputs,\n",
    "                #outputs=decoder(encoder.outputs[0]))"
   ]
  },
  {
   "cell_type": "code",
   "execution_count": 28,
   "metadata": {},
   "outputs": [
    {
     "name": "stdout",
     "output_type": "stream",
     "text": [
      "Model: \"sequential_2\"\n",
      "_________________________________________________________________\n",
      "Layer (type)                 Output Shape              Param #   \n",
      "=================================================================\n",
      "dense_19 (Dense)             (None, 512)               16896     \n",
      "_________________________________________________________________\n",
      "p_re_lu_55 (PReLU)           (None, 512)               512       \n",
      "_________________________________________________________________\n",
      "dense_20 (Dense)             (None, 256)               131328    \n",
      "_________________________________________________________________\n",
      "p_re_lu_56 (PReLU)           (None, 256)               256       \n",
      "_________________________________________________________________\n",
      "dense_21 (Dense)             (None, 9)                 2313      \n",
      "_________________________________________________________________\n",
      "multivariate_normal_tri_l_2  ((None, 3), (None, 3))    0         \n",
      "=================================================================\n",
      "Total params: 151,305\n",
      "Trainable params: 151,305\n",
      "Non-trainable params: 0\n",
      "_________________________________________________________________\n"
     ]
    }
   ],
   "source": [
    "decoder.summary()"
   ]
  },
  {
   "cell_type": "code",
   "execution_count": 26,
   "metadata": {},
   "outputs": [],
   "source": [
    "model, Dkl = vae_functions.build_vanilla_vae(encoder, decoder, full_cov=False, coeff_KL = 0)"
   ]
  },
  {
   "cell_type": "code",
   "execution_count": 27,
   "metadata": {},
   "outputs": [
    {
     "name": "stdout",
     "output_type": "stream",
     "text": [
      "Model: \"model_3\"\n",
      "__________________________________________________________________________________________________\n",
      "Layer (type)                    Output Shape         Param #     Connected to                     \n",
      "==================================================================================================\n",
      "input_9 (InputLayer)            [(None, 64, 64, 6)]  0                                            \n",
      "__________________________________________________________________________________________________\n",
      "model_2 (Model)                 [(None, 32), (None,  2545880     input_9[0][0]                    \n",
      "__________________________________________________________________________________________________\n",
      "sample_multivariate_gaussian (S ((None, 32), (None,) 0           model_2[1][0]                    \n",
      "                                                                 model_2[1][1]                    \n",
      "__________________________________________________________________________________________________\n",
      "sequential_2 (Sequential)       (None, 3)            151305      sample_multivariate_gaussian[0][0\n",
      "==================================================================================================\n",
      "Total params: 2,697,185\n",
      "Trainable params: 2,697,173\n",
      "Non-trainable params: 12\n",
      "__________________________________________________________________________________________________\n"
     ]
    }
   ],
   "source": [
    "model.summary()"
   ]
  },
  {
   "cell_type": "code",
   "execution_count": 42,
   "metadata": {},
   "outputs": [],
   "source": [
    "negative_log_likelihood = lambda x, rv_x: -rv_x.log_prob(x)"
   ]
  },
  {
   "cell_type": "code",
   "execution_count": 47,
   "metadata": {},
   "outputs": [],
   "source": [
    "alpha = K.variable(1e-2)\n",
    "\n",
    "def vae_loss(x, x_decoded_mean):\n",
    "    log_likelihood = negative_log_likelihood(x, x_decoded_mean)\n",
    "    kl_loss = K.get_value(alpha) * Dkl #K.get_value(alpha)\n",
    "    return log_likelihood + K.mean(kl_loss)#K.mean(kl_loss)\n",
    "\n",
    "######## Compile the VAE\n",
    "model.compile(optimizer=tf.optimizers.Adam(learning_rate=1e-3), loss=vae_loss)"
   ]
  },
  {
   "cell_type": "code",
   "execution_count": 48,
   "metadata": {},
   "outputs": [
    {
     "name": "stdout",
     "output_type": "stream",
     "text": [
      "Epoch 1/10\n",
      "1/8 [==>...........................]"
     ]
    },
    {
     "ename": "NotImplementedError",
     "evalue": "Cannot convert a symbolic Tensor (truediv_5:0) to a numpy array.",
     "output_type": "error",
     "traceback": [
      "\u001b[0;31m\u001b[0m",
      "\u001b[0;31mNotImplementedError\u001b[0mTraceback (most recent call last)",
      "\u001b[0;32m<ipython-input-48-a56a5e81021d>\u001b[0m in \u001b[0;36m<module>\u001b[0;34m\u001b[0m\n\u001b[1;32m      9\u001b[0m           \u001b[0;31m#max_queue_size=4,\u001b[0m\u001b[0;34m\u001b[0m\u001b[0;34m\u001b[0m\u001b[0;34m\u001b[0m\u001b[0m\n\u001b[1;32m     10\u001b[0m           \u001b[0mworkers\u001b[0m\u001b[0;34m=\u001b[0m\u001b[0;36m0\u001b[0m\u001b[0;34m,\u001b[0m\u001b[0;31m#4\u001b[0m\u001b[0;34m\u001b[0m\u001b[0;34m\u001b[0m\u001b[0m\n\u001b[0;32m---> 11\u001b[0;31m           use_multiprocessing = False)\n\u001b[0m",
      "\u001b[0;32m/sps/lsst/users/barcelin/miniconda/envs/python_cpu6/lib/python3.6/site-packages/tensorflow_core/python/keras/engine/training.py\u001b[0m in \u001b[0;36mfit_generator\u001b[0;34m(self, generator, steps_per_epoch, epochs, verbose, callbacks, validation_data, validation_steps, validation_freq, class_weight, max_queue_size, workers, use_multiprocessing, shuffle, initial_epoch)\u001b[0m\n\u001b[1;32m   1295\u001b[0m         \u001b[0mshuffle\u001b[0m\u001b[0;34m=\u001b[0m\u001b[0mshuffle\u001b[0m\u001b[0;34m,\u001b[0m\u001b[0;34m\u001b[0m\u001b[0;34m\u001b[0m\u001b[0m\n\u001b[1;32m   1296\u001b[0m         \u001b[0minitial_epoch\u001b[0m\u001b[0;34m=\u001b[0m\u001b[0minitial_epoch\u001b[0m\u001b[0;34m,\u001b[0m\u001b[0;34m\u001b[0m\u001b[0;34m\u001b[0m\u001b[0m\n\u001b[0;32m-> 1297\u001b[0;31m         steps_name='steps_per_epoch')\n\u001b[0m\u001b[1;32m   1298\u001b[0m \u001b[0;34m\u001b[0m\u001b[0m\n\u001b[1;32m   1299\u001b[0m   def evaluate_generator(self,\n",
      "\u001b[0;32m/sps/lsst/users/barcelin/miniconda/envs/python_cpu6/lib/python3.6/site-packages/tensorflow_core/python/keras/engine/training_generator.py\u001b[0m in \u001b[0;36mmodel_iteration\u001b[0;34m(model, data, steps_per_epoch, epochs, verbose, callbacks, validation_data, validation_steps, validation_freq, class_weight, max_queue_size, workers, use_multiprocessing, shuffle, initial_epoch, mode, batch_size, steps_name, **kwargs)\u001b[0m\n\u001b[1;32m    293\u001b[0m       \u001b[0mbatch_logs\u001b[0m \u001b[0;34m=\u001b[0m \u001b[0mcbks\u001b[0m\u001b[0;34m.\u001b[0m\u001b[0mmake_logs\u001b[0m\u001b[0;34m(\u001b[0m\u001b[0mmodel\u001b[0m\u001b[0;34m,\u001b[0m \u001b[0mbatch_logs\u001b[0m\u001b[0;34m,\u001b[0m \u001b[0mbatch_outs\u001b[0m\u001b[0;34m,\u001b[0m \u001b[0mmode\u001b[0m\u001b[0;34m)\u001b[0m\u001b[0;34m\u001b[0m\u001b[0;34m\u001b[0m\u001b[0m\n\u001b[1;32m    294\u001b[0m       \u001b[0mcallbacks\u001b[0m\u001b[0;34m.\u001b[0m\u001b[0m_call_batch_hook\u001b[0m\u001b[0;34m(\u001b[0m\u001b[0mmode\u001b[0m\u001b[0;34m,\u001b[0m \u001b[0;34m'end'\u001b[0m\u001b[0;34m,\u001b[0m \u001b[0mstep\u001b[0m\u001b[0;34m,\u001b[0m \u001b[0mbatch_logs\u001b[0m\u001b[0;34m)\u001b[0m\u001b[0;34m\u001b[0m\u001b[0;34m\u001b[0m\u001b[0m\n\u001b[0;32m--> 295\u001b[0;31m       \u001b[0mprogbar\u001b[0m\u001b[0;34m.\u001b[0m\u001b[0mon_batch_end\u001b[0m\u001b[0;34m(\u001b[0m\u001b[0mstep\u001b[0m\u001b[0;34m,\u001b[0m \u001b[0mbatch_logs\u001b[0m\u001b[0;34m)\u001b[0m\u001b[0;34m\u001b[0m\u001b[0;34m\u001b[0m\u001b[0m\n\u001b[0m\u001b[1;32m    296\u001b[0m       \u001b[0mstep\u001b[0m \u001b[0;34m+=\u001b[0m \u001b[0;36m1\u001b[0m\u001b[0;34m\u001b[0m\u001b[0;34m\u001b[0m\u001b[0m\n\u001b[1;32m    297\u001b[0m \u001b[0;34m\u001b[0m\u001b[0m\n",
      "\u001b[0;32m/sps/lsst/users/barcelin/miniconda/envs/python_cpu6/lib/python3.6/site-packages/tensorflow_core/python/keras/callbacks.py\u001b[0m in \u001b[0;36mon_batch_end\u001b[0;34m(self, batch, logs)\u001b[0m\n\u001b[1;32m    758\u001b[0m     \u001b[0;31m# will be handled by on_epoch_end.\u001b[0m\u001b[0;34m\u001b[0m\u001b[0;34m\u001b[0m\u001b[0;34m\u001b[0m\u001b[0m\n\u001b[1;32m    759\u001b[0m     \u001b[0;32mif\u001b[0m \u001b[0mself\u001b[0m\u001b[0;34m.\u001b[0m\u001b[0mverbose\u001b[0m \u001b[0;32mand\u001b[0m \u001b[0;34m(\u001b[0m\u001b[0mself\u001b[0m\u001b[0;34m.\u001b[0m\u001b[0mtarget\u001b[0m \u001b[0;32mis\u001b[0m \u001b[0;32mNone\u001b[0m \u001b[0;32mor\u001b[0m \u001b[0mself\u001b[0m\u001b[0;34m.\u001b[0m\u001b[0mseen\u001b[0m \u001b[0;34m<\u001b[0m \u001b[0mself\u001b[0m\u001b[0;34m.\u001b[0m\u001b[0mtarget\u001b[0m\u001b[0;34m)\u001b[0m\u001b[0;34m:\u001b[0m\u001b[0;34m\u001b[0m\u001b[0;34m\u001b[0m\u001b[0m\n\u001b[0;32m--> 760\u001b[0;31m       \u001b[0mself\u001b[0m\u001b[0;34m.\u001b[0m\u001b[0mprogbar\u001b[0m\u001b[0;34m.\u001b[0m\u001b[0mupdate\u001b[0m\u001b[0;34m(\u001b[0m\u001b[0mself\u001b[0m\u001b[0;34m.\u001b[0m\u001b[0mseen\u001b[0m\u001b[0;34m,\u001b[0m \u001b[0mself\u001b[0m\u001b[0;34m.\u001b[0m\u001b[0mlog_values\u001b[0m\u001b[0;34m)\u001b[0m\u001b[0;34m\u001b[0m\u001b[0;34m\u001b[0m\u001b[0m\n\u001b[0m\u001b[1;32m    761\u001b[0m \u001b[0;34m\u001b[0m\u001b[0m\n\u001b[1;32m    762\u001b[0m   \u001b[0;32mdef\u001b[0m \u001b[0mon_epoch_end\u001b[0m\u001b[0;34m(\u001b[0m\u001b[0mself\u001b[0m\u001b[0;34m,\u001b[0m \u001b[0mepoch\u001b[0m\u001b[0;34m,\u001b[0m \u001b[0mlogs\u001b[0m\u001b[0;34m=\u001b[0m\u001b[0;32mNone\u001b[0m\u001b[0;34m)\u001b[0m\u001b[0;34m:\u001b[0m\u001b[0;34m\u001b[0m\u001b[0;34m\u001b[0m\u001b[0m\n",
      "\u001b[0;32m/sps/lsst/users/barcelin/miniconda/envs/python_cpu6/lib/python3.6/site-packages/tensorflow_core/python/keras/utils/generic_utils.py\u001b[0m in \u001b[0;36mupdate\u001b[0;34m(self, current, values)\u001b[0m\n\u001b[1;32m    438\u001b[0m         \u001b[0minfo\u001b[0m \u001b[0;34m+=\u001b[0m \u001b[0;34m' - %s:'\u001b[0m \u001b[0;34m%\u001b[0m \u001b[0mk\u001b[0m\u001b[0;34m\u001b[0m\u001b[0;34m\u001b[0m\u001b[0m\n\u001b[1;32m    439\u001b[0m         \u001b[0;32mif\u001b[0m \u001b[0misinstance\u001b[0m\u001b[0;34m(\u001b[0m\u001b[0mself\u001b[0m\u001b[0;34m.\u001b[0m\u001b[0m_values\u001b[0m\u001b[0;34m[\u001b[0m\u001b[0mk\u001b[0m\u001b[0;34m]\u001b[0m\u001b[0;34m,\u001b[0m \u001b[0mlist\u001b[0m\u001b[0;34m)\u001b[0m\u001b[0;34m:\u001b[0m\u001b[0;34m\u001b[0m\u001b[0;34m\u001b[0m\u001b[0m\n\u001b[0;32m--> 440\u001b[0;31m           \u001b[0mavg\u001b[0m \u001b[0;34m=\u001b[0m \u001b[0mnp\u001b[0m\u001b[0;34m.\u001b[0m\u001b[0mmean\u001b[0m\u001b[0;34m(\u001b[0m\u001b[0mself\u001b[0m\u001b[0;34m.\u001b[0m\u001b[0m_values\u001b[0m\u001b[0;34m[\u001b[0m\u001b[0mk\u001b[0m\u001b[0;34m]\u001b[0m\u001b[0;34m[\u001b[0m\u001b[0;36m0\u001b[0m\u001b[0;34m]\u001b[0m \u001b[0;34m/\u001b[0m \u001b[0mmax\u001b[0m\u001b[0;34m(\u001b[0m\u001b[0;36m1\u001b[0m\u001b[0;34m,\u001b[0m \u001b[0mself\u001b[0m\u001b[0;34m.\u001b[0m\u001b[0m_values\u001b[0m\u001b[0;34m[\u001b[0m\u001b[0mk\u001b[0m\u001b[0;34m]\u001b[0m\u001b[0;34m[\u001b[0m\u001b[0;36m1\u001b[0m\u001b[0;34m]\u001b[0m\u001b[0;34m)\u001b[0m\u001b[0;34m)\u001b[0m\u001b[0;34m\u001b[0m\u001b[0;34m\u001b[0m\u001b[0m\n\u001b[0m\u001b[1;32m    441\u001b[0m           \u001b[0;32mif\u001b[0m \u001b[0mabs\u001b[0m\u001b[0;34m(\u001b[0m\u001b[0mavg\u001b[0m\u001b[0;34m)\u001b[0m \u001b[0;34m>\u001b[0m \u001b[0;36m1e-3\u001b[0m\u001b[0;34m:\u001b[0m\u001b[0;34m\u001b[0m\u001b[0;34m\u001b[0m\u001b[0m\n\u001b[1;32m    442\u001b[0m             \u001b[0minfo\u001b[0m \u001b[0;34m+=\u001b[0m \u001b[0;34m' %.4f'\u001b[0m \u001b[0;34m%\u001b[0m \u001b[0mavg\u001b[0m\u001b[0;34m\u001b[0m\u001b[0;34m\u001b[0m\u001b[0m\n",
      "\u001b[0;32m/sps/lsst/users/barcelin/miniconda/envs/python_cpu6/lib/python3.6/site-packages/numpy/core/fromnumeric.py\u001b[0m in \u001b[0;36mmean\u001b[0;34m(a, axis, dtype, out, keepdims)\u001b[0m\n\u001b[1;32m   2918\u001b[0m \u001b[0;34m\u001b[0m\u001b[0m\n\u001b[1;32m   2919\u001b[0m     return _methods._mean(a, axis=axis, dtype=dtype,\n\u001b[0;32m-> 2920\u001b[0;31m                           out=out, **kwargs)\n\u001b[0m\u001b[1;32m   2921\u001b[0m \u001b[0;34m\u001b[0m\u001b[0m\n\u001b[1;32m   2922\u001b[0m \u001b[0;34m\u001b[0m\u001b[0m\n",
      "\u001b[0;32m/sps/lsst/users/barcelin/miniconda/envs/python_cpu6/lib/python3.6/site-packages/numpy/core/_methods.py\u001b[0m in \u001b[0;36m_mean\u001b[0;34m(a, axis, dtype, out, keepdims)\u001b[0m\n\u001b[1;32m     57\u001b[0m \u001b[0;34m\u001b[0m\u001b[0m\n\u001b[1;32m     58\u001b[0m \u001b[0;32mdef\u001b[0m \u001b[0m_mean\u001b[0m\u001b[0;34m(\u001b[0m\u001b[0ma\u001b[0m\u001b[0;34m,\u001b[0m \u001b[0maxis\u001b[0m\u001b[0;34m=\u001b[0m\u001b[0;32mNone\u001b[0m\u001b[0;34m,\u001b[0m \u001b[0mdtype\u001b[0m\u001b[0;34m=\u001b[0m\u001b[0;32mNone\u001b[0m\u001b[0;34m,\u001b[0m \u001b[0mout\u001b[0m\u001b[0;34m=\u001b[0m\u001b[0;32mNone\u001b[0m\u001b[0;34m,\u001b[0m \u001b[0mkeepdims\u001b[0m\u001b[0;34m=\u001b[0m\u001b[0;32mFalse\u001b[0m\u001b[0;34m)\u001b[0m\u001b[0;34m:\u001b[0m\u001b[0;34m\u001b[0m\u001b[0;34m\u001b[0m\u001b[0m\n\u001b[0;32m---> 59\u001b[0;31m     \u001b[0marr\u001b[0m \u001b[0;34m=\u001b[0m \u001b[0masanyarray\u001b[0m\u001b[0;34m(\u001b[0m\u001b[0ma\u001b[0m\u001b[0;34m)\u001b[0m\u001b[0;34m\u001b[0m\u001b[0;34m\u001b[0m\u001b[0m\n\u001b[0m\u001b[1;32m     60\u001b[0m \u001b[0;34m\u001b[0m\u001b[0m\n\u001b[1;32m     61\u001b[0m     \u001b[0mis_float16_result\u001b[0m \u001b[0;34m=\u001b[0m \u001b[0;32mFalse\u001b[0m\u001b[0;34m\u001b[0m\u001b[0;34m\u001b[0m\u001b[0m\n",
      "\u001b[0;32m/sps/lsst/users/barcelin/miniconda/envs/python_cpu6/lib/python3.6/site-packages/numpy/core/numeric.py\u001b[0m in \u001b[0;36masanyarray\u001b[0;34m(a, dtype, order)\u001b[0m\n\u001b[1;32m    551\u001b[0m \u001b[0;34m\u001b[0m\u001b[0m\n\u001b[1;32m    552\u001b[0m     \"\"\"\n\u001b[0;32m--> 553\u001b[0;31m     \u001b[0;32mreturn\u001b[0m \u001b[0marray\u001b[0m\u001b[0;34m(\u001b[0m\u001b[0ma\u001b[0m\u001b[0;34m,\u001b[0m \u001b[0mdtype\u001b[0m\u001b[0;34m,\u001b[0m \u001b[0mcopy\u001b[0m\u001b[0;34m=\u001b[0m\u001b[0;32mFalse\u001b[0m\u001b[0;34m,\u001b[0m \u001b[0morder\u001b[0m\u001b[0;34m=\u001b[0m\u001b[0morder\u001b[0m\u001b[0;34m,\u001b[0m \u001b[0msubok\u001b[0m\u001b[0;34m=\u001b[0m\u001b[0;32mTrue\u001b[0m\u001b[0;34m)\u001b[0m\u001b[0;34m\u001b[0m\u001b[0;34m\u001b[0m\u001b[0m\n\u001b[0m\u001b[1;32m    554\u001b[0m \u001b[0;34m\u001b[0m\u001b[0m\n\u001b[1;32m    555\u001b[0m \u001b[0;34m\u001b[0m\u001b[0m\n",
      "\u001b[0;32m/sps/lsst/users/barcelin/miniconda/envs/python_cpu6/lib/python3.6/site-packages/tensorflow_core/python/framework/ops.py\u001b[0m in \u001b[0;36m__array__\u001b[0;34m(self)\u001b[0m\n\u001b[1;32m    734\u001b[0m   \u001b[0;32mdef\u001b[0m \u001b[0m__array__\u001b[0m\u001b[0;34m(\u001b[0m\u001b[0mself\u001b[0m\u001b[0;34m)\u001b[0m\u001b[0;34m:\u001b[0m\u001b[0;34m\u001b[0m\u001b[0;34m\u001b[0m\u001b[0m\n\u001b[1;32m    735\u001b[0m     raise NotImplementedError(\"Cannot convert a symbolic Tensor ({}) to a numpy\"\n\u001b[0;32m--> 736\u001b[0;31m                               \" array.\".format(self.name))\n\u001b[0m\u001b[1;32m    737\u001b[0m \u001b[0;34m\u001b[0m\u001b[0m\n\u001b[1;32m    738\u001b[0m   \u001b[0;32mdef\u001b[0m \u001b[0m__len__\u001b[0m\u001b[0;34m(\u001b[0m\u001b[0mself\u001b[0m\u001b[0;34m)\u001b[0m\u001b[0;34m:\u001b[0m\u001b[0;34m\u001b[0m\u001b[0;34m\u001b[0m\u001b[0m\n",
      "\u001b[0;31mNotImplementedError\u001b[0m: Cannot convert a symbolic Tensor (truediv_5:0) to a numpy array."
     ]
    }
   ],
   "source": [
    "######## Train the network\n",
    "hist = model.fit_generator(generator = training_generator, epochs=10,\n",
    "          steps_per_epoch=8,#128\n",
    "          verbose=1,\n",
    "          shuffle=True,\n",
    "          validation_data=validation_generator,\n",
    "          validation_steps=2,#16\n",
    "          #callbacks=callbacks,\n",
    "          #max_queue_size=4,\n",
    "          workers=0,#4 \n",
    "          use_multiprocessing = False)"
   ]
  },
  {
   "cell_type": "code",
   "execution_count": null,
   "metadata": {},
   "outputs": [],
   "source": []
  }
 ],
 "metadata": {
  "kernelspec": {
   "display_name": "Python 3",
   "language": "python",
   "name": "python3"
  },
  "language_info": {
   "codemirror_mode": {
    "name": "ipython",
    "version": 3
   },
   "file_extension": ".py",
   "mimetype": "text/x-python",
   "name": "python",
   "nbconvert_exporter": "python",
   "pygments_lexer": "ipython3",
   "version": "3.6.8"
  },
  "toc": {
   "base_numbering": 1,
   "nav_menu": {},
   "number_sections": true,
   "sideBar": true,
   "skip_h1_title": false,
   "title_cell": "Table of Contents",
   "title_sidebar": "Contents",
   "toc_cell": false,
   "toc_position": {},
   "toc_section_display": true,
   "toc_window_display": false
  }
 },
 "nbformat": 4,
 "nbformat_minor": 2
}
