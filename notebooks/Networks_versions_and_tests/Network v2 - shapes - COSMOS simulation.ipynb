{
 "cells": [
  {
   "cell_type": "markdown",
   "metadata": {},
   "source": [
    "Loading network trained"
   ]
  },
  {
   "cell_type": "code",
   "execution_count": 1,
   "metadata": {},
   "outputs": [],
   "source": [
    "import tensorflow_probability as tfp\n",
    "import tensorflow as tf\n",
    "\n",
    "from tensorflow.keras import backend as K\n",
    "\n",
    "import numpy as np\n",
    "import matplotlib.pyplot as plt\n",
    "\n",
    "import pandas as pd\n",
    "import seaborn as sns\n",
    "\n",
    "from importlib import reload"
   ]
  },
  {
   "cell_type": "code",
   "execution_count": 2,
   "metadata": {},
   "outputs": [],
   "source": [
    "import sys\n",
    "import os\n",
    "sys.path.insert(0,'../../scripts/tools_for_VAE/')\n",
    "import tools_for_VAE.layers as layers\n",
    "from tools_for_VAE import utils, vae_functions, generator, model"
   ]
  },
  {
   "cell_type": "code",
   "execution_count": 3,
   "metadata": {},
   "outputs": [
    {
     "data": {
      "text/plain": [
       "<module 'tools_for_VAE.utils' from '../../scripts/tools_for_VAE/tools_for_VAE/utils.py'>"
      ]
     },
     "execution_count": 3,
     "metadata": {},
     "output_type": "execute_result"
    }
   ],
   "source": [
    "reload(utils)"
   ]
  },
  {
   "cell_type": "code",
   "execution_count": 4,
   "metadata": {},
   "outputs": [],
   "source": [
    "from tensorflow.keras.layers import Input, Dense, Lambda, Layer, Add, Multiply, Reshape, Flatten, BatchNormalization\n",
    "from tensorflow.keras.models import Model, Sequential\n",
    "from tensorflow.keras.layers import Conv2D, Input, Dense, Dropout, MaxPool2D, Flatten,  Reshape, UpSampling2D, Cropping2D, Conv2DTranspose, PReLU, Concatenate, Lambda, BatchNormalization, concatenate, LeakyReLU"
   ]
  },
  {
   "cell_type": "code",
   "execution_count": 5,
   "metadata": {},
   "outputs": [],
   "source": [
    "tfd = tfp.distributions"
   ]
  },
  {
   "cell_type": "code",
   "execution_count": 6,
   "metadata": {},
   "outputs": [],
   "source": [
    "import tensorflow"
   ]
  },
  {
   "cell_type": "markdown",
   "metadata": {},
   "source": [
    "# Parameters"
   ]
  },
  {
   "cell_type": "code",
   "execution_count": 7,
   "metadata": {},
   "outputs": [],
   "source": [
    "nb_of_bands = 6\n",
    "batch_size = 100 \n",
    "\n",
    "input_shape = (64, 64, nb_of_bands)\n",
    "hidden_dim = 256\n",
    "latent_dim = 32\n",
    "final_dim = 2\n",
    "filters = [32, 64, 128, 256]\n",
    "kernels = [3,3,3,3]\n",
    "\n",
    "conv_activation = None\n",
    "dense_activation = None\n",
    "\n",
    "bands = [4,5,6,7,8,9]"
   ]
  },
  {
   "cell_type": "markdown",
   "metadata": {},
   "source": [
    "# Batchgenerator"
   ]
  },
  {
   "cell_type": "code",
   "execution_count": 8,
   "metadata": {},
   "outputs": [],
   "source": [
    "images_dir = '/sps/lsst/users/barcelin/data/TFP/GalSim_COSMOS/isolated_galaxies/centered/'\n",
    "images_dir = '/sps/lsst/users/barcelin/data/isolated_galaxies/centered/'\n",
    "list_of_samples = [x for x in utils.listdir_fullpath(os.path.join(images_dir,'test')) if x.endswith('.npy')]\n",
    "list_of_samples_val = [x for x in utils.listdir_fullpath(os.path.join(images_dir,'validation')) if x.endswith('.npy')]"
   ]
  },
  {
   "cell_type": "code",
   "execution_count": 13,
   "metadata": {},
   "outputs": [
    {
     "name": "stdout",
     "output_type": "stream",
     "text": [
      "[BatchGenerator] total_sample_size =  10000\n",
      "[BatchGenerator] len(list_of_samples) =  1\n"
     ]
    }
   ],
   "source": [
    "test_generator = generator.BatchGenerator_ellipticity(bands, list_of_samples, total_sample_size=None,\n",
    "                                    batch_size=batch_size, \n",
    "                                    trainval_or_test='training',\n",
    "                                    do_norm=True,\n",
    "                                    denorm = False,\n",
    "                                    list_of_weights_e=None)\n"
   ]
  },
  {
   "cell_type": "code",
   "execution_count": 14,
   "metadata": {},
   "outputs": [],
   "source": [
    "test = test_generator.__getitem__(2)"
   ]
  },
  {
   "cell_type": "code",
   "execution_count": 15,
   "metadata": {},
   "outputs": [
    {
     "data": {
      "text/plain": [
       "(100, 64, 64, 6)"
      ]
     },
     "execution_count": 15,
     "metadata": {},
     "output_type": "execute_result"
    }
   ],
   "source": [
    "test[0].shape"
   ]
  },
  {
   "cell_type": "code",
   "execution_count": 16,
   "metadata": {},
   "outputs": [
    {
     "data": {
      "text/plain": [
       "<matplotlib.colorbar.Colorbar at 0x7fa45cdb35f8>"
      ]
     },
     "execution_count": 16,
     "metadata": {},
     "output_type": "execute_result"
    },
    {
     "data": {
      "image/png": "[encoded data removed]",
      "text/plain": [
       "<Figure size 432x288 with 2 Axes>"
      ]
     },
     "metadata": {
      "needs_background": "light"
     },
     "output_type": "display_data"
    }
   ],
   "source": [
    "plt.imshow(test[0][1,:,:,4])\n",
    "plt.colorbar()"
   ]
  },
  {
   "cell_type": "markdown",
   "metadata": {},
   "source": [
    "# Model avec latent space"
   ]
  },
  {
   "cell_type": "code",
   "execution_count": 17,
   "metadata": {},
   "outputs": [],
   "source": [
    "encoder, decoder = model.vae_model(latent_dim, final_dim, len(bands))"
   ]
  },
  {
   "cell_type": "code",
   "execution_count": 18,
   "metadata": {},
   "outputs": [],
   "source": [
    "net = Model(inputs=encoder.inputs, outputs=decoder(encoder.outputs[0]))"
   ]
  },
  {
   "cell_type": "code",
   "execution_count": 19,
   "metadata": {},
   "outputs": [],
   "source": [
    "negative_log_likelihood = lambda x, rv_x: -rv_x.log_prob(x)"
   ]
  },
  {
   "cell_type": "code",
   "execution_count": 20,
   "metadata": {},
   "outputs": [],
   "source": [
    "net.compile(optimizer=tf.optimizers.Adam(learning_rate=1e-4), loss=negative_log_likelihood)"
   ]
  },
  {
   "cell_type": "markdown",
   "metadata": {},
   "source": [
    "# Loading weights"
   ]
  },
  {
   "cell_type": "code",
   "execution_count": 25,
   "metadata": {},
   "outputs": [
    {
     "data": {
      "text/plain": [
       "<module 'tools_for_VAE.model' from '../../scripts/tools_for_VAE/tools_for_VAE/model.py'>"
      ]
     },
     "execution_count": 25,
     "metadata": {},
     "output_type": "execute_result"
    }
   ],
   "source": [
    "reload(model)"
   ]
  },
  {
   "cell_type": "code",
   "execution_count": 37,
   "metadata": {},
   "outputs": [
    {
     "data": {
      "text/plain": [
       "<tensorflow.python.training.tracking.util.CheckpointLoadStatus at 0x7fa4500e3048>"
      ]
     },
     "execution_count": 37,
     "metadata": {},
     "output_type": "execute_result"
    }
   ],
   "source": [
    "loading_path = '/sps/lsst/users/barcelin/TFP/weights/shapes/test3/'#3\n",
    "\n",
    "latest = tf.train.latest_checkpoint(loading_path)\n",
    "net.load_weights(latest)"
   ]
  },
  {
   "cell_type": "code",
   "execution_count": 38,
   "metadata": {},
   "outputs": [],
   "source": [
    "test = test_generator.__getitem__(2)\n",
    "\n",
    "out = net(test[0])"
   ]
  },
  {
   "cell_type": "code",
   "execution_count": 39,
   "metadata": {},
   "outputs": [
    {
     "data": {
      "text/plain": [
       "<matplotlib.axes._subplots.AxesSubplot at 0x7fa44b6a3400>"
      ]
     },
     "execution_count": 39,
     "metadata": {},
     "output_type": "execute_result"
    },
    {
     "data": {
      "image/png": "[encoded data removed]",
      "text/plain": [
       "<Figure size 432x288 with 1 Axes>"
      ]
     },
     "metadata": {
      "needs_background": "light"
     },
     "output_type": "display_data"
    }
   ],
   "source": [
    "sns.distplot(out.mean().numpy()[:,0], bins = 20)\n",
    "sns.distplot(test[1][:,0], bins = 20)"
   ]
  },
  {
   "cell_type": "code",
   "execution_count": 40,
   "metadata": {},
   "outputs": [
    {
     "data": {
      "text/plain": [
       "[<matplotlib.lines.Line2D at 0x7fa44b581b38>]"
      ]
     },
     "execution_count": 40,
     "metadata": {},
     "output_type": "execute_result"
    },
    {
     "data": {
      "image/png": "[encoded data removed]",
      "text/plain": [
       "<Figure size 432x288 with 1 Axes>"
      ]
     },
     "metadata": {
      "needs_background": "light"
     },
     "output_type": "display_data"
    }
   ],
   "source": [
    "plt.plot(test[1][:,0], out[:,0].numpy(), 'o')\n",
    "x = np.linspace(0,4)\n",
    "plt.plot(x, x)"
   ]
  },
  {
   "cell_type": "code",
   "execution_count": 41,
   "metadata": {},
   "outputs": [
    {
     "data": {
      "text/plain": [
       "(100,)"
      ]
     },
     "execution_count": 41,
     "metadata": {},
     "output_type": "execute_result"
    }
   ],
   "source": [
    "out[:,0].numpy().shape"
   ]
  },
  {
   "cell_type": "code",
   "execution_count": 42,
   "metadata": {},
   "outputs": [
    {
     "data": {
      "text/plain": [
       "[<matplotlib.lines.Line2D at 0x7fa44b554ef0>]"
      ]
     },
     "execution_count": 42,
     "metadata": {},
     "output_type": "execute_result"
    },
    {
     "data": {
      "image/png": "[encoded data removed]",
      "text/plain": [
       "<Figure size 432x288 with 1 Axes>"
      ]
     },
     "metadata": {
      "needs_background": "light"
     },
     "output_type": "display_data"
    }
   ],
   "source": [
    "plt.plot(test[1][:,0], out.mean().numpy()[:,0], 'o')\n",
    "x = np.linspace(0,4)\n",
    "plt.plot(x, x)"
   ]
  },
  {
   "cell_type": "code",
   "execution_count": 43,
   "metadata": {},
   "outputs": [
    {
     "data": {
      "text/plain": [
       "[<matplotlib.lines.Line2D at 0x7fa44b535b70>]"
      ]
     },
     "execution_count": 43,
     "metadata": {},
     "output_type": "execute_result"
    },
    {
     "data": {
      "image/png": "[encoded data removed]",
      "text/plain": [
       "<Figure size 432x288 with 1 Axes>"
      ]
     },
     "metadata": {
      "needs_background": "light"
     },
     "output_type": "display_data"
    }
   ],
   "source": [
    "plt.plot(test[1][:,1], out.mean().numpy()[:,1], 'o')\n",
    "x = np.linspace(0,4)\n",
    "plt.plot(x, x)"
   ]
  },
  {
   "cell_type": "markdown",
   "metadata": {},
   "source": [
    "One sampling for 100 images (one batch)"
   ]
  },
  {
   "cell_type": "code",
   "execution_count": 49,
   "metadata": {},
   "outputs": [
    {
     "data": {
      "text/plain": [
       "Text(0.5, 1.0, '$e2$')"
      ]
     },
     "execution_count": 49,
     "metadata": {},
     "output_type": "execute_result"
    },
    {
     "data": {
      "image/png": "[encoded data removed]",
      "text/plain": [
       "<Figure size 1080x360 with 2 Axes>"
      ]
     },
     "metadata": {
      "needs_background": "light"
     },
     "output_type": "display_data"
    }
   ],
   "source": [
    "fig, axes = plt.subplots(1, 2, figsize=(15, 5))\n",
    "\n",
    "axes[0].plot(test[1][:,0], out.mean().numpy()[:,0], '.', label = 'mean')\n",
    "axes[0].plot(test[1][:,0], out.mean().numpy()[:,0]+ 2*out.stddev().numpy()[:,0], '+', label = 'mean + 2stddev')\n",
    "axes[0].plot(test[1][:,0], out.mean().numpy()[:,0]- 2*out.stddev().numpy()[:,0], '+', label = 'mean - 2stddev')\n",
    "x = np.linspace(0,4)\n",
    "axes[0].plot(x, x)\n",
    "axes[0].legend()\n",
    "axes[0].set_ylim(-1.5,5)\n",
    "axes[0].set_title('$e1$')\n",
    "\n",
    "axes[1].plot(test[1][:,1], out.mean().numpy()[:,1], '.', label = 'mean')\n",
    "axes[1].plot(test[1][:,1], out.mean().numpy()[:,1]+ 2*out.stddev().numpy()[:,1], '+', label = 'mean + 2stddev')\n",
    "axes[1].plot(test[1][:,1], out.mean().numpy()[:,1]- 2*out.stddev().numpy()[:,1], '+', label = 'mean - 2stddev')\n",
    "x = np.linspace(0,4)\n",
    "axes[1].plot(x, x)\n",
    "#plt.xlim(0,4)\n",
    "axes[1].set_ylim(-1.5,5)\n",
    "axes[1].set_title('$e2$')"
   ]
  },
  {
   "cell_type": "markdown",
   "metadata": {},
   "source": [
    "N samplings for 100 images (one batch)"
   ]
  },
  {
   "cell_type": "code",
   "execution_count": null,
   "metadata": {
    "scrolled": true
   },
   "outputs": [],
   "source": [
    "N = 100\n",
    "means = np.zeros((N,100))\n",
    "stddevs = np.zeros((N,100))\n",
    "outs = np.zeros((N,100))\n",
    "for i in range (N):\n",
    "    out = net(test[0])\n",
    "    outs[i] = out[:,0].numpy()\n",
    "    means[i] = out.mean().numpy()[:,0]\n",
    "    stddevs[i] = out.stddev().numpy()[:,0]"
   ]
  },
  {
   "cell_type": "code",
   "execution_count": null,
   "metadata": {},
   "outputs": [],
   "source": [
    "image_nb = 0"
   ]
  },
  {
   "cell_type": "code",
   "execution_count": null,
   "metadata": {},
   "outputs": [],
   "source": [
    "fig, axes = plt.subplots(1, 2, figsize=(15, 5))\n",
    "\n",
    "sns.distplot(means[:,image_nb], bins = 20, label = 'means', ax = axes[0])\n",
    "sns.distplot(means[:,image_nb] + stddevs[:,image_nb], bins = 20, label = 'mean + stddev', ax = axes[0])\n",
    "sns.distplot(means[:,image_nb] - stddevs[:,image_nb], bins = 20, label = 'mean - stddev', ax = axes[0])\n",
    "axes[0].axvline(test[1][image_nb,0], color = 'r')\n",
    "axes[0].legend()\n",
    "print(test[1][image_nb,0])\n",
    "\n",
    "axes[1].imshow(test[0][image_nb,:,:,2])"
   ]
  },
  {
   "cell_type": "code",
   "execution_count": null,
   "metadata": {},
   "outputs": [],
   "source": [
    "fig, axes = plt.subplots(1, 2, figsize=(15, 5))\n",
    "\n",
    "for i in range (len(means)):\n",
    "    x = np.linspace(0,4, 1000)\n",
    "    axes[0].plot(x, (1/(stddevs[i,image_nb]*np.sqrt(2*np.pi))*np.exp(-np.square(x-means[i,image_nb])/(2*stddevs[i,image_nb]**2))), color = 'grey', alpha = 0.3)\n",
    "mean_means = np.mean(means[:,image_nb])\n",
    "mean_stddevs = np.mean(stddevs[:,image_nb])\n",
    "axes[0].plot(x, (1/(mean_stddevs*np.sqrt(2*np.pi))*np.exp(-np.square(x-mean_means)/(2*mean_stddevs**2))), color = 'black', alpha = 1)    \n",
    "axes[0].set_xlim(np.min(means[:,image_nb] - stddevs[:,image_nb]), np.max(means[:,image_nb] + stddevs[:,image_nb]))\n",
    "axes[0].axvline(test[1][image_nb,0], color = 'r')\n",
    "\n",
    "axes[1].imshow(test[0][image_nb,:,:,2])"
   ]
  },
  {
   "cell_type": "code",
   "execution_count": null,
   "metadata": {},
   "outputs": [],
   "source": [
    "sns.distplot(outs[:,image_nb], bins = 20, label = 'means')"
   ]
  },
  {
   "cell_type": "code",
   "execution_count": null,
   "metadata": {},
   "outputs": [],
   "source": [
    "image_nb = 1"
   ]
  },
  {
   "cell_type": "code",
   "execution_count": null,
   "metadata": {},
   "outputs": [],
   "source": [
    "fig, axes = plt.subplots(1, 2, figsize=(15, 5))\n",
    "\n",
    "sns.distplot(means[:,image_nb], bins = 20, label = 'means', ax = axes[0])\n",
    "sns.distplot(means[:,image_nb] + stddevs[:,image_nb], bins = 20, label = 'mean + stddev', ax = axes[0])\n",
    "sns.distplot(means[:,image_nb] - stddevs[:,image_nb], bins = 20, label = 'mean - stddev', ax = axes[0])\n",
    "axes[0].axvline(test[1][image_nb,0], color = 'r')\n",
    "axes[0].legend()\n",
    "print(test[1][image_nb,0])\n",
    "\n",
    "axes[1].imshow(test[0][image_nb,:,:,2])"
   ]
  },
  {
   "cell_type": "code",
   "execution_count": null,
   "metadata": {},
   "outputs": [],
   "source": [
    "fig, axes = plt.subplots(1, 2, figsize=(15, 5))\n",
    "\n",
    "for i in range (len(means)):\n",
    "    x = np.linspace(0,4, 1000)\n",
    "    axes[0].plot(x, (1/(stddevs[i,image_nb]*np.sqrt(2*np.pi))*np.exp(-np.square(x-means[i,image_nb])/(2*stddevs[i,image_nb]**2))), color = 'grey', alpha = 0.3)\n",
    "mean_means = np.mean(means[:,image_nb])\n",
    "mean_stddevs = np.mean(stddevs[:,image_nb])\n",
    "axes[0].plot(x, (1/(mean_stddevs*np.sqrt(2*np.pi))*np.exp(-np.square(x-mean_means)/(2*mean_stddevs**2))), color = 'black', alpha = 1)    \n",
    "axes[0].set_xlim(np.min(means[:,image_nb] - stddevs[:,image_nb]), np.max(means[:,image_nb] + stddevs[:,image_nb]))\n",
    "axes[0].axvline(test[1][image_nb,0], color = 'r')\n",
    "\n",
    "axes[1].imshow(test[0][image_nb,:,:,2])"
   ]
  },
  {
   "cell_type": "markdown",
   "metadata": {},
   "source": [
    "# Model avec dense variational"
   ]
  },
  {
   "cell_type": "code",
   "execution_count": 146,
   "metadata": {},
   "outputs": [
    {
     "data": {
      "text/plain": [
       "<module 'tools_for_VAE.model' from '../../scripts/tools_for_VAE/tools_for_VAE/model.py'>"
      ]
     },
     "execution_count": 146,
     "metadata": {},
     "output_type": "execute_result"
    }
   ],
   "source": [
    "reload(model)"
   ]
  },
  {
   "cell_type": "code",
   "execution_count": 147,
   "metadata": {},
   "outputs": [
    {
     "name": "stdout",
     "output_type": "stream",
     "text": [
      "Model: \"sequential_3\"\n",
      "_________________________________________________________________\n",
      "Layer (type)                 Output Shape              Param #   \n",
      "=================================================================\n",
      "batch_normalization_2 (Batch (None, 64, 64, 6)         24        \n",
      "_________________________________________________________________\n",
      "conv2d_16 (Conv2D)           (None, 64, 64, 32)        1760      \n",
      "_________________________________________________________________\n",
      "p_re_lu_19 (PReLU)           (None, 64, 64, 32)        131072    \n",
      "_________________________________________________________________\n",
      "conv2d_17 (Conv2D)           (None, 32, 32, 32)        9248      \n",
      "_________________________________________________________________\n",
      "p_re_lu_20 (PReLU)           (None, 32, 32, 32)        32768     \n",
      "_________________________________________________________________\n",
      "conv2d_18 (Conv2D)           (None, 32, 32, 64)        18496     \n",
      "_________________________________________________________________\n",
      "p_re_lu_21 (PReLU)           (None, 32, 32, 64)        65536     \n",
      "_________________________________________________________________\n",
      "conv2d_19 (Conv2D)           (None, 16, 16, 64)        36928     \n",
      "_________________________________________________________________\n",
      "p_re_lu_22 (PReLU)           (None, 16, 16, 64)        16384     \n",
      "_________________________________________________________________\n",
      "conv2d_20 (Conv2D)           (None, 16, 16, 128)       73856     \n",
      "_________________________________________________________________\n",
      "p_re_lu_23 (PReLU)           (None, 16, 16, 128)       32768     \n",
      "_________________________________________________________________\n",
      "conv2d_21 (Conv2D)           (None, 8, 8, 128)         147584    \n",
      "_________________________________________________________________\n",
      "p_re_lu_24 (PReLU)           (None, 8, 8, 128)         8192      \n",
      "_________________________________________________________________\n",
      "conv2d_22 (Conv2D)           (None, 8, 8, 256)         295168    \n",
      "_________________________________________________________________\n",
      "p_re_lu_25 (PReLU)           (None, 8, 8, 256)         16384     \n",
      "_________________________________________________________________\n",
      "conv2d_23 (Conv2D)           (None, 4, 4, 256)         590080    \n",
      "_________________________________________________________________\n",
      "p_re_lu_26 (PReLU)           (None, 4, 4, 256)         4096      \n",
      "_________________________________________________________________\n",
      "flatten_3 (Flatten)          (None, 4096)              0         \n",
      "_________________________________________________________________\n",
      "dense_variational (DenseVari (None, 5)                 61455     \n",
      "_________________________________________________________________\n",
      "p_re_lu_27 (PReLU)           (None, 5)                 5         \n",
      "_________________________________________________________________\n",
      "multivariate_normal_tri_l_3  ((None, 2), (None, 2))    0         \n",
      "=================================================================\n",
      "Total params: 1,541,804\n",
      "Trainable params: 1,541,792\n",
      "Non-trainable params: 12\n",
      "_________________________________________________________________\n"
     ]
    }
   ],
   "source": [
    "encoder = model.net_model(final_dim, len(bands))"
   ]
  },
  {
   "cell_type": "code",
   "execution_count": 175,
   "metadata": {},
   "outputs": [],
   "source": [
    "net_dvar = Model(inputs=encoder.inputs, outputs = encoder(encoder.inputs))"
   ]
  },
  {
   "cell_type": "code",
   "execution_count": 200,
   "metadata": {},
   "outputs": [
    {
     "data": {
      "text/plain": [
       "<tensorflow.python.training.tracking.util.CheckpointLoadStatus at 0x7f467eda6710>"
      ]
     },
     "execution_count": 200,
     "metadata": {},
     "output_type": "execute_result"
    }
   ],
   "source": [
    "loading_path = '/sps/lsst/users/barcelin/TFP/weights/shapes/test2/'\n",
    "\n",
    "latest = tf.train.latest_checkpoint(loading_path)\n",
    "net_dvar.load_weights(latest)"
   ]
  },
  {
   "cell_type": "code",
   "execution_count": 201,
   "metadata": {},
   "outputs": [],
   "source": [
    "out_dvar = net_dvar(test[0])"
   ]
  },
  {
   "cell_type": "code",
   "execution_count": 202,
   "metadata": {},
   "outputs": [
    {
     "data": {
      "text/plain": [
       "<matplotlib.axes._subplots.AxesSubplot at 0x7f467ed86ac8>"
      ]
     },
     "execution_count": 202,
     "metadata": {},
     "output_type": "execute_result"
    },
    {
     "data": {
      "image/png": "[encoded data removed]",
      "text/plain": [
       "<Figure size 432x288 with 1 Axes>"
      ]
     },
     "metadata": {
      "needs_background": "light"
     },
     "output_type": "display_data"
    }
   ],
   "source": [
    "sns.distplot(out_dvar.mean().numpy()[:,0], bins = 20)\n",
    "sns.distplot(test[1][:,0], bins = 20)"
   ]
  },
  {
   "cell_type": "code",
   "execution_count": 203,
   "metadata": {},
   "outputs": [
    {
     "data": {
      "text/plain": [
       "(-1.5, 4)"
      ]
     },
     "execution_count": 203,
     "metadata": {},
     "output_type": "execute_result"
    },
    {
     "data": {
      "image/png": "[encoded data removed]",
      "text/plain": [
       "<Figure size 432x288 with 1 Axes>"
      ]
     },
     "metadata": {
      "needs_background": "light"
     },
     "output_type": "display_data"
    }
   ],
   "source": [
    "fig = plt.figure()\n",
    "plt.plot(test[1][:,0], out_dvar.mean().numpy()[:,0], '.', label = 'mean')\n",
    "plt.plot(test[1][:,0], out_dvar.mean().numpy()[:,0]+ 2*out_dvar.stddev().numpy()[:,0], '+', label = 'mean + 2stddev')\n",
    "plt.plot(test[1][:,0], out_dvar.mean().numpy()[:,0]- 2*out_dvar.stddev().numpy()[:,0], '+', label = 'mean - 2stddev')\n",
    "x = np.linspace(0,4)\n",
    "plt.legend()\n",
    "plt.plot(x, x)\n",
    "plt.xlim(0,4)\n",
    "plt.ylim(-1.5,4)"
   ]
  },
  {
   "cell_type": "code",
   "execution_count": 158,
   "metadata": {},
   "outputs": [
    {
     "name": "stdout",
     "output_type": "stream",
     "text": [
      "0.0013365065678954124\n",
      "0.12101632356643677\n",
      "0.001391108613461256\n",
      "0.0038110599853098392\n",
      "0.23697465658187866\n",
      "0.40158146619796753\n",
      "0.0274982750415802\n",
      "0.00713554210960865\n",
      "0.0019079637713730335\n",
      "0.7798060178756714\n",
      "0.0009332026238553226\n",
      "0.00016884396609384567\n",
      "0.005873351823538542\n",
      "0.0001557868527015671\n",
      "0.0033060493879020214\n",
      "0.1809670329093933\n",
      "1.1013896465301514\n",
      "0.002214279258623719\n",
      "0.0015979539602994919\n",
      "0.4243263006210327\n",
      "0.002893769880756736\n",
      "0.0018315956695005298\n",
      "0.9475554823875427\n",
      "0.8054245114326477\n",
      "0.013905644416809082\n",
      "0.0019565029069781303\n",
      "0.37074989080429077\n",
      "1.96091628074646\n",
      "0.002477145055308938\n",
      "0.0067873066291213036\n",
      "0.0016814208356663585\n",
      "0.0048088389448821545\n",
      "0.22703030705451965\n",
      "0.006682247389107943\n",
      "0.007177593652158976\n",
      "0.0018356729997321963\n",
      "1.3364574909210205\n",
      "0.0002515563101042062\n",
      "0.0026699178852140903\n",
      "0.0007370566017925739\n",
      "0.7185571193695068\n",
      "0.003264934988692403\n",
      "0.0028096912428736687\n",
      "0.0014750277623534203\n",
      "0.6362238526344299\n",
      "1.4328817129135132\n",
      "0.952980101108551\n",
      "2.190131187438965\n",
      "0.003229867434129119\n",
      "0.004595331382006407\n"
     ]
    }
   ],
   "source": [
    "N = 50\n",
    "means_dvar = np.zeros((N,100))\n",
    "stddevs_dvar = np.zeros((N,100))\n",
    "for i in range (N):\n",
    "    out_dvar = net_dvar(test[0])\n",
    "    means_dvar[i] = out_dvar.mean().numpy()[:,0]\n",
    "    #print(means_dvar[i][0])\n",
    "    stddevs_dvar[i] = out_dvar.stddev().numpy()[:,0]"
   ]
  },
  {
   "cell_type": "code",
   "execution_count": null,
   "metadata": {},
   "outputs": [],
   "source": [
    "sns.distplot(means_dvar[:,0], bins = 20)"
   ]
  }
 ],
 "metadata": {
  "kernelspec": {
   "display_name": "Python 3",
   "language": "python",
   "name": "python3"
  },
  "language_info": {
   "codemirror_mode": {
    "name": "ipython",
    "version": 3
   },
   "file_extension": ".py",
   "mimetype": "text/x-python",
   "name": "python",
   "nbconvert_exporter": "python",
   "pygments_lexer": "ipython3",
   "version": "3.6.8"
  },
  "toc": {
   "base_numbering": 1,
   "nav_menu": {},
   "number_sections": true,
   "sideBar": true,
   "skip_h1_title": false,
   "title_cell": "Table of Contents",
   "title_sidebar": "Contents",
   "toc_cell": false,
   "toc_position": {},
   "toc_section_display": true,
   "toc_window_display": false
  }
 },
 "nbformat": 4,
 "nbformat_minor": 2
}
