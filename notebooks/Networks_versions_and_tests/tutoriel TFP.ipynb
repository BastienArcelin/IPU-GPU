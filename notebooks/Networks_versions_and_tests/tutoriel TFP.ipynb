{
 "cells": [
  {
   "cell_type": "code",
   "execution_count": 1,
   "metadata": {},
   "outputs": [],
   "source": [
    "import tensorflow_probability as tfp\n",
    "import tensorflow as tf\n",
    "\n",
    "from tensorflow.keras import backend as K\n",
    "\n",
    "import numpy as np\n",
    "import matplotlib.pyplot as plt"
   ]
  },
  {
   "cell_type": "code",
   "execution_count": 2,
   "metadata": {},
   "outputs": [],
   "source": [
    "# Initialize a single 2-variate Gaussian.\n",
    "mvn = tfp.distributions.MultivariateNormalFullCovariance(\n",
    "    loc=[1., -1],\n",
    "    covariance_matrix=[[1, 0.],\n",
    "                       [0., 0.7]])"
   ]
  },
  {
   "cell_type": "code",
   "execution_count": 3,
   "metadata": {},
   "outputs": [],
   "source": [
    "negloglik = lambda y, p_y: -p_y.log_prob(y)"
   ]
  },
  {
   "cell_type": "code",
   "execution_count": 17,
   "metadata": {},
   "outputs": [],
   "source": [
    "#@title Synthesize dataset.\n",
    "w0 = 0.125\n",
    "b0 = 5.\n",
    "x_range = [-20, 60]\n",
    "\n",
    "def load_dataset(n=150, n_tst=150):\n",
    "    np.random.seed(43)\n",
    "    def s(x):\n",
    "        g = (x - x_range[0]) / (x_range[1] - x_range[0])\n",
    "        return 3 * (0.25 + g**2.)\n",
    "    x = (x_range[1] - x_range[0]) * np.random.rand(n) + x_range[0]\n",
    "    eps = np.random.randn(n) * s(x)\n",
    "    y = (w0 * x * (1. + np.sin(x)) + b0) + eps\n",
    "    x = x[..., np.newaxis]\n",
    "    x_tst = np.linspace(*x_range, num=n_tst).astype(np.float32)\n",
    "    x_tst = x_tst[..., np.newaxis]\n",
    "    return y, x, x_tst\n",
    "\n",
    "y, x, x_tst = load_dataset()"
   ]
  },
  {
   "cell_type": "code",
   "execution_count": 18,
   "metadata": {},
   "outputs": [],
   "source": [
    "tfd = tfp.distributions\n",
    "\n",
    "# Build model.\n",
    "model = tf.keras.Sequential([\n",
    "  tf.keras.layers.Dense(1),\n",
    "  tfp.layers.DistributionLambda(lambda t: tfd.Normal(loc=t, scale=1)),\n",
    "])\n",
    "\n",
    "# Do inference.\n",
    "model.compile(optimizer=tf.keras.optimizers.Adam(lr = 0.05), loss=negloglik)"
   ]
  },
  {
   "cell_type": "code",
   "execution_count": 19,
   "metadata": {},
   "outputs": [
    {
     "data": {
      "text/plain": [
       "<tensorflow.python.keras.callbacks.History at 0x7f0e6c5fd6a0>"
      ]
     },
     "execution_count": 19,
     "metadata": {},
     "output_type": "execute_result"
    }
   ],
   "source": [
    "model.fit(x, y, epochs=500, verbose=False)"
   ]
  },
  {
   "cell_type": "code",
   "execution_count": 20,
   "metadata": {},
   "outputs": [
    {
     "name": "stdout",
     "output_type": "stream",
     "text": [
      "0.13186479\n",
      "5.1219864\n"
     ]
    }
   ],
   "source": [
    "# Profit.\n",
    "yhat = model(x_tst)\n",
    "yhat_mean = K.get_value(yhat.mean())\n",
    "\n",
    "[print(np.squeeze(K.get_value(w))) for w in model.weights];\n",
    "assert isinstance(yhat, tfd.Distribution)"
   ]
  },
  {
   "cell_type": "code",
   "execution_count": 22,
   "metadata": {},
   "outputs": [
    {
     "data": {
      "text/plain": [
       "(150, 1)"
      ]
     },
     "execution_count": 22,
     "metadata": {},
     "output_type": "execute_result"
    }
   ],
   "source": [
    "yhat_mean.shape"
   ]
  },
  {
   "cell_type": "code",
   "execution_count": 11,
   "metadata": {},
   "outputs": [
    {
     "data": {
      "text/plain": [
       "<matplotlib.legend.Legend at 0x7f046561e240>"
      ]
     },
     "execution_count": 11,
     "metadata": {},
     "output_type": "execute_result"
    },
    {
     "data": {
      "image/png": "[encoded data removed]",
      "text/plain": [
       "<Figure size 432x108 with 1 Axes>"
      ]
     },
     "metadata": {
      "needs_background": "light"
     },
     "output_type": "display_data"
    }
   ],
   "source": [
    "#@title Figure 1: No uncertainty.\n",
    "w = np.squeeze(model.layers[-2].kernel.numpy())\n",
    "b = np.squeeze(model.layers[-2].bias.numpy())\n",
    "\n",
    "plt.figure(figsize=[6, 1.5])  # inches\n",
    "#plt.figure(figsize=[8, 5])  # inches\n",
    "plt.plot(x, y, 'b.', label='observed');\n",
    "plt.plot(x_tst, yhat_mean,'r', label='mean', linewidth=4);\n",
    "plt.ylim(-0.,17);\n",
    "plt.yticks(np.linspace(0, 15, 4)[1:]);\n",
    "plt.xticks(np.linspace(*x_range, num=9));\n",
    "\n",
    "ax=plt.gca();\n",
    "ax.xaxis.set_ticks_position('bottom')\n",
    "ax.yaxis.set_ticks_position('left')\n",
    "ax.spines['left'].set_position(('data', 0))\n",
    "ax.spines['top'].set_visible(False)\n",
    "ax.spines['right'].set_visible(False)\n",
    "#ax.spines['left'].set_smart_bounds(True)\n",
    "#ax.spines['bottom'].set_smart_bounds(True)\n",
    "plt.legend(loc='center left', fancybox=True, framealpha=0., bbox_to_anchor=(1.05, 0.5))\n",
    "\n",
    "#plt.savefig('/tmp/fig1.png', bbox_inches='tight', dpi=300)"
   ]
  },
  {
   "cell_type": "code",
   "execution_count": 12,
   "metadata": {},
   "outputs": [
    {
     "name": "stdout",
     "output_type": "stream",
     "text": [
      "[ 0.14281672 -1.0182048 ]\n",
      "[5.1377435 0.       ]\n"
     ]
    }
   ],
   "source": [
    "# Build model.\n",
    "model = tf.keras.Sequential([\n",
    "  tf.keras.layers.Dense(1 + 1),\n",
    "  tfp.layers.DistributionLambda(\n",
    "      lambda t: tfd.Normal(loc=t[..., :1],\n",
    "                           scale=1)),#1e-3 + tf.math.softplus(0.05 * t[...,1:]))),\n",
    "])\n",
    "\n",
    "# Do inference.\n",
    "model.compile(optimizer=tf.keras.optimizers.Adam(lr=0.05), loss=negloglik)\n",
    "model.fit(x, y, epochs=500, verbose=False);\n",
    "\n",
    "# Profit.\n",
    "[print(np.squeeze(K.get_value(w))) for w in model.weights];\n",
    "yhat = model(x_tst)\n",
    "assert isinstance(yhat, tfd.Distribution)"
   ]
  },
  {
   "cell_type": "code",
   "execution_count": 13,
   "metadata": {},
   "outputs": [
    {
     "data": {
      "text/plain": [
       "<matplotlib.legend.Legend at 0x7f045c65cef0>"
      ]
     },
     "execution_count": 13,
     "metadata": {},
     "output_type": "execute_result"
    },
    {
     "data": {
      "image/png": "[encoded data removed]",
      "text/plain": [
       "<Figure size 432x108 with 1 Axes>"
      ]
     },
     "metadata": {
      "needs_background": "light"
     },
     "output_type": "display_data"
    }
   ],
   "source": [
    "#@title Figure 2: Aleatoric Uncertainty\n",
    "plt.figure(figsize=[6, 1.5])  # inches\n",
    "plt.plot(x, y, 'b.', label='observed');\n",
    "\n",
    "m = K.get_value(yhat.mean())\n",
    "s = K.get_value(yhat.stddev())\n",
    "\n",
    "plt.plot(x_tst, m, 'r', linewidth=4, label='mean');\n",
    "plt.plot(x_tst, m + 2 * s, 'g', linewidth=2, label=r'mean + 2 stddev');\n",
    "plt.plot(x_tst, m - 2 * s, 'g', linewidth=2, label=r'mean - 2 stddev');\n",
    "\n",
    "plt.ylim(-0.,17);\n",
    "plt.yticks(np.linspace(0, 15, 4)[1:]);\n",
    "plt.xticks(np.linspace(*x_range, num=9));\n",
    "\n",
    "ax=plt.gca();\n",
    "ax.xaxis.set_ticks_position('bottom')\n",
    "ax.yaxis.set_ticks_position('left')\n",
    "ax.spines['left'].set_position(('data', 0))\n",
    "ax.spines['top'].set_visible(False)\n",
    "ax.spines['right'].set_visible(False)\n",
    "#ax.spines['left'].set_smart_bounds(True)\n",
    "#ax.spines['bottom'].set_smart_bounds(True)\n",
    "plt.legend(loc='center left', fancybox=True, framealpha=0., bbox_to_anchor=(1.05, 0.5))"
   ]
  },
  {
   "cell_type": "code",
   "execution_count": 14,
   "metadata": {},
   "outputs": [
    {
     "name": "stdout",
     "output_type": "stream",
     "text": [
      "[0.1364388 1.022357 ]\n",
      "[ 5.2140856 20.775581 ]\n"
     ]
    }
   ],
   "source": [
    "# Build model.\n",
    "model = tf.keras.Sequential([\n",
    "  tf.keras.layers.Dense(1 + 1),\n",
    "  tfp.layers.DistributionLambda(\n",
    "      lambda t: tfd.Normal(loc=t[..., :1],\n",
    "                           scale=1e-3 + tf.math.softplus(0.05 * t[...,1:]))),\n",
    "])\n",
    "\n",
    "# Do inference.\n",
    "model.compile(optimizer=tf.keras.optimizers.Adam(lr=0.05), loss=negloglik)\n",
    "model.fit(x, y, epochs=500, verbose=False);\n",
    "\n",
    "# Profit.\n",
    "[print(np.squeeze(K.get_value(w))) for w in model.weights];\n",
    "yhat = model(x_tst)\n",
    "assert isinstance(yhat, tfd.Distribution)"
   ]
  },
  {
   "cell_type": "code",
   "execution_count": 15,
   "metadata": {},
   "outputs": [
    {
     "data": {
      "text/plain": [
       "<matplotlib.legend.Legend at 0x7f045c3f0940>"
      ]
     },
     "execution_count": 15,
     "metadata": {},
     "output_type": "execute_result"
    },
    {
     "data": {
      "image/png": "[encoded data removed]",
      "text/plain": [
       "<Figure size 432x108 with 1 Axes>"
      ]
     },
     "metadata": {
      "needs_background": "light"
     },
     "output_type": "display_data"
    }
   ],
   "source": [
    "#@title Figure 2: Aleatoric Uncertainty\n",
    "plt.figure(figsize=[6, 1.5])  # inches\n",
    "plt.plot(x, y, 'b.', label='observed');\n",
    "\n",
    "m = K.get_value(yhat.mean())\n",
    "s = K.get_value(yhat.stddev())\n",
    "\n",
    "plt.plot(x_tst, m, 'r', linewidth=4, label='mean');\n",
    "plt.plot(x_tst, m + 2 * s, 'g', linewidth=2, label=r'mean + 2 stddev');\n",
    "plt.plot(x_tst, m - 2 * s, 'g', linewidth=2, label=r'mean - 2 stddev');\n",
    "\n",
    "plt.ylim(-0.,17);\n",
    "plt.yticks(np.linspace(0, 15, 4)[1:]);\n",
    "plt.xticks(np.linspace(*x_range, num=9));\n",
    "\n",
    "ax=plt.gca();\n",
    "ax.xaxis.set_ticks_position('bottom')\n",
    "ax.yaxis.set_ticks_position('left')\n",
    "ax.spines['left'].set_position(('data', 0))\n",
    "ax.spines['top'].set_visible(False)\n",
    "ax.spines['right'].set_visible(False)\n",
    "#ax.spines['left'].set_smart_bounds(True)\n",
    "#ax.spines['bottom'].set_smart_bounds(True)\n",
    "plt.legend(loc='center left', fancybox=True, framealpha=0., bbox_to_anchor=(1.05, 0.5))"
   ]
  },
  {
   "cell_type": "code",
   "execution_count": 30,
   "metadata": {},
   "outputs": [],
   "source": [
    "# Specify the surrogate posterior over `keras.layers.Dense` `kernel` and `bias`.\n",
    "def posterior_mean_field(kernel_size, bias_size=0, dtype=None):\n",
    "    n = kernel_size + bias_size\n",
    "    c = np.log(np.expm1(1.))\n",
    "    return tf.keras.Sequential([\n",
    "      tfp.layers.VariableLayer(2 * n, dtype=dtype),\n",
    "      tfp.layers.DistributionLambda(lambda t: tfd.Independent(\n",
    "          tfd.Normal(loc=t[..., :n],\n",
    "                     scale=1e-5 + tf.nn.softplus(c + t[..., n:])),\n",
    "          reinterpreted_batch_ndims=1)),\n",
    "    ])"
   ]
  },
  {
   "cell_type": "code",
   "execution_count": 31,
   "metadata": {},
   "outputs": [],
   "source": [
    "# Specify the prior over `keras.layers.Dense` `kernel` and `bias`.\n",
    "def prior_trainable(kernel_size, bias_size=0, dtype=None):\n",
    "    n = kernel_size + bias_size\n",
    "    return tf.keras.Sequential([\n",
    "      tfp.layers.VariableLayer(n, dtype=dtype),\n",
    "      tfp.layers.DistributionLambda(lambda t: tfd.Independent(\n",
    "          tfd.Normal(loc=t, scale=1),\n",
    "          reinterpreted_batch_ndims=1)),\n",
    "    ])"
   ]
  },
  {
   "cell_type": "code",
   "execution_count": 32,
   "metadata": {},
   "outputs": [
    {
     "name": "stdout",
     "output_type": "stream",
     "text": [
      "[ 0.1347285  5.1545315 -4.6788177 -2.623482 ]\n",
      "[0.15406725 5.203264  ]\n"
     ]
    }
   ],
   "source": [
    "# Build model.\n",
    "model = tf.keras.Sequential([\n",
    "  tfp.layers.DenseVariational(1, posterior_mean_field, prior_trainable, kl_weight=1/x.shape[0]),\n",
    "  tfp.layers.DistributionLambda(lambda t: tfd.Normal(loc=t, scale=1)),\n",
    "])\n",
    "\n",
    "# Do inference.\n",
    "model.compile(optimizer=tf.keras.optimizers.Adam(lr=0.05), loss=negloglik)\n",
    "model.fit(x, y, epochs=500, verbose=False);\n",
    "\n",
    "# Profit.\n",
    "[print(np.squeeze(K.get_value(w))) for w in model.weights];\n",
    "yhat = model(x_tst)\n",
    "assert isinstance(yhat, tfd.Distribution)"
   ]
  },
  {
   "cell_type": "code",
   "execution_count": 31,
   "metadata": {},
   "outputs": [
    {
     "data": {
      "text/plain": [
       "<matplotlib.legend.Legend at 0x7f03c4424e10>"
      ]
     },
     "execution_count": 31,
     "metadata": {},
     "output_type": "execute_result"
    },
    {
     "data": {
      "image/png": "[encoded data removed]",
      "text/plain": [
       "<Figure size 432x108 with 1 Axes>"
      ]
     },
     "metadata": {
      "needs_background": "light"
     },
     "output_type": "display_data"
    }
   ],
   "source": [
    "#@title Figure 3: Epistemic Uncertainty\n",
    "plt.figure(figsize=[6, 1.5])  # inches\n",
    "plt.clf();\n",
    "plt.plot(x, y, 'b.', label='observed');\n",
    "\n",
    "yhats = [model(x_tst) for _ in range(100)]\n",
    "avgm = np.zeros_like(x_tst[..., 0])\n",
    "for i, yhat in enumerate(yhats):\n",
    "    m = np.squeeze(yhat.mean())\n",
    "    s = np.squeeze(yhat.stddev())\n",
    "    if i < 25:\n",
    "        plt.plot(x_tst, m, 'r', label='ensemble means' if i == 0 else None, linewidth=0.5)\n",
    "    avgm += m\n",
    "plt.plot(x_tst, avgm/len(yhats), 'r', label='overall mean', linewidth=4)\n",
    "\n",
    "plt.ylim(-0.,17);\n",
    "plt.yticks(np.linspace(0, 15, 4)[1:]);\n",
    "plt.xticks(np.linspace(*x_range, num=9));\n",
    "\n",
    "ax=plt.gca();\n",
    "ax.xaxis.set_ticks_position('bottom')\n",
    "ax.yaxis.set_ticks_position('left')\n",
    "ax.spines['left'].set_position(('data', 0))\n",
    "ax.spines['top'].set_visible(False)\n",
    "ax.spines['right'].set_visible(False)\n",
    "#ax.spines['left'].set_smart_bounds(True)\n",
    "#ax.spines['bottom'].set_smart_bounds(True)\n",
    "plt.legend(loc='center left', fancybox=True, framealpha=0., bbox_to_anchor=(1.05, 0.5))"
   ]
  },
  {
   "cell_type": "code",
   "execution_count": 35,
   "metadata": {},
   "outputs": [],
   "source": [
    "# Build model.\n",
    "model = tf.keras.Sequential([\n",
    "  tfp.layers.DenseVariational(1 + 1, posterior_mean_field, prior_trainable, kl_weight=1/x.shape[0]),\n",
    "  tfp.layers.DistributionLambda(\n",
    "      lambda t: tfd.Normal(loc=t[..., :1],\n",
    "                           scale=1e-3 + tf.math.softplus(0.01 * t[...,1:]))),\n",
    "])\n",
    "model.compile(optimizer=tf.optimizers.Adam(learning_rate=0.05), loss=negloglik)"
   ]
  },
  {
   "cell_type": "code",
   "execution_count": 38,
   "metadata": {},
   "outputs": [
    {
     "name": "stdout",
     "output_type": "stream",
     "text": [
      "Model: \"sequential_4\"\n",
      "_________________________________________________________________\n",
      "Layer (type)                 Output Shape              Param #   \n",
      "=================================================================\n",
      "dense_variational_2 (DenseVa multiple                  12        \n",
      "_________________________________________________________________\n",
      "distribution_lambda_4 (Distr multiple                  0         \n",
      "=================================================================\n",
      "Total params: 12\n",
      "Trainable params: 12\n",
      "Non-trainable params: 0\n",
      "_________________________________________________________________\n"
     ]
    }
   ],
   "source": [
    "model.summary()"
   ]
  },
  {
   "cell_type": "code",
   "execution_count": 37,
   "metadata": {},
   "outputs": [
    {
     "name": "stdout",
     "output_type": "stream",
     "text": [
      "[ 0.12188     2.9946969   5.216027    4.5018263  -3.6408923  -0.91884524\n",
      " -2.3070433   0.17789598]\n",
      "[0.15538414 2.9834676  5.168482   4.7891135 ]\n"
     ]
    }
   ],
   "source": [
    "# Do inference.\n",
    "model.fit(x, y, epochs=500, verbose=False);\n",
    "\n",
    "# Profit.\n",
    "[print(np.squeeze(w.numpy())) for w in model.weights];\n",
    "yhat = model(x_tst)\n",
    "assert isinstance(yhat, tfd.Distribution)"
   ]
  },
  {
   "cell_type": "code",
   "execution_count": 38,
   "metadata": {},
   "outputs": [
    {
     "data": {
      "text/plain": [
       "<matplotlib.legend.Legend at 0x7f04641e39e8>"
      ]
     },
     "execution_count": 38,
     "metadata": {},
     "output_type": "execute_result"
    },
    {
     "data": {
      "image/png": "[encoded data removed]",
      "text/plain": [
       "<Figure size 432x108 with 1 Axes>"
      ]
     },
     "metadata": {
      "needs_background": "light"
     },
     "output_type": "display_data"
    }
   ],
   "source": [
    "#@title Figure 4: Both Aleatoric & Epistemic Uncertainty\n",
    "plt.figure(figsize=[6, 1.5])  # inches\n",
    "plt.plot(x, y, 'b.', label='observed');\n",
    "\n",
    "yhats = [model(x_tst) for _ in range(100)]\n",
    "avgm = np.zeros_like(x_tst[..., 0])\n",
    "for i, yhat in enumerate(yhats):\n",
    "    m = np.squeeze(yhat.mean())\n",
    "    s = np.squeeze(yhat.stddev())\n",
    "    if i < 15:\n",
    "        plt.plot(x_tst, m, 'r', label='ensemble means' if i == 0 else None, linewidth=1.)\n",
    "        plt.plot(x_tst, m + 2 * s, 'g', linewidth=0.5, label='ensemble means + 2 ensemble stdev' if i == 0 else None);\n",
    "        plt.plot(x_tst, m - 2 * s, 'g', linewidth=0.5, label='ensemble means - 2 ensemble stdev' if i == 0 else None);\n",
    "    avgm += m\n",
    "plt.plot(x_tst, avgm/len(yhats), 'r', label='overall mean', linewidth=4)\n",
    "\n",
    "plt.ylim(-0.,17);\n",
    "plt.yticks(np.linspace(0, 15, 4)[1:]);\n",
    "plt.xticks(np.linspace(*x_range, num=9));\n",
    "\n",
    "ax=plt.gca();\n",
    "ax.xaxis.set_ticks_position('bottom')\n",
    "ax.yaxis.set_ticks_position('left')\n",
    "ax.spines['left'].set_position(('data', 0))\n",
    "ax.spines['top'].set_visible(False)\n",
    "ax.spines['right'].set_visible(False)\n",
    "#ax.spines['left'].set_smart_bounds(True)\n",
    "#ax.spines['bottom'].set_smart_bounds(True)\n",
    "plt.legend(loc='center left', fancybox=True, framealpha=0., bbox_to_anchor=(1.05, 0.5))\n"
   ]
  },
  {
   "cell_type": "code",
   "execution_count": 39,
   "metadata": {},
   "outputs": [
    {
     "name": "stdout",
     "output_type": "stream",
     "text": [
      "[ 1.15858272e-01  5.40172386e+00  5.20784616e+00  1.58995895e+02\n",
      " -5.61118221e+00 -1.46483552e+00 -2.08585644e+00  1.19899265e-01]\n",
      "[  0.18602853   5.387636     5.1905613  159.11699   ]\n"
     ]
    }
   ],
   "source": [
    "# Do inference.\n",
    "model.compile(optimizer=tf.optimizers.Adam(learning_rate=0.05), loss=negloglik)\n",
    "model.fit(x, y, epochs=2000, verbose=False);\n",
    "\n",
    "# Profit.\n",
    "[print(np.squeeze(w.numpy())) for w in model.weights];\n",
    "yhat = model(x_tst)\n",
    "assert isinstance(yhat, tfd.Distribution)"
   ]
  },
  {
   "cell_type": "code",
   "execution_count": 40,
   "metadata": {
    "scrolled": true
   },
   "outputs": [
    {
     "data": {
      "text/plain": [
       "<matplotlib.legend.Legend at 0x7f045c798e80>"
      ]
     },
     "execution_count": 40,
     "metadata": {},
     "output_type": "execute_result"
    },
    {
     "data": {
      "image/png": "[encoded data removed]",
      "text/plain": [
       "<Figure size 432x108 with 1 Axes>"
      ]
     },
     "metadata": {
      "needs_background": "light"
     },
     "output_type": "display_data"
    }
   ],
   "source": [
    "#@title Figure 4: Both Aleatoric & Epistemic Uncertainty\n",
    "plt.figure(figsize=[6, 1.5])  # inches\n",
    "plt.plot(x, y, 'b.', label='observed');\n",
    "\n",
    "yhats = [model(x_tst) for _ in range(100)]\n",
    "avgm = np.zeros_like(x_tst[..., 0])\n",
    "for i, yhat in enumerate(yhats):\n",
    "    m = np.squeeze(yhat.mean())\n",
    "    s = np.squeeze(yhat.stddev())\n",
    "    if i < 15:\n",
    "        plt.plot(x_tst, m, 'r', label='ensemble means' if i == 0 else None, linewidth=1.)\n",
    "        plt.plot(x_tst, m + 2 * s, 'g', linewidth=0.5, label='ensemble means + 2 ensemble stdev' if i == 0 else None);\n",
    "        plt.plot(x_tst, m - 2 * s, 'g', linewidth=0.5, label='ensemble means - 2 ensemble stdev' if i == 0 else None);\n",
    "    avgm += m\n",
    "plt.plot(x_tst, avgm/len(yhats), 'r', label='overall mean', linewidth=4)\n",
    "\n",
    "plt.ylim(-0.,17);\n",
    "plt.yticks(np.linspace(0, 15, 4)[1:]);\n",
    "plt.xticks(np.linspace(*x_range, num=9));\n",
    "\n",
    "ax=plt.gca();\n",
    "ax.xaxis.set_ticks_position('bottom')\n",
    "ax.yaxis.set_ticks_position('left')\n",
    "ax.spines['left'].set_position(('data', 0))\n",
    "ax.spines['top'].set_visible(False)\n",
    "ax.spines['right'].set_visible(False)\n",
    "#ax.spines['left'].set_smart_bounds(True)\n",
    "#ax.spines['bottom'].set_smart_bounds(True)\n",
    "plt.legend(loc='center left', fancybox=True, framealpha=0., bbox_to_anchor=(1.05, 0.5))\n"
   ]
  },
  {
   "cell_type": "code",
   "execution_count": null,
   "metadata": {},
   "outputs": [],
   "source": []
  },
  {
   "cell_type": "code",
   "execution_count": 23,
   "metadata": {},
   "outputs": [],
   "source": [
    "model = tf.keras.Sequential([\n",
    "  tf.keras.layers.Dense(1),\n",
    "  tfp.layers.DistributionLambda(lambda t: tfd.MultivariateNormalFullCovariance(loc=t, covariance_matrix=...)),\n",
    "])"
   ]
  },
  {
   "cell_type": "code",
   "execution_count": 24,
   "metadata": {},
   "outputs": [],
   "source": [
    "# Do inference.\n",
    "model.compile(optimizer=tf.optimizers.Adam(learning_rate=0.05), loss=negloglik)"
   ]
  },
  {
   "cell_type": "code",
   "execution_count": 26,
   "metadata": {},
   "outputs": [
    {
     "name": "stdout",
     "output_type": "stream",
     "text": [
      "Model: \"sequential_1\"\n",
      "_________________________________________________________________\n",
      "Layer (type)                 Output Shape              Param #   \n",
      "=================================================================\n",
      "dense_1 (Dense)              multiple                  2         \n",
      "_________________________________________________________________\n",
      "distribution_lambda_1 (Distr multiple                  0         \n",
      "=================================================================\n",
      "Total params: 2\n",
      "Trainable params: 2\n",
      "Non-trainable params: 0\n",
      "_________________________________________________________________\n"
     ]
    }
   ],
   "source": [
    "model.summary()"
   ]
  },
  {
   "cell_type": "code",
   "execution_count": 25,
   "metadata": {},
   "outputs": [
    {
     "ename": "TypeError",
     "evalue": "in converted code:\n\n    /sps/lsst/users/barcelin/miniconda/envs/python_cpu6/lib/python3.6/site-packages/tensorflow_probability/python/layers/distribution_layer.py:213 call\n        inputs, *args, **kwargs)\n    /sps/lsst/users/barcelin/miniconda/envs/python_cpu6/lib/python3.6/site-packages/tensorflow_core/python/keras/layers/core.py:795 call\n        return self.function(inputs, **arguments)\n    /sps/lsst/users/barcelin/miniconda/envs/python_cpu6/lib/python3.6/site-packages/tensorflow_probability/python/layers/distribution_layer.py:161 _fn\n        d = make_distribution_fn(*fargs, **fkwargs)\n    <ipython-input-23-945273030739>:3 <lambda>\n        tfp.layers.DistributionLambda(lambda t: tfd.MultivariateNormalFullCovariance(loc=t, covariance_matrix=...)),\n    </sps/lsst/users/barcelin/miniconda/envs/python_cpu6/lib/python3.6/site-packages/decorator.py:decorator-gen-288>:2 __init__\n        \n    /sps/lsst/users/barcelin/miniconda/envs/python_cpu6/lib/python3.6/site-packages/tensorflow_probability/python/distributions/distribution.py:276 wrapped_init\n        default_init(self_, *args, **kwargs)\n    /sps/lsst/users/barcelin/miniconda/envs/python_cpu6/lib/python3.6/site-packages/tensorflow_probability/python/distributions/mvn_full_covariance.py:169 __init__\n        covariance_matrix, name=\"covariance_matrix\", dtype=dtype)\n    /sps/lsst/users/barcelin/miniconda/envs/python_cpu6/lib/python3.6/site-packages/tensorflow_core/python/framework/ops.py:1242 convert_to_tensor_v2\n        as_ref=False)\n    /sps/lsst/users/barcelin/miniconda/envs/python_cpu6/lib/python3.6/site-packages/tensorflow_core/python/framework/ops.py:1296 internal_convert_to_tensor\n        ret = conversion_func(value, dtype=dtype, name=name, as_ref=as_ref)\n    /sps/lsst/users/barcelin/miniconda/envs/python_cpu6/lib/python3.6/site-packages/tensorflow_core/python/framework/constant_op.py:286 _constant_tensor_conversion_function\n        return constant(v, dtype=dtype, name=name)\n    /sps/lsst/users/barcelin/miniconda/envs/python_cpu6/lib/python3.6/site-packages/tensorflow_core/python/framework/constant_op.py:227 constant\n        allow_broadcast=True)\n    /sps/lsst/users/barcelin/miniconda/envs/python_cpu6/lib/python3.6/site-packages/tensorflow_core/python/framework/constant_op.py:265 _constant_impl\n        allow_broadcast=allow_broadcast))\n    /sps/lsst/users/barcelin/miniconda/envs/python_cpu6/lib/python3.6/site-packages/tensorflow_core/python/framework/tensor_util.py:449 make_tensor_proto\n        _AssertCompatible(values, dtype)\n    /sps/lsst/users/barcelin/miniconda/envs/python_cpu6/lib/python3.6/site-packages/tensorflow_core/python/framework/tensor_util.py:331 _AssertCompatible\n        (dtype.name, repr(mismatch), type(mismatch).__name__))\n\n    TypeError: Expected float32, got Ellipsis of type 'ellipsis' instead.\n",
     "output_type": "error",
     "traceback": [
      "\u001b[0;31m\u001b[0m",
      "\u001b[0;31mTypeError\u001b[0mTraceback (most recent call last)",
      "\u001b[0;32m<ipython-input-25-3c44db2b13f0>\u001b[0m in \u001b[0;36m<module>\u001b[0;34m\u001b[0m\n\u001b[0;32m----> 1\u001b[0;31m \u001b[0mmodel\u001b[0m\u001b[0;34m.\u001b[0m\u001b[0mfit\u001b[0m\u001b[0;34m(\u001b[0m\u001b[0mx\u001b[0m\u001b[0;34m,\u001b[0m \u001b[0my\u001b[0m\u001b[0;34m,\u001b[0m \u001b[0mepochs\u001b[0m\u001b[0;34m=\u001b[0m\u001b[0;36m500\u001b[0m\u001b[0;34m,\u001b[0m \u001b[0mverbose\u001b[0m\u001b[0;34m=\u001b[0m\u001b[0;32mFalse\u001b[0m\u001b[0;34m)\u001b[0m\u001b[0;34m;\u001b[0m\u001b[0;34m\u001b[0m\u001b[0;34m\u001b[0m\u001b[0m\n\u001b[0m",
      "\u001b[0;32m/sps/lsst/users/barcelin/miniconda/envs/python_cpu6/lib/python3.6/site-packages/tensorflow_core/python/keras/engine/training.py\u001b[0m in \u001b[0;36mfit\u001b[0;34m(self, x, y, batch_size, epochs, verbose, callbacks, validation_split, validation_data, shuffle, class_weight, sample_weight, initial_epoch, steps_per_epoch, validation_steps, validation_freq, max_queue_size, workers, use_multiprocessing, **kwargs)\u001b[0m\n\u001b[1;32m    726\u001b[0m         \u001b[0mmax_queue_size\u001b[0m\u001b[0;34m=\u001b[0m\u001b[0mmax_queue_size\u001b[0m\u001b[0;34m,\u001b[0m\u001b[0;34m\u001b[0m\u001b[0;34m\u001b[0m\u001b[0m\n\u001b[1;32m    727\u001b[0m         \u001b[0mworkers\u001b[0m\u001b[0;34m=\u001b[0m\u001b[0mworkers\u001b[0m\u001b[0;34m,\u001b[0m\u001b[0;34m\u001b[0m\u001b[0;34m\u001b[0m\u001b[0m\n\u001b[0;32m--> 728\u001b[0;31m         use_multiprocessing=use_multiprocessing)\n\u001b[0m\u001b[1;32m    729\u001b[0m \u001b[0;34m\u001b[0m\u001b[0m\n\u001b[1;32m    730\u001b[0m   def evaluate(self,\n",
      "\u001b[0;32m/sps/lsst/users/barcelin/miniconda/envs/python_cpu6/lib/python3.6/site-packages/tensorflow_core/python/keras/engine/training_v2.py\u001b[0m in \u001b[0;36mfit\u001b[0;34m(self, model, x, y, batch_size, epochs, verbose, callbacks, validation_split, validation_data, shuffle, class_weight, sample_weight, initial_epoch, steps_per_epoch, validation_steps, validation_freq, **kwargs)\u001b[0m\n\u001b[1;32m    222\u001b[0m           \u001b[0mvalidation_data\u001b[0m\u001b[0;34m=\u001b[0m\u001b[0mvalidation_data\u001b[0m\u001b[0;34m,\u001b[0m\u001b[0;34m\u001b[0m\u001b[0;34m\u001b[0m\u001b[0m\n\u001b[1;32m    223\u001b[0m           \u001b[0mvalidation_steps\u001b[0m\u001b[0;34m=\u001b[0m\u001b[0mvalidation_steps\u001b[0m\u001b[0;34m,\u001b[0m\u001b[0;34m\u001b[0m\u001b[0;34m\u001b[0m\u001b[0m\n\u001b[0;32m--> 224\u001b[0;31m           distribution_strategy=strategy)\n\u001b[0m\u001b[1;32m    225\u001b[0m \u001b[0;34m\u001b[0m\u001b[0m\n\u001b[1;32m    226\u001b[0m       \u001b[0mtotal_samples\u001b[0m \u001b[0;34m=\u001b[0m \u001b[0m_get_total_number_of_samples\u001b[0m\u001b[0;34m(\u001b[0m\u001b[0mtraining_data_adapter\u001b[0m\u001b[0;34m)\u001b[0m\u001b[0;34m\u001b[0m\u001b[0;34m\u001b[0m\u001b[0m\n",
      "\u001b[0;32m/sps/lsst/users/barcelin/miniconda/envs/python_cpu6/lib/python3.6/site-packages/tensorflow_core/python/keras/engine/training_v2.py\u001b[0m in \u001b[0;36m_process_training_inputs\u001b[0;34m(model, x, y, batch_size, epochs, sample_weights, class_weights, steps_per_epoch, validation_split, validation_data, validation_steps, shuffle, distribution_strategy, max_queue_size, workers, use_multiprocessing)\u001b[0m\n\u001b[1;32m    545\u001b[0m         \u001b[0mmax_queue_size\u001b[0m\u001b[0;34m=\u001b[0m\u001b[0mmax_queue_size\u001b[0m\u001b[0;34m,\u001b[0m\u001b[0;34m\u001b[0m\u001b[0;34m\u001b[0m\u001b[0m\n\u001b[1;32m    546\u001b[0m         \u001b[0mworkers\u001b[0m\u001b[0;34m=\u001b[0m\u001b[0mworkers\u001b[0m\u001b[0;34m,\u001b[0m\u001b[0;34m\u001b[0m\u001b[0;34m\u001b[0m\u001b[0m\n\u001b[0;32m--> 547\u001b[0;31m         use_multiprocessing=use_multiprocessing)\n\u001b[0m\u001b[1;32m    548\u001b[0m     \u001b[0mval_adapter\u001b[0m \u001b[0;34m=\u001b[0m \u001b[0;32mNone\u001b[0m\u001b[0;34m\u001b[0m\u001b[0;34m\u001b[0m\u001b[0m\n\u001b[1;32m    549\u001b[0m     \u001b[0;32mif\u001b[0m \u001b[0mvalidation_data\u001b[0m\u001b[0;34m:\u001b[0m\u001b[0;34m\u001b[0m\u001b[0;34m\u001b[0m\u001b[0m\n",
      "\u001b[0;32m/sps/lsst/users/barcelin/miniconda/envs/python_cpu6/lib/python3.6/site-packages/tensorflow_core/python/keras/engine/training_v2.py\u001b[0m in \u001b[0;36m_process_inputs\u001b[0;34m(model, x, y, batch_size, epochs, sample_weights, class_weights, shuffle, steps, distribution_strategy, max_queue_size, workers, use_multiprocessing)\u001b[0m\n\u001b[1;32m    592\u001b[0m         \u001b[0mbatch_size\u001b[0m\u001b[0;34m=\u001b[0m\u001b[0mbatch_size\u001b[0m\u001b[0;34m,\u001b[0m\u001b[0;34m\u001b[0m\u001b[0;34m\u001b[0m\u001b[0m\n\u001b[1;32m    593\u001b[0m         \u001b[0mcheck_steps\u001b[0m\u001b[0;34m=\u001b[0m\u001b[0;32mFalse\u001b[0m\u001b[0;34m,\u001b[0m\u001b[0;34m\u001b[0m\u001b[0;34m\u001b[0m\u001b[0m\n\u001b[0;32m--> 594\u001b[0;31m         steps=steps)\n\u001b[0m\u001b[1;32m    595\u001b[0m   adapter = adapter_cls(\n\u001b[1;32m    596\u001b[0m       \u001b[0mx\u001b[0m\u001b[0;34m,\u001b[0m\u001b[0;34m\u001b[0m\u001b[0;34m\u001b[0m\u001b[0m\n",
      "\u001b[0;32m/sps/lsst/users/barcelin/miniconda/envs/python_cpu6/lib/python3.6/site-packages/tensorflow_core/python/keras/engine/training.py\u001b[0m in \u001b[0;36m_standardize_user_data\u001b[0;34m(self, x, y, sample_weight, class_weight, batch_size, check_steps, steps_name, steps, validation_split, shuffle, extract_tensors_from_dataset)\u001b[0m\n\u001b[1;32m   2417\u001b[0m     \u001b[0;31m# First, we build the model on the fly if necessary.\u001b[0m\u001b[0;34m\u001b[0m\u001b[0;34m\u001b[0m\u001b[0;34m\u001b[0m\u001b[0m\n\u001b[1;32m   2418\u001b[0m     \u001b[0;32mif\u001b[0m \u001b[0;32mnot\u001b[0m \u001b[0mself\u001b[0m\u001b[0;34m.\u001b[0m\u001b[0minputs\u001b[0m\u001b[0;34m:\u001b[0m\u001b[0;34m\u001b[0m\u001b[0;34m\u001b[0m\u001b[0m\n\u001b[0;32m-> 2419\u001b[0;31m       \u001b[0mall_inputs\u001b[0m\u001b[0;34m,\u001b[0m \u001b[0my_input\u001b[0m\u001b[0;34m,\u001b[0m \u001b[0mdict_inputs\u001b[0m \u001b[0;34m=\u001b[0m \u001b[0mself\u001b[0m\u001b[0;34m.\u001b[0m\u001b[0m_build_model_with_inputs\u001b[0m\u001b[0;34m(\u001b[0m\u001b[0mx\u001b[0m\u001b[0;34m,\u001b[0m \u001b[0my\u001b[0m\u001b[0;34m)\u001b[0m\u001b[0;34m\u001b[0m\u001b[0;34m\u001b[0m\u001b[0m\n\u001b[0m\u001b[1;32m   2420\u001b[0m       \u001b[0mis_build_called\u001b[0m \u001b[0;34m=\u001b[0m \u001b[0;32mTrue\u001b[0m\u001b[0;34m\u001b[0m\u001b[0;34m\u001b[0m\u001b[0m\n\u001b[1;32m   2421\u001b[0m     \u001b[0;32melse\u001b[0m\u001b[0;34m:\u001b[0m\u001b[0;34m\u001b[0m\u001b[0;34m\u001b[0m\u001b[0m\n",
      "\u001b[0;32m/sps/lsst/users/barcelin/miniconda/envs/python_cpu6/lib/python3.6/site-packages/tensorflow_core/python/keras/engine/training.py\u001b[0m in \u001b[0;36m_build_model_with_inputs\u001b[0;34m(self, inputs, targets)\u001b[0m\n\u001b[1;32m   2620\u001b[0m     \u001b[0;32melse\u001b[0m\u001b[0;34m:\u001b[0m\u001b[0;34m\u001b[0m\u001b[0;34m\u001b[0m\u001b[0m\n\u001b[1;32m   2621\u001b[0m       \u001b[0mcast_inputs\u001b[0m \u001b[0;34m=\u001b[0m \u001b[0minputs\u001b[0m\u001b[0;34m\u001b[0m\u001b[0;34m\u001b[0m\u001b[0m\n\u001b[0;32m-> 2622\u001b[0;31m     \u001b[0mself\u001b[0m\u001b[0;34m.\u001b[0m\u001b[0m_set_inputs\u001b[0m\u001b[0;34m(\u001b[0m\u001b[0mcast_inputs\u001b[0m\u001b[0;34m)\u001b[0m\u001b[0;34m\u001b[0m\u001b[0;34m\u001b[0m\u001b[0m\n\u001b[0m\u001b[1;32m   2623\u001b[0m     \u001b[0;32mreturn\u001b[0m \u001b[0mprocessed_inputs\u001b[0m\u001b[0;34m,\u001b[0m \u001b[0mtargets\u001b[0m\u001b[0;34m,\u001b[0m \u001b[0mis_dict_inputs\u001b[0m\u001b[0;34m\u001b[0m\u001b[0;34m\u001b[0m\u001b[0m\n\u001b[1;32m   2624\u001b[0m \u001b[0;34m\u001b[0m\u001b[0m\n",
      "\u001b[0;32m/sps/lsst/users/barcelin/miniconda/envs/python_cpu6/lib/python3.6/site-packages/tensorflow_core/python/keras/engine/training.py\u001b[0m in \u001b[0;36m_set_inputs\u001b[0;34m(self, inputs, outputs, training)\u001b[0m\n\u001b[1;32m   2707\u001b[0m           \u001b[0mkwargs\u001b[0m\u001b[0;34m[\u001b[0m\u001b[0;34m'training'\u001b[0m\u001b[0;34m]\u001b[0m \u001b[0;34m=\u001b[0m \u001b[0mtraining\u001b[0m\u001b[0;34m\u001b[0m\u001b[0;34m\u001b[0m\u001b[0m\n\u001b[1;32m   2708\u001b[0m       \u001b[0;32mtry\u001b[0m\u001b[0;34m:\u001b[0m\u001b[0;34m\u001b[0m\u001b[0;34m\u001b[0m\u001b[0m\n\u001b[0;32m-> 2709\u001b[0;31m         \u001b[0moutputs\u001b[0m \u001b[0;34m=\u001b[0m \u001b[0mself\u001b[0m\u001b[0;34m(\u001b[0m\u001b[0minputs\u001b[0m\u001b[0;34m,\u001b[0m \u001b[0;34m**\u001b[0m\u001b[0mkwargs\u001b[0m\u001b[0;34m)\u001b[0m\u001b[0;34m\u001b[0m\u001b[0;34m\u001b[0m\u001b[0m\n\u001b[0m\u001b[1;32m   2710\u001b[0m       \u001b[0;32mexcept\u001b[0m \u001b[0mNotImplementedError\u001b[0m\u001b[0;34m:\u001b[0m\u001b[0;34m\u001b[0m\u001b[0;34m\u001b[0m\u001b[0m\n\u001b[1;32m   2711\u001b[0m         \u001b[0;31m# This Model or a submodel is dynamic and hasn't overridden\u001b[0m\u001b[0;34m\u001b[0m\u001b[0;34m\u001b[0m\u001b[0;34m\u001b[0m\u001b[0m\n",
      "\u001b[0;32m/sps/lsst/users/barcelin/miniconda/envs/python_cpu6/lib/python3.6/site-packages/tensorflow_core/python/keras/engine/base_layer.py\u001b[0m in \u001b[0;36m__call__\u001b[0;34m(self, inputs, *args, **kwargs)\u001b[0m\n\u001b[1;32m    840\u001b[0m                     not base_layer_utils.is_in_eager_or_tf_function()):\n\u001b[1;32m    841\u001b[0m                   \u001b[0;32mwith\u001b[0m \u001b[0mauto_control_deps\u001b[0m\u001b[0;34m.\u001b[0m\u001b[0mAutomaticControlDependencies\u001b[0m\u001b[0;34m(\u001b[0m\u001b[0;34m)\u001b[0m \u001b[0;32mas\u001b[0m \u001b[0macd\u001b[0m\u001b[0;34m:\u001b[0m\u001b[0;34m\u001b[0m\u001b[0;34m\u001b[0m\u001b[0m\n\u001b[0;32m--> 842\u001b[0;31m                     \u001b[0moutputs\u001b[0m \u001b[0;34m=\u001b[0m \u001b[0mcall_fn\u001b[0m\u001b[0;34m(\u001b[0m\u001b[0mcast_inputs\u001b[0m\u001b[0;34m,\u001b[0m \u001b[0;34m*\u001b[0m\u001b[0margs\u001b[0m\u001b[0;34m,\u001b[0m \u001b[0;34m**\u001b[0m\u001b[0mkwargs\u001b[0m\u001b[0;34m)\u001b[0m\u001b[0;34m\u001b[0m\u001b[0;34m\u001b[0m\u001b[0m\n\u001b[0m\u001b[1;32m    843\u001b[0m                     \u001b[0;31m# Wrap Tensors in `outputs` in `tf.identity` to avoid\u001b[0m\u001b[0;34m\u001b[0m\u001b[0;34m\u001b[0m\u001b[0;34m\u001b[0m\u001b[0m\n\u001b[1;32m    844\u001b[0m                     \u001b[0;31m# circular dependencies.\u001b[0m\u001b[0;34m\u001b[0m\u001b[0;34m\u001b[0m\u001b[0;34m\u001b[0m\u001b[0m\n",
      "\u001b[0;32m/sps/lsst/users/barcelin/miniconda/envs/python_cpu6/lib/python3.6/site-packages/tensorflow_core/python/keras/engine/sequential.py\u001b[0m in \u001b[0;36mcall\u001b[0;34m(self, inputs, training, mask)\u001b[0m\n\u001b[1;32m    268\u001b[0m         \u001b[0mkwargs\u001b[0m\u001b[0;34m[\u001b[0m\u001b[0;34m'training'\u001b[0m\u001b[0;34m]\u001b[0m \u001b[0;34m=\u001b[0m \u001b[0mtraining\u001b[0m\u001b[0;34m\u001b[0m\u001b[0;34m\u001b[0m\u001b[0m\n\u001b[1;32m    269\u001b[0m \u001b[0;34m\u001b[0m\u001b[0m\n\u001b[0;32m--> 270\u001b[0;31m       \u001b[0moutputs\u001b[0m \u001b[0;34m=\u001b[0m \u001b[0mlayer\u001b[0m\u001b[0;34m(\u001b[0m\u001b[0minputs\u001b[0m\u001b[0;34m,\u001b[0m \u001b[0;34m**\u001b[0m\u001b[0mkwargs\u001b[0m\u001b[0;34m)\u001b[0m\u001b[0;34m\u001b[0m\u001b[0;34m\u001b[0m\u001b[0m\n\u001b[0m\u001b[1;32m    271\u001b[0m \u001b[0;34m\u001b[0m\u001b[0m\n\u001b[1;32m    272\u001b[0m       \u001b[0;31m# `outputs` will be the inputs to the next layer.\u001b[0m\u001b[0;34m\u001b[0m\u001b[0;34m\u001b[0m\u001b[0;34m\u001b[0m\u001b[0m\n",
      "\u001b[0;32m/sps/lsst/users/barcelin/miniconda/envs/python_cpu6/lib/python3.6/site-packages/tensorflow_probability/python/layers/distribution_layer.py\u001b[0m in \u001b[0;36m__call__\u001b[0;34m(self, inputs, *args, **kwargs)\u001b[0m\n\u001b[1;32m    205\u001b[0m     \u001b[0mself\u001b[0m\u001b[0;34m.\u001b[0m\u001b[0m_enter_dunder_call\u001b[0m \u001b[0;34m=\u001b[0m \u001b[0;32mTrue\u001b[0m\u001b[0;34m\u001b[0m\u001b[0;34m\u001b[0m\u001b[0m\n\u001b[1;32m    206\u001b[0m     distribution, _ = super(DistributionLambda, self).__call__(\n\u001b[0;32m--> 207\u001b[0;31m         inputs, *args, **kwargs)\n\u001b[0m\u001b[1;32m    208\u001b[0m     \u001b[0mself\u001b[0m\u001b[0;34m.\u001b[0m\u001b[0m_enter_dunder_call\u001b[0m \u001b[0;34m=\u001b[0m \u001b[0;32mFalse\u001b[0m\u001b[0;34m\u001b[0m\u001b[0;34m\u001b[0m\u001b[0m\n\u001b[1;32m    209\u001b[0m     \u001b[0;32mreturn\u001b[0m \u001b[0mdistribution\u001b[0m\u001b[0;34m\u001b[0m\u001b[0;34m\u001b[0m\u001b[0m\n",
      "\u001b[0;32m/sps/lsst/users/barcelin/miniconda/envs/python_cpu6/lib/python3.6/site-packages/tensorflow_core/python/keras/engine/base_layer.py\u001b[0m in \u001b[0;36m__call__\u001b[0;34m(self, inputs, *args, **kwargs)\u001b[0m\n\u001b[1;32m    840\u001b[0m                     not base_layer_utils.is_in_eager_or_tf_function()):\n\u001b[1;32m    841\u001b[0m                   \u001b[0;32mwith\u001b[0m \u001b[0mauto_control_deps\u001b[0m\u001b[0;34m.\u001b[0m\u001b[0mAutomaticControlDependencies\u001b[0m\u001b[0;34m(\u001b[0m\u001b[0;34m)\u001b[0m \u001b[0;32mas\u001b[0m \u001b[0macd\u001b[0m\u001b[0;34m:\u001b[0m\u001b[0;34m\u001b[0m\u001b[0;34m\u001b[0m\u001b[0m\n\u001b[0;32m--> 842\u001b[0;31m                     \u001b[0moutputs\u001b[0m \u001b[0;34m=\u001b[0m \u001b[0mcall_fn\u001b[0m\u001b[0;34m(\u001b[0m\u001b[0mcast_inputs\u001b[0m\u001b[0;34m,\u001b[0m \u001b[0;34m*\u001b[0m\u001b[0margs\u001b[0m\u001b[0;34m,\u001b[0m \u001b[0;34m**\u001b[0m\u001b[0mkwargs\u001b[0m\u001b[0;34m)\u001b[0m\u001b[0;34m\u001b[0m\u001b[0;34m\u001b[0m\u001b[0m\n\u001b[0m\u001b[1;32m    843\u001b[0m                     \u001b[0;31m# Wrap Tensors in `outputs` in `tf.identity` to avoid\u001b[0m\u001b[0;34m\u001b[0m\u001b[0;34m\u001b[0m\u001b[0;34m\u001b[0m\u001b[0m\n\u001b[1;32m    844\u001b[0m                     \u001b[0;31m# circular dependencies.\u001b[0m\u001b[0;34m\u001b[0m\u001b[0;34m\u001b[0m\u001b[0;34m\u001b[0m\u001b[0m\n",
      "\u001b[0;32m/sps/lsst/users/barcelin/miniconda/envs/python_cpu6/lib/python3.6/site-packages/tensorflow_core/python/autograph/impl/api.py\u001b[0m in \u001b[0;36mwrapper\u001b[0;34m(*args, **kwargs)\u001b[0m\n\u001b[1;32m    235\u001b[0m       \u001b[0;32mexcept\u001b[0m \u001b[0mException\u001b[0m \u001b[0;32mas\u001b[0m \u001b[0me\u001b[0m\u001b[0;34m:\u001b[0m  \u001b[0;31m# pylint:disable=broad-except\u001b[0m\u001b[0;34m\u001b[0m\u001b[0;34m\u001b[0m\u001b[0m\n\u001b[1;32m    236\u001b[0m         \u001b[0;32mif\u001b[0m \u001b[0mhasattr\u001b[0m\u001b[0;34m(\u001b[0m\u001b[0me\u001b[0m\u001b[0;34m,\u001b[0m \u001b[0;34m'ag_error_metadata'\u001b[0m\u001b[0;34m)\u001b[0m\u001b[0;34m:\u001b[0m\u001b[0;34m\u001b[0m\u001b[0;34m\u001b[0m\u001b[0m\n\u001b[0;32m--> 237\u001b[0;31m           \u001b[0;32mraise\u001b[0m \u001b[0me\u001b[0m\u001b[0;34m.\u001b[0m\u001b[0mag_error_metadata\u001b[0m\u001b[0;34m.\u001b[0m\u001b[0mto_exception\u001b[0m\u001b[0;34m(\u001b[0m\u001b[0me\u001b[0m\u001b[0;34m)\u001b[0m\u001b[0;34m\u001b[0m\u001b[0;34m\u001b[0m\u001b[0m\n\u001b[0m\u001b[1;32m    238\u001b[0m         \u001b[0;32melse\u001b[0m\u001b[0;34m:\u001b[0m\u001b[0;34m\u001b[0m\u001b[0;34m\u001b[0m\u001b[0m\n\u001b[1;32m    239\u001b[0m           \u001b[0;32mraise\u001b[0m\u001b[0;34m\u001b[0m\u001b[0;34m\u001b[0m\u001b[0m\n",
      "\u001b[0;31mTypeError\u001b[0m: in converted code:\n\n    /sps/lsst/users/barcelin/miniconda/envs/python_cpu6/lib/python3.6/site-packages/tensorflow_probability/python/layers/distribution_layer.py:213 call\n        inputs, *args, **kwargs)\n    /sps/lsst/users/barcelin/miniconda/envs/python_cpu6/lib/python3.6/site-packages/tensorflow_core/python/keras/layers/core.py:795 call\n        return self.function(inputs, **arguments)\n    /sps/lsst/users/barcelin/miniconda/envs/python_cpu6/lib/python3.6/site-packages/tensorflow_probability/python/layers/distribution_layer.py:161 _fn\n        d = make_distribution_fn(*fargs, **fkwargs)\n    <ipython-input-23-945273030739>:3 <lambda>\n        tfp.layers.DistributionLambda(lambda t: tfd.MultivariateNormalFullCovariance(loc=t, covariance_matrix=...)),\n    </sps/lsst/users/barcelin/miniconda/envs/python_cpu6/lib/python3.6/site-packages/decorator.py:decorator-gen-288>:2 __init__\n        \n    /sps/lsst/users/barcelin/miniconda/envs/python_cpu6/lib/python3.6/site-packages/tensorflow_probability/python/distributions/distribution.py:276 wrapped_init\n        default_init(self_, *args, **kwargs)\n    /sps/lsst/users/barcelin/miniconda/envs/python_cpu6/lib/python3.6/site-packages/tensorflow_probability/python/distributions/mvn_full_covariance.py:169 __init__\n        covariance_matrix, name=\"covariance_matrix\", dtype=dtype)\n    /sps/lsst/users/barcelin/miniconda/envs/python_cpu6/lib/python3.6/site-packages/tensorflow_core/python/framework/ops.py:1242 convert_to_tensor_v2\n        as_ref=False)\n    /sps/lsst/users/barcelin/miniconda/envs/python_cpu6/lib/python3.6/site-packages/tensorflow_core/python/framework/ops.py:1296 internal_convert_to_tensor\n        ret = conversion_func(value, dtype=dtype, name=name, as_ref=as_ref)\n    /sps/lsst/users/barcelin/miniconda/envs/python_cpu6/lib/python3.6/site-packages/tensorflow_core/python/framework/constant_op.py:286 _constant_tensor_conversion_function\n        return constant(v, dtype=dtype, name=name)\n    /sps/lsst/users/barcelin/miniconda/envs/python_cpu6/lib/python3.6/site-packages/tensorflow_core/python/framework/constant_op.py:227 constant\n        allow_broadcast=True)\n    /sps/lsst/users/barcelin/miniconda/envs/python_cpu6/lib/python3.6/site-packages/tensorflow_core/python/framework/constant_op.py:265 _constant_impl\n        allow_broadcast=allow_broadcast))\n    /sps/lsst/users/barcelin/miniconda/envs/python_cpu6/lib/python3.6/site-packages/tensorflow_core/python/framework/tensor_util.py:449 make_tensor_proto\n        _AssertCompatible(values, dtype)\n    /sps/lsst/users/barcelin/miniconda/envs/python_cpu6/lib/python3.6/site-packages/tensorflow_core/python/framework/tensor_util.py:331 _AssertCompatible\n        (dtype.name, repr(mismatch), type(mismatch).__name__))\n\n    TypeError: Expected float32, got Ellipsis of type 'ellipsis' instead.\n"
     ]
    }
   ],
   "source": [
    "model.fit(x, y, epochs=500, verbose=False);"
   ]
  },
  {
   "cell_type": "code",
   "execution_count": null,
   "metadata": {},
   "outputs": [],
   "source": [
    "# Profit.\n",
    "[print(np.squeeze(w.numpy())) for w in model.weights];\n",
    "yhat = model(x_tst)\n",
    "assert isinstance(yhat, tfd.Distribution)"
   ]
  },
  {
   "cell_type": "code",
   "execution_count": null,
   "metadata": {},
   "outputs": [],
   "source": []
  },
  {
   "cell_type": "code",
   "execution_count": 45,
   "metadata": {},
   "outputs": [
    {
     "name": "stdout",
     "output_type": "stream",
     "text": [
      "[1. 2. 3.]\n"
     ]
    }
   ],
   "source": [
    "mu = [1., 2, 3]\n",
    "cov = [[ 0.36,  0.12,  0.06],\n",
    "       [ 0.12,  0.29, -0.13],\n",
    "       [ 0.06, -0.13,  0.26]]\n",
    "mvn = tfd.MultivariateNormalFullCovariance(\n",
    "    loc=mu,\n",
    "    covariance_matrix=cov)\n",
    "\n",
    "print(mvn.mean().numpy())\n",
    "# ==> [1., 2, 3]"
   ]
  },
  {
   "cell_type": "code",
   "execution_count": 46,
   "metadata": {},
   "outputs": [
    {
     "name": "stdout",
     "output_type": "stream",
     "text": [
      "[[ 0.36  0.12  0.06]\n",
      " [ 0.12  0.29 -0.13]\n",
      " [ 0.06 -0.13  0.26]]\n"
     ]
    }
   ],
   "source": [
    "# Covariance agrees with covariance_matrix.\n",
    "print(mvn.covariance().numpy())\n",
    "# ==> [[ 0.36,  0.12,  0.06],\n",
    "#      [ 0.12,  0.29, -0.13],\n",
    "#      [ 0.06, -0.13,  0.26]]"
   ]
  },
  {
   "cell_type": "code",
   "execution_count": 49,
   "metadata": {},
   "outputs": [
    {
     "data": {
      "text/plain": [
       "3.2286156e-13"
      ]
     },
     "execution_count": 49,
     "metadata": {},
     "output_type": "execute_result"
    }
   ],
   "source": [
    "# Compute the pdf of an observation in `R^3` ; return a scalar.\n",
    "mvn.prob([-1., 0, 1]).numpy()  # shape: []"
   ]
  },
  {
   "cell_type": "markdown",
   "metadata": {},
   "source": [
    "## Encoder"
   ]
  },
  {
   "cell_type": "code",
   "execution_count": 2,
   "metadata": {},
   "outputs": [],
   "source": [
    "from tensorflow.keras.layers import Input, Dense, Lambda, Layer, Add, Multiply, Reshape, Flatten, BatchNormalization\n",
    "from tensorflow.keras.models import Model, Sequential\n",
    "from tensorflow.keras.layers import Conv2D, Input, Dense, Dropout, MaxPool2D, Flatten,  Reshape, UpSampling2D, Cropping2D, Conv2DTranspose, PReLU, Concatenate, Lambda, BatchNormalization, concatenate, LeakyReLU"
   ]
  },
  {
   "cell_type": "code",
   "execution_count": 3,
   "metadata": {},
   "outputs": [],
   "source": [
    "nb_of_bands = 6\n",
    "batch_size = 100 \n",
    "\n",
    "input_shape = (64, 64, nb_of_bands)\n",
    "hidden_dim = 256\n",
    "latent_dim = 32\n",
    "filters = [32, 64, 128, 256]\n",
    "kernels = [3,3,3,3]\n",
    "\n",
    "conv_activation = None\n",
    "dense_activation = None"
   ]
  },
  {
   "cell_type": "markdown",
   "metadata": {},
   "source": [
    "Tensorflow 1"
   ]
  },
  {
   "cell_type": "code",
   "execution_count": 4,
   "metadata": {},
   "outputs": [],
   "source": [
    "input_layer = Input(shape=(64,64,nb_of_bands))\n",
    "\n",
    "h = Reshape((64,64,nb_of_bands))(input_layer)\n",
    "h = BatchNormalization()(h)\n",
    "for i in range(len(filters)):\n",
    "    h = Conv2D(filters[i], (kernels[i],kernels[i]), activation=conv_activation, padding='same')(h)\n",
    "    h = PReLU()(h)\n",
    "    h = Conv2D(filters[i], (kernels[i],kernels[i]), activation=conv_activation, padding='same', strides=(2,2))(h)\n",
    "    h = PReLU()(h)\n",
    "h = Flatten()(h)\n",
    "h = Dense(hidden_dim, activation=dense_activation)(h)\n",
    "h = PReLU()(h)\n",
    "mu = Dense(latent_dim)(h)\n",
    "sigma = Dense(latent_dim, activation='softplus')(h)"
   ]
  },
  {
   "cell_type": "code",
   "execution_count": 5,
   "metadata": {},
   "outputs": [],
   "source": [
    "enc = Model(input_layer, [mu, sigma])"
   ]
  },
  {
   "cell_type": "code",
   "execution_count": 6,
   "metadata": {},
   "outputs": [
    {
     "name": "stdout",
     "output_type": "stream",
     "text": [
      "Model: \"model\"\n",
      "__________________________________________________________________________________________________\n",
      "Layer (type)                    Output Shape         Param #     Connected to                     \n",
      "==================================================================================================\n",
      "input_1 (InputLayer)            [(None, 64, 64, 6)]  0                                            \n",
      "__________________________________________________________________________________________________\n",
      "reshape (Reshape)               (None, 64, 64, 6)    0           input_1[0][0]                    \n",
      "__________________________________________________________________________________________________\n",
      "batch_normalization (BatchNorma (None, 64, 64, 6)    24          reshape[0][0]                    \n",
      "__________________________________________________________________________________________________\n",
      "conv2d (Conv2D)                 (None, 64, 64, 32)   1760        batch_normalization[0][0]        \n",
      "__________________________________________________________________________________________________\n",
      "p_re_lu (PReLU)                 (None, 64, 64, 32)   131072      conv2d[0][0]                     \n",
      "__________________________________________________________________________________________________\n",
      "conv2d_1 (Conv2D)               (None, 32, 32, 32)   9248        p_re_lu[0][0]                    \n",
      "__________________________________________________________________________________________________\n",
      "p_re_lu_1 (PReLU)               (None, 32, 32, 32)   32768       conv2d_1[0][0]                   \n",
      "__________________________________________________________________________________________________\n",
      "conv2d_2 (Conv2D)               (None, 32, 32, 64)   18496       p_re_lu_1[0][0]                  \n",
      "__________________________________________________________________________________________________\n",
      "p_re_lu_2 (PReLU)               (None, 32, 32, 64)   65536       conv2d_2[0][0]                   \n",
      "__________________________________________________________________________________________________\n",
      "conv2d_3 (Conv2D)               (None, 16, 16, 64)   36928       p_re_lu_2[0][0]                  \n",
      "__________________________________________________________________________________________________\n",
      "p_re_lu_3 (PReLU)               (None, 16, 16, 64)   16384       conv2d_3[0][0]                   \n",
      "__________________________________________________________________________________________________\n",
      "conv2d_4 (Conv2D)               (None, 16, 16, 128)  73856       p_re_lu_3[0][0]                  \n",
      "__________________________________________________________________________________________________\n",
      "p_re_lu_4 (PReLU)               (None, 16, 16, 128)  32768       conv2d_4[0][0]                   \n",
      "__________________________________________________________________________________________________\n",
      "conv2d_5 (Conv2D)               (None, 8, 8, 128)    147584      p_re_lu_4[0][0]                  \n",
      "__________________________________________________________________________________________________\n",
      "p_re_lu_5 (PReLU)               (None, 8, 8, 128)    8192        conv2d_5[0][0]                   \n",
      "__________________________________________________________________________________________________\n",
      "conv2d_6 (Conv2D)               (None, 8, 8, 256)    295168      p_re_lu_5[0][0]                  \n",
      "__________________________________________________________________________________________________\n",
      "p_re_lu_6 (PReLU)               (None, 8, 8, 256)    16384       conv2d_6[0][0]                   \n",
      "__________________________________________________________________________________________________\n",
      "conv2d_7 (Conv2D)               (None, 4, 4, 256)    590080      p_re_lu_6[0][0]                  \n",
      "__________________________________________________________________________________________________\n",
      "p_re_lu_7 (PReLU)               (None, 4, 4, 256)    4096        conv2d_7[0][0]                   \n",
      "__________________________________________________________________________________________________\n",
      "flatten (Flatten)               (None, 4096)         0           p_re_lu_7[0][0]                  \n",
      "__________________________________________________________________________________________________\n",
      "dense (Dense)                   (None, 256)          1048832     flatten[0][0]                    \n",
      "__________________________________________________________________________________________________\n",
      "p_re_lu_8 (PReLU)               (None, 256)          256         dense[0][0]                      \n",
      "__________________________________________________________________________________________________\n",
      "dense_1 (Dense)                 (None, 32)           8224        p_re_lu_8[0][0]                  \n",
      "__________________________________________________________________________________________________\n",
      "dense_2 (Dense)                 (None, 32)           8224        p_re_lu_8[0][0]                  \n",
      "==================================================================================================\n",
      "Total params: 2,545,880\n",
      "Trainable params: 2,545,868\n",
      "Non-trainable params: 12\n",
      "__________________________________________________________________________________________________\n"
     ]
    }
   ],
   "source": [
    "enc.summary()"
   ]
  },
  {
   "cell_type": "markdown",
   "metadata": {},
   "source": [
    "Tensorflow 2"
   ]
  },
  {
   "cell_type": "code",
   "execution_count": 20,
   "metadata": {},
   "outputs": [],
   "source": [
    "convolution = [ tf.keras.layers.Conv2D(filters[i], (kernels[i], kernels[i]),\n",
    "                padding='same', activation=conv_activation) for i in range(len(filters))]"
   ]
  },
  {
   "cell_type": "code",
   "execution_count": 21,
   "metadata": {},
   "outputs": [],
   "source": [
    "convol = tf.keras.Sequential([convolution[0], convolution[1], convolution[2], convolution[3]])"
   ]
  },
  {
   "cell_type": "code",
   "execution_count": 22,
   "metadata": {},
   "outputs": [
    {
     "ename": "ValueError",
     "evalue": "This model has not yet been built. Build the model first by calling `build()` or calling `fit()` with some data, or specify an `input_shape` argument in the first layer(s) for automatic build.",
     "output_type": "error",
     "traceback": [
      "\u001b[0;31m\u001b[0m",
      "\u001b[0;31mValueError\u001b[0mTraceback (most recent call last)",
      "\u001b[0;32m<ipython-input-22-63baa94bc8c1>\u001b[0m in \u001b[0;36m<module>\u001b[0;34m\u001b[0m\n\u001b[0;32m----> 1\u001b[0;31m \u001b[0mconvol\u001b[0m\u001b[0;34m.\u001b[0m\u001b[0msummary\u001b[0m\u001b[0;34m(\u001b[0m\u001b[0;34m)\u001b[0m\u001b[0;34m\u001b[0m\u001b[0;34m\u001b[0m\u001b[0m\n\u001b[0m",
      "\u001b[0;32m/sps/lsst/users/barcelin/miniconda/envs/python_cpu6/lib/python3.6/site-packages/tensorflow_core/python/keras/engine/network.py\u001b[0m in \u001b[0;36msummary\u001b[0;34m(self, line_length, positions, print_fn)\u001b[0m\n\u001b[1;32m   1255\u001b[0m     \"\"\"\n\u001b[1;32m   1256\u001b[0m     \u001b[0;32mif\u001b[0m \u001b[0;32mnot\u001b[0m \u001b[0mself\u001b[0m\u001b[0;34m.\u001b[0m\u001b[0mbuilt\u001b[0m\u001b[0;34m:\u001b[0m\u001b[0;34m\u001b[0m\u001b[0;34m\u001b[0m\u001b[0m\n\u001b[0;32m-> 1257\u001b[0;31m       raise ValueError('This model has not yet been built. '\n\u001b[0m\u001b[1;32m   1258\u001b[0m                        \u001b[0;34m'Build the model first by calling `build()` or calling '\u001b[0m\u001b[0;34m\u001b[0m\u001b[0;34m\u001b[0m\u001b[0m\n\u001b[1;32m   1259\u001b[0m                        \u001b[0;34m'`fit()` with some data, or specify '\u001b[0m\u001b[0;34m\u001b[0m\u001b[0;34m\u001b[0m\u001b[0m\n",
      "\u001b[0;31mValueError\u001b[0m: This model has not yet been built. Build the model first by calling `build()` or calling `fit()` with some data, or specify an `input_shape` argument in the first layer(s) for automatic build."
     ]
    }
   ],
   "source": [
    "convol.summary()"
   ]
  },
  {
   "cell_type": "code",
   "execution_count": 7,
   "metadata": {},
   "outputs": [],
   "source": [
    "tfd = tfp.distributions\n",
    "latent_dim = 32\n",
    "prior = tfd.Independent(tfd.Normal(loc=tf.zeros(latent_dim), scale=1),\n",
    "                        reinterpreted_batch_ndims=1)"
   ]
  },
  {
   "cell_type": "code",
   "execution_count": 39,
   "metadata": {},
   "outputs": [],
   "source": [
    "encoder = tf.keras.Sequential([\n",
    "    tf.keras.layers.InputLayer(input_shape=(64,64,nb_of_bands)),\n",
    "    tf.keras.layers.BatchNormalization(),\n",
    "    tf.keras.layers.Conv2D(filters[0], (kernels[0], kernels[0]),\n",
    "                padding='same', activation=conv_activation),\n",
    "    tf.keras.layers.PReLU(),\n",
    "    tf.keras.layers.Conv2D(filters[0], (kernels[0], kernels[0]),\n",
    "                padding='same', activation=conv_activation, strides=(2,2)),\n",
    "    tf.keras.layers.PReLU(),\n",
    "    tf.keras.layers.Conv2D(filters[1], (kernels[1], kernels[1]),\n",
    "                padding='same', activation=conv_activation),\n",
    "    tf.keras.layers.PReLU(),\n",
    "    tf.keras.layers.Conv2D(filters[1], (kernels[1], kernels[1]),\n",
    "                padding='same', activation=conv_activation, strides=(2,2)),\n",
    "    tf.keras.layers.PReLU(),\n",
    "    tf.keras.layers.Conv2D(filters[2], (kernels[2], kernels[2]),\n",
    "                padding='same', activation=conv_activation),\n",
    "    tf.keras.layers.PReLU(),\n",
    "    tf.keras.layers.Conv2D(filters[2], (kernels[2], kernels[2]),\n",
    "                padding='same', activation=conv_activation, strides=(2,2)),\n",
    "    tf.keras.layers.PReLU(),\n",
    "    tf.keras.layers.Conv2D(filters[3], (kernels[3], kernels[3]),\n",
    "                padding='same', activation=conv_activation),\n",
    "    tf.keras.layers.PReLU(),\n",
    "    tf.keras.layers.Conv2D(filters[3], (kernels[3], kernels[3]),\n",
    "                padding='same', activation=conv_activation, strides=(2,2)),\n",
    "    tf.keras.layers.PReLU(),\n",
    "    tf.keras.layers.Flatten(),\n",
    "    tf.keras.layers.Dense(tfp.layers.MultivariateNormalTriL.params_size(latent_dim),\n",
    "               activation=None),\n",
    "    tfp.layers.MultivariateNormalTriL(\n",
    "        latent_dim,\n",
    "        activity_regularizer=tfp.layers.KLDivergenceRegularizer(prior, weight=1.0)),\n",
    "])"
   ]
  },
  {
   "cell_type": "code",
   "execution_count": 40,
   "metadata": {},
   "outputs": [
    {
     "name": "stdout",
     "output_type": "stream",
     "text": [
      "Model: \"sequential_13\"\n",
      "_________________________________________________________________\n",
      "Layer (type)                 Output Shape              Param #   \n",
      "=================================================================\n",
      "batch_normalization_3 (Batch (None, 64, 64, 6)         24        \n",
      "_________________________________________________________________\n",
      "conv2d_36 (Conv2D)           (None, 64, 64, 32)        1760      \n",
      "_________________________________________________________________\n",
      "p_re_lu_31 (PReLU)           (None, 64, 64, 32)        131072    \n",
      "_________________________________________________________________\n",
      "conv2d_37 (Conv2D)           (None, 32, 32, 32)        9248      \n",
      "_________________________________________________________________\n",
      "p_re_lu_32 (PReLU)           (None, 32, 32, 32)        32768     \n",
      "_________________________________________________________________\n",
      "conv2d_38 (Conv2D)           (None, 32, 32, 64)        18496     \n",
      "_________________________________________________________________\n",
      "p_re_lu_33 (PReLU)           (None, 32, 32, 64)        65536     \n",
      "_________________________________________________________________\n",
      "conv2d_39 (Conv2D)           (None, 16, 16, 64)        36928     \n",
      "_________________________________________________________________\n",
      "p_re_lu_34 (PReLU)           (None, 16, 16, 64)        16384     \n",
      "_________________________________________________________________\n",
      "conv2d_40 (Conv2D)           (None, 16, 16, 128)       73856     \n",
      "_________________________________________________________________\n",
      "p_re_lu_35 (PReLU)           (None, 16, 16, 128)       32768     \n",
      "_________________________________________________________________\n",
      "conv2d_41 (Conv2D)           (None, 8, 8, 128)         147584    \n",
      "_________________________________________________________________\n",
      "p_re_lu_36 (PReLU)           (None, 8, 8, 128)         8192      \n",
      "_________________________________________________________________\n",
      "conv2d_42 (Conv2D)           (None, 8, 8, 256)         295168    \n",
      "_________________________________________________________________\n",
      "p_re_lu_37 (PReLU)           (None, 8, 8, 256)         16384     \n",
      "_________________________________________________________________\n",
      "conv2d_43 (Conv2D)           (None, 4, 4, 256)         590080    \n",
      "_________________________________________________________________\n",
      "p_re_lu_38 (PReLU)           (None, 4, 4, 256)         4096      \n",
      "_________________________________________________________________\n",
      "flatten_4 (Flatten)          (None, 4096)              0         \n",
      "_________________________________________________________________\n",
      "dense_15 (Dense)             (None, 560)               2294320   \n",
      "_________________________________________________________________\n",
      "multivariate_normal_tri_l_6  ((None, 32), (None, 32))  0         \n",
      "=================================================================\n",
      "Total params: 3,774,664\n",
      "Trainable params: 3,774,652\n",
      "Non-trainable params: 12\n",
      "_________________________________________________________________\n"
     ]
    }
   ],
   "source": [
    "encoder.summary()"
   ]
  },
  {
   "cell_type": "markdown",
   "metadata": {},
   "source": [
    "## Decoder"
   ]
  },
  {
   "cell_type": "markdown",
   "metadata": {},
   "source": [
    "TensorFlow 1"
   ]
  },
  {
   "cell_type": "code",
   "execution_count": 23,
   "metadata": {},
   "outputs": [],
   "source": [
    "input_layer = Input(shape=(latent_dim,))\n",
    "h = Dense(hidden_dim, activation=dense_activation)(input_layer)\n",
    "h = PReLU()(h)\n",
    "h = Dense(hidden_dim*2, activation=dense_activation)(input_layer)\n",
    "h = PReLU()(h)"
   ]
  },
  {
   "cell_type": "code",
   "execution_count": 26,
   "metadata": {},
   "outputs": [],
   "source": [
    "dec = Model(input_layer, h)"
   ]
  },
  {
   "cell_type": "code",
   "execution_count": 27,
   "metadata": {},
   "outputs": [
    {
     "name": "stdout",
     "output_type": "stream",
     "text": [
      "Model: \"model_2\"\n",
      "_________________________________________________________________\n",
      "Layer (type)                 Output Shape              Param #   \n",
      "=================================================================\n",
      "input_3 (InputLayer)         [(None, 32)]              0         \n",
      "_________________________________________________________________\n",
      "dense_5 (Dense)              (None, 512)               16896     \n",
      "_________________________________________________________________\n",
      "p_re_lu_18 (PReLU)           (None, 512)               512       \n",
      "=================================================================\n",
      "Total params: 17,408\n",
      "Trainable params: 17,408\n",
      "Non-trainable params: 0\n",
      "_________________________________________________________________\n"
     ]
    }
   ],
   "source": [
    "dec.summary()"
   ]
  },
  {
   "cell_type": "markdown",
   "metadata": {},
   "source": [
    "Tensoflow 2"
   ]
  },
  {
   "cell_type": "code",
   "execution_count": 34,
   "metadata": {},
   "outputs": [],
   "source": [
    "final_dim = 3\n",
    "\n",
    "prior_output = tfd.Independent(tfd.Normal(loc=tf.zeros(final_dim), scale=1),\n",
    "                        reinterpreted_batch_ndims=1)"
   ]
  },
  {
   "cell_type": "code",
   "execution_count": 35,
   "metadata": {},
   "outputs": [
    {
     "data": {
      "text/plain": [
       "9"
      ]
     },
     "execution_count": 35,
     "metadata": {},
     "output_type": "execute_result"
    }
   ],
   "source": [
    "tfp.layers.MultivariateNormalTriL.params_size(final_dim)"
   ]
  },
  {
   "cell_type": "code",
   "execution_count": 37,
   "metadata": {},
   "outputs": [],
   "source": [
    "decoder = tf.keras.Sequential([\n",
    "    tf.keras.layers.InputLayer(input_shape=(latent_dim)),\n",
    "    tf.keras.layers.Dense(512, activation=None),\n",
    "    tf.keras.layers.PReLU(),\n",
    "    tf.keras.layers.Dense(tfp.layers.MultivariateNormalTriL.params_size(final_dim),\n",
    "               activation=None),\n",
    "    tfp.layers.MultivariateNormalTriL(\n",
    "        final_dim,\n",
    "        activity_regularizer=tfp.layers.KLDivergenceRegularizer(prior_output, weight=1.0)),\n",
    "])"
   ]
  },
  {
   "cell_type": "code",
   "execution_count": 38,
   "metadata": {},
   "outputs": [
    {
     "name": "stdout",
     "output_type": "stream",
     "text": [
      "Model: \"sequential_12\"\n",
      "_________________________________________________________________\n",
      "Layer (type)                 Output Shape              Param #   \n",
      "=================================================================\n",
      "dense_13 (Dense)             (None, 512)               16896     \n",
      "_________________________________________________________________\n",
      "p_re_lu_30 (PReLU)           (None, 512)               512       \n",
      "_________________________________________________________________\n",
      "dense_14 (Dense)             (None, 9)                 4617      \n",
      "_________________________________________________________________\n",
      "multivariate_normal_tri_l_5  ((None, 3), (None, 3))    0         \n",
      "=================================================================\n",
      "Total params: 22,025\n",
      "Trainable params: 22,025\n",
      "Non-trainable params: 0\n",
      "_________________________________________________________________\n"
     ]
    }
   ],
   "source": [
    "decoder.summary()"
   ]
  },
  {
   "cell_type": "code",
   "execution_count": 41,
   "metadata": {},
   "outputs": [],
   "source": [
    "#### Create encooder\n",
    "def build_encoder(latent_dim, hidden_dim, filters, kernels,nb_of_bands, conv_activation=None, dense_activation=None):#'sofplus'\n",
    "    \"\"\"\n",
    "    Return encoder as model\n",
    "    latent_dim : dimension of the latent variable\n",
    "    hidden_dim : dimension of the dense hidden layer\n",
    "    filters: list of the sizes of the filters used for this model\n",
    "    list of the size of the kernels used for each filter of this model\n",
    "    conv_activation: type of activation layer used after the convolutional layers\n",
    "    dense_activation: type of activation layer used after the dense layers\n",
    "    nb_of bands : nb of band-pass filters needed in the model\n",
    "    \"\"\"\n",
    "    # input_layer = Input(shape=(64,64,nb_of_bands))\n",
    "\n",
    "    # h = Reshape((64,64,nb_of_bands))(input_layer)\n",
    "    # h = BatchNormalization()(h)\n",
    "    # for i in range(len(filters)):\n",
    "    #     h = Conv2D(filters[i], (kernels[i],kernels[i]), activation=conv_activation, padding='same')(h)\n",
    "    #     h = PReLU()(h)\n",
    "    #     h = Conv2D(filters[i], (kernels[i],kernels[i]), activation=conv_activation, padding='same', strides=(2,2))(h)\n",
    "    #     h = PReLU()(h)\n",
    "    # h = Flatten()(h)\n",
    "    # h = Dense(hidden_dim, activation=dense_activation)(h)\n",
    "    # h = PReLU()(h)\n",
    "    # mu = Dense(latent_dim)(h)\n",
    "    # sigma = Dense(latent_dim, activation='softplus')(h)\n",
    "\n",
    "    tfd = tfp.distributions\n",
    "    latent_dim = 32\n",
    "    prior = tfd.Independent(tfd.Normal(loc=tf.zeros(latent_dim), scale=1),\n",
    "                            reinterpreted_batch_ndims=1)\n",
    "\n",
    "    encoder = tf.keras.Sequential([\n",
    "        tf.keras.layers.InputLayer(input_shape=(64,64,nb_of_bands)),\n",
    "        tf.keras.layers.BatchNormalization(),\n",
    "        tf.keras.layers.Conv2D(filters[0], (kernels[0], kernels[0]),\n",
    "                    padding='same', activation=conv_activation),\n",
    "        tf.keras.layers.PReLU(),\n",
    "        tf.keras.layers.Conv2D(filters[0], (kernels[0], kernels[0]),\n",
    "                    padding='same', activation=conv_activation, strides=(2,2)),\n",
    "        tf.keras.layers.PReLU(),\n",
    "        tf.keras.layers.Conv2D(filters[1], (kernels[1], kernels[1]),\n",
    "                    padding='same', activation=conv_activation),\n",
    "        tf.keras.layers.PReLU(),\n",
    "        tf.keras.layers.Conv2D(filters[1], (kernels[1], kernels[1]),\n",
    "                    padding='same', activation=conv_activation, strides=(2,2)),\n",
    "        tf.keras.layers.PReLU(),\n",
    "        tf.keras.layers.Conv2D(filters[2], (kernels[2], kernels[2]),\n",
    "                    padding='same', activation=conv_activation),\n",
    "        tf.keras.layers.PReLU(),\n",
    "        tf.keras.layers.Conv2D(filters[2], (kernels[2], kernels[2]),\n",
    "                    padding='same', activation=conv_activation, strides=(2,2)),\n",
    "        tf.keras.layers.PReLU(),\n",
    "        tf.keras.layers.Conv2D(filters[3], (kernels[3], kernels[3]),\n",
    "                    padding='same', activation=conv_activation),\n",
    "        tf.keras.layers.PReLU(),\n",
    "        tf.keras.layers.Conv2D(filters[3], (kernels[3], kernels[3]),\n",
    "                    padding='same', activation=conv_activation, strides=(2,2)),\n",
    "        tf.keras.layers.PReLU(),\n",
    "        tf.keras.layers.Flatten(),\n",
    "        tf.keras.layers.Dense(tfp.layers.MultivariateNormalTriL.params_size(latent_dim),\n",
    "                activation=None),\n",
    "        tf.keras.layers.Flatten(),\n",
    "        tfp.layers.MultivariateNormalTriL(\n",
    "            latent_dim,\n",
    "            activity_regularizer=tfp.layers.KLDivergenceRegularizer(prior, weight=1.0)),\n",
    "    ])\n",
    "\n",
    "\n",
    "    return encoder\n",
    "\n",
    "\n",
    "#### Create encooder\n",
    "def build_decoder(input_shape, latent_dim, hidden_dim, filters, kernels, conv_activation=None, dense_activation=None):\n",
    "    \"\"\"\n",
    "    Return decoder as model\n",
    "    input_shape: shape of the input data\n",
    "    latent_dim : dimension of the latent variable\n",
    "    hidden_dim : dimension of the dense hidden layer\n",
    "    filters: list of the sizes of the filters used for this model\n",
    "    list of the size of the kernels used for each filter of this model\n",
    "    conv_activation: type of activation layer used after the convolutional layers\n",
    "    dense_activation: type of activation layer used after the dense layers\n",
    "    \"\"\"\n",
    "    # input_layer = Input(shape=(latent_dim,))\n",
    "    # h = Dense(hidden_dim, activation=dense_activation)(input_layer)\n",
    "    # h = PReLU()(h)\n",
    "    # h = Dense(hidden_dim*2, activation=dense_activation)(input_layer)\n",
    "    # h = PReLU()(h)\n",
    "    # h = tfp.distributions.MultivariateNormalDiag()\n",
    "    final_dim = 3\n",
    "\n",
    "    prior_output = tfd.Independent(tfd.Normal(loc=tf.zeros(final_dim), scale=1),\n",
    "                            reinterpreted_batch_ndims=1)\n",
    "\n",
    "    decoder = tf.keras.Sequential([\n",
    "        tf.keras.layers.InputLayer(input_shape=(latent_dim)),\n",
    "        tf.keras.layers.Dense(512, activation=None),\n",
    "        tf.keras.layers.PReLU(),\n",
    "        tf.keras.layers.Dense(tfp.layers.MultivariateNormalTriL.params_size(final_dim),\n",
    "                activation=None),\n",
    "        tfp.layers.MultivariateNormalTriL(\n",
    "            final_dim,\n",
    "            activity_regularizer=tfp.layers.KLDivergenceRegularizer(prior_output, weight=1.0)),\n",
    "    ])\n",
    "\n",
    "    return decoder\n",
    "\n",
    "\n",
    "\n",
    "# Function to define model\n",
    "\n",
    "def vae_model(latent_dim, nb_of_bands):\n",
    "    \"\"\"\n",
    "    Function to create VAE model\n",
    "    nb_of bands : nb of band-pass filters needed in the model\n",
    "    \"\"\"\n",
    "\n",
    "    #### Parameters to fix\n",
    "    # batch_size : size of the batch given to the network\n",
    "    # input_shape: shape of the input data\n",
    "    # latent_dim : dimension of the latent variable\n",
    "    # hidden_dim : dimension of the dense hidden layer\n",
    "    # filters: list of the sizes of the filters used for this model\n",
    "    # kernels: list of the size of the kernels used for each filter of this model\n",
    "\n",
    "    batch_size = 100 \n",
    "    \n",
    "    input_shape = (64, 64, nb_of_bands)\n",
    "    hidden_dim = 256\n",
    "    filters = [32, 64, 128, 256]\n",
    "    kernels = [3,3,3,3]\n",
    "\n",
    "    # Build the encoder\n",
    "    encoder = build_encoder(latent_dim, hidden_dim, filters, kernels, nb_of_bands)\n",
    "    # Build the decoder\n",
    "    decoder = build_decoder(input_shape, latent_dim, hidden_dim, filters, kernels, conv_activation=None, dense_activation=None)\n",
    "\n",
    "    \n",
    "    return encoder, decoder"
   ]
  },
  {
   "cell_type": "code",
   "execution_count": 4,
   "metadata": {},
   "outputs": [],
   "source": [
    "import sys\n",
    "import os\n",
    "sys.path.insert(0,'../../scripts/tools_for_VAE/')\n",
    "import tools_for_VAE.layers as layers\n",
    "from  tools_for_VAE import utils"
   ]
  },
  {
   "cell_type": "code",
   "execution_count": 95,
   "metadata": {},
   "outputs": [],
   "source": [
    "\n",
    "encoder, decoder = vae_model(32, 6)\n",
    "\n",
    "model = tf.keras.Model(inputs=encoder.inputs,\n",
    "                outputs=decoder(encoder.outputs[0]))"
   ]
  },
  {
   "cell_type": "code",
   "execution_count": 96,
   "metadata": {},
   "outputs": [
    {
     "name": "stdout",
     "output_type": "stream",
     "text": [
      "Model: \"model_4\"\n",
      "_________________________________________________________________\n",
      "Layer (type)                 Output Shape              Param #   \n",
      "=================================================================\n",
      "input_19 (InputLayer)        [(None, 64, 64, 6)]       0         \n",
      "_________________________________________________________________\n",
      "batch_normalization_6 (Batch (None, 64, 64, 6)         24        \n",
      "_________________________________________________________________\n",
      "conv2d_60 (Conv2D)           (None, 64, 64, 32)        1760      \n",
      "_________________________________________________________________\n",
      "p_re_lu_57 (PReLU)           (None, 64, 64, 32)        131072    \n",
      "_________________________________________________________________\n",
      "conv2d_61 (Conv2D)           (None, 32, 32, 32)        9248      \n",
      "_________________________________________________________________\n",
      "p_re_lu_58 (PReLU)           (None, 32, 32, 32)        32768     \n",
      "_________________________________________________________________\n",
      "conv2d_62 (Conv2D)           (None, 32, 32, 64)        18496     \n",
      "_________________________________________________________________\n",
      "p_re_lu_59 (PReLU)           (None, 32, 32, 64)        65536     \n",
      "_________________________________________________________________\n",
      "conv2d_63 (Conv2D)           (None, 16, 16, 64)        36928     \n",
      "_________________________________________________________________\n",
      "p_re_lu_60 (PReLU)           (None, 16, 16, 64)        16384     \n",
      "_________________________________________________________________\n",
      "conv2d_64 (Conv2D)           (None, 16, 16, 128)       73856     \n",
      "_________________________________________________________________\n",
      "p_re_lu_61 (PReLU)           (None, 16, 16, 128)       32768     \n",
      "_________________________________________________________________\n",
      "conv2d_65 (Conv2D)           (None, 8, 8, 128)         147584    \n",
      "_________________________________________________________________\n",
      "p_re_lu_62 (PReLU)           (None, 8, 8, 128)         8192      \n",
      "_________________________________________________________________\n",
      "conv2d_66 (Conv2D)           (None, 8, 8, 256)         295168    \n",
      "_________________________________________________________________\n",
      "p_re_lu_63 (PReLU)           (None, 8, 8, 256)         16384     \n",
      "_________________________________________________________________\n",
      "conv2d_67 (Conv2D)           (None, 4, 4, 256)         590080    \n",
      "_________________________________________________________________\n",
      "p_re_lu_64 (PReLU)           (None, 4, 4, 256)         4096      \n",
      "_________________________________________________________________\n",
      "flatten_9 (Flatten)          (None, 4096)              0         \n",
      "_________________________________________________________________\n",
      "dense_22 (Dense)             (None, 560)               2294320   \n",
      "_________________________________________________________________\n",
      "flatten_10 (Flatten)         (None, 560)               0         \n",
      "_________________________________________________________________\n",
      "multivariate_normal_tri_l_11 ((None, 32), (None, 32))  0         \n",
      "_________________________________________________________________\n",
      "sequential_19 (Sequential)   (None, 3)                 22025     \n",
      "=================================================================\n",
      "Total params: 3,796,689\n",
      "Trainable params: 3,796,677\n",
      "Non-trainable params: 12\n",
      "_________________________________________________________________\n"
     ]
    }
   ],
   "source": [
    "model.summary()"
   ]
  },
  {
   "cell_type": "code",
   "execution_count": 5,
   "metadata": {},
   "outputs": [],
   "source": [
    "images_dir = '/sps/lsst/users/barcelin/data/isolated_galaxies/centered/'\n",
    "list_of_samples = [x for x in utils.listdir_fullpath(os.path.join(images_dir,'test')) if x.endswith('.npy')]\n",
    "list_of_samples_val = [x for x in utils.listdir_fullpath(os.path.join(images_dir,'test')) if x.endswith('.npy')]"
   ]
  },
  {
   "cell_type": "code",
   "execution_count": 6,
   "metadata": {},
   "outputs": [],
   "source": [
    "import pandas as pd"
   ]
  },
  {
   "cell_type": "code",
   "execution_count": 82,
   "metadata": {},
   "outputs": [],
   "source": [
    "index = np.random.choice(1)\n",
    "sample_filename = list_of_samples[index]\n",
    "sample = np.load(sample_filename, mmap_mode = 'c')\n",
    "\n",
    "\n",
    "indices = np.random.choice(len(sample), size=batch_size, replace=False)\n",
    "\n",
    "\n",
    "data = pd.read_csv('/sps/lsst/users/barcelin/data/isolated_galaxies/centered/test/galaxies_isolated_20191024_0_data.csv')\n",
    "\n",
    "y = np.zeros((batch_size, 3))\n",
    "y[:,0] = data['e1'][indices]\n",
    "y[:,1] = data['e2'][indices]\n",
    "y[:,2] = data['redshift'][indices]"
   ]
  },
  {
   "cell_type": "code",
   "execution_count": 83,
   "metadata": {},
   "outputs": [
    {
     "name": "stdout",
     "output_type": "stream",
     "text": [
      "[3998 9614 7157 2464 8952 6662 9283 5579  210 5176 1789 1826 5764 1610\n",
      " 5617 2252 3993 7204 9639 8778 5774 1855 4857 4922 6916 6807 4915 6223\n",
      "   35 1256 3880 6021 8110 1487 3154 8203 1109 1938 3780  860 9494 9959\n",
      " 5994 3722 6744 5966 3344 9570   30 1075 7250 1604 6288 6092 7836 3088\n",
      " 3823  781 7105 8339  393 5252 6797 6841 2821 1527 5309 8599 7680  596\n",
      "  619 5438  972 8579 5651 6433 9104 1211 8220 1732 6203 2747 2022 3283\n",
      " 2419 1396 1302 5458 5739 5751 4471 3290  281 5084 4266 3306  534 6349\n",
      " 9004 3453]\n"
     ]
    }
   ],
   "source": [
    "print(indices)"
   ]
  },
  {
   "cell_type": "code",
   "execution_count": 85,
   "metadata": {},
   "outputs": [
    {
     "name": "stdout",
     "output_type": "stream",
     "text": [
      "[-0.18100898  0.6178593   1.70790005]\n"
     ]
    }
   ],
   "source": [
    "print(y[0])"
   ]
  },
  {
   "cell_type": "code",
   "execution_count": 7,
   "metadata": {},
   "outputs": [],
   "source": [
    "import tensorflow"
   ]
  },
  {
   "cell_type": "code",
   "execution_count": 8,
   "metadata": {},
   "outputs": [],
   "source": [
    "class BatchGenerator_ellipticity(tensorflow.keras.utils.Sequence):\n",
    "    \"\"\"\n",
    "    Class to create batch generator for the LSST VAE.\n",
    "    \"\"\"\n",
    "    def __init__(self, bands, list_of_samples,total_sample_size, batch_size, trainval_or_test, do_norm,denorm, list_of_weights_e):\n",
    "        \"\"\"\n",
    "        Initialization function\n",
    "        total_sample_size: size of the whole training (or validation) sample\n",
    "        batch_size: size of the batches to provide\n",
    "        list_of_samples: list of the numpy arrays which correspond to the whole training (or validation) sample\n",
    "#        path: path to the first numpy array taken in which the batch will be taken\n",
    "        training_or_validation: choice between training of validation generator\n",
    "        x: input of the neural network\n",
    "        y: target of the neural network\n",
    "        r: random value to sample into the validation sample\n",
    "        \"\"\"\n",
    "        self.bands = bands\n",
    "        self.nbands = len(bands)\n",
    "        self.total_sample_size = total_sample_size\n",
    "        self.batch_size = batch_size\n",
    "        self.list_of_samples = list_of_samples\n",
    "        self.trainval_or_test = trainval_or_test\n",
    "        \n",
    "        # indices = 0\n",
    "        \n",
    "        #self.noisy = noisy\n",
    "        # self.step = 0\n",
    "        # self.size = 100\n",
    "        self.epoch = 0\n",
    "        self.do_norm = do_norm\n",
    "        self.denorm = denorm\n",
    "\n",
    "        # self.scale_radius = scale_radius\n",
    "        # self.SNR = SNR\n",
    "\n",
    "        # Weights computed from the lengths of lists\n",
    "        self.p = []\n",
    "        for sample in self.list_of_samples:\n",
    "            temp = np.load(sample, mmap_mode = 'c')\n",
    "            self.p.append(float(len(temp)))\n",
    "        self.p = np.array(self.p)\n",
    "        self.total_sample_size = int(np.sum(self.p))\n",
    "        print(\"[BatchGenerator] total_sample_size = \", self.total_sample_size)\n",
    "        print(\"[BatchGenerator] len(list_of_samples) = \", len(self.list_of_samples))\n",
    "\n",
    "        self.p /= np.sum(self.p)\n",
    "\n",
    "        self.produced_samples = 0\n",
    "        self.list_of_weights_e = list_of_weights_e\n",
    "        #self.shifts = shifts\n",
    "\n",
    "    def __len__(self):\n",
    "        \"\"\"\n",
    "        Function to define the length of an epoch\n",
    "        \"\"\"\n",
    "        return int(float(self.total_sample_size) / float(self.batch_size))      \n",
    "\n",
    "    def on_epoch_end(self):\n",
    "        \"\"\"\n",
    "        Function executed at the end of each epoch\n",
    "        \"\"\"\n",
    "        # indices = 0\n",
    "        print(\"Produced samples\", self.produced_samples)\n",
    "        self.produced_samples = 0\n",
    "        \n",
    "    def __getitem__(self, idx):\n",
    "        \"\"\"\n",
    "        Function which returns the input and target batches for the network\n",
    "        \"\"\"\n",
    "        # If the generator is a training generator, the whole sample is displayed\n",
    "        #sample_filename = np.random.choice(self.list_of_samples, p=self.p)\n",
    "        index = np.random.choice(1)\n",
    "        sample_filename = self.list_of_samples[index]\n",
    "        sample = np.load(sample_filename, mmap_mode = 'c')\n",
    "\n",
    "        if self.list_of_weights_e == None:\n",
    "            indices = np.random.choice(len(sample), size=self.batch_size, replace=False)\n",
    "        else:\n",
    "            self.weights_e = np.load(self.list_of_weights_e[index])\n",
    "            indices = np.random.choice(len(sample), size=self.batch_size, replace=False, p = self.weights_e/np.sum(self.weights_e))\n",
    "            #print(indices)\n",
    "        self.produced_samples += len(indices)\n",
    "\n",
    "        x = sample[indices,1][:,self.bands]\n",
    "\n",
    "\n",
    "        data = pd.read_csv('/sps/lsst/users/barcelin/data/isolated_galaxies/centered/test/galaxies_isolated_20191024_0_data.csv')\n",
    "\n",
    "        y = np.zeros((batch_size, 3))\n",
    "        y[:,0] = data['e1'][indices]\n",
    "        y[:,1] = data['e2'][indices]\n",
    "        y[:,2] = data['redshift'][indices]\n",
    "        \n",
    "        # Preprocessing of the data to be easier for the network to learn\n",
    "        if self.do_norm:\n",
    "            x = utils.norm(x, self.bands)\n",
    "        if self.denorm:\n",
    "            x = utils.denorm(x, self.bands)\n",
    "\n",
    "        #  flip : flipping the image array\n",
    "        rand = np.random.randint(4)\n",
    "        if rand == 1: \n",
    "            x = np.flip(x, axis=-1)\n",
    "        elif rand == 2 : \n",
    "            x = np.swapaxes(x, -1, -2)\n",
    "        elif rand == 3:\n",
    "            x = np.swapaxes(np.flip(x, axis=-1), -1, -2)\n",
    "        \n",
    "        x = np.transpose(x, axes = (0,2,3,1))\n",
    "        \n",
    "        if self.trainval_or_test == 'training' or self.trainval_or_test == 'validation':\n",
    "            return x, y\n",
    "        elif self.trainval_or_test == 'test':\n",
    "            return x, y, data.loc[indices], indices"
   ]
  },
  {
   "cell_type": "code",
   "execution_count": 9,
   "metadata": {},
   "outputs": [],
   "source": [
    "bands = [4,5,6,7,8,9]"
   ]
  },
  {
   "cell_type": "code",
   "execution_count": 10,
   "metadata": {},
   "outputs": [
    {
     "name": "stdout",
     "output_type": "stream",
     "text": [
      "[BatchGenerator] total_sample_size =  20000\n",
      "[BatchGenerator] len(list_of_samples) =  2\n",
      "[BatchGenerator] total_sample_size =  20000\n",
      "[BatchGenerator] len(list_of_samples) =  2\n"
     ]
    }
   ],
   "source": [
    "training_generator = BatchGenerator_ellipticity(bands, list_of_samples, total_sample_size=None,\n",
    "                                    batch_size=batch_size, \n",
    "                                    trainval_or_test='training',\n",
    "                                    do_norm=False,\n",
    "                                    denorm = False,\n",
    "                                    list_of_weights_e=None)\n",
    "\n",
    "validation_generator = BatchGenerator_ellipticity(bands, list_of_samples_val, total_sample_size=None,\n",
    "                                    batch_size=batch_size, \n",
    "                                    trainval_or_test='validation',\n",
    "                                    do_norm=False,\n",
    "                                    denorm = False,\n",
    "                                    list_of_weights_e= None)"
   ]
  },
  {
   "cell_type": "code",
   "execution_count": 13,
   "metadata": {},
   "outputs": [],
   "source": [
    "negative_log_likelihood = lambda x, rv_x: -rv_x.log_prob(x)"
   ]
  },
  {
   "cell_type": "code",
   "execution_count": 167,
   "metadata": {},
   "outputs": [],
   "source": [
    "model.compile(optimizer=tf.optimizers.Adam(learning_rate=1e-4), loss=negative_log_likelihood, metrics=['mse'])"
   ]
  },
  {
   "cell_type": "code",
   "execution_count": 180,
   "metadata": {},
   "outputs": [
    {
     "name": "stdout",
     "output_type": "stream",
     "text": [
      "Epoch 1/20\n",
      "8/8 [==============================] - 6s 734ms/step - loss: 3.3775 - mse: 1.1457 - val_loss: 3.6686 - val_mse: 1.1910\n",
      "Epoch 2/20\n",
      "8/8 [==============================] - 6s 753ms/step - loss: 3.3722 - mse: 1.1838 - val_loss: 3.3967 - val_mse: 1.1045\n",
      "Epoch 3/20\n",
      "8/8 [==============================] - 6s 726ms/step - loss: 3.3529 - mse: 1.1891 - val_loss: 3.4342 - val_mse: 1.0859\n",
      "Epoch 4/20\n",
      "8/8 [==============================] - 6s 730ms/step - loss: 3.3981 - mse: 1.2687 - val_loss: 3.0666 - val_mse: 1.0168\n",
      "Epoch 5/20\n",
      "8/8 [==============================] - 6s 730ms/step - loss: 3.3340 - mse: 1.2060 - val_loss: 3.6086 - val_mse: 1.3931\n",
      "Epoch 6/20\n",
      "8/8 [==============================] - 6s 727ms/step - loss: 3.4089 - mse: 1.2389 - val_loss: 3.1015 - val_mse: 1.2707\n",
      "Epoch 7/20\n",
      "8/8 [==============================] - 6s 752ms/step - loss: 3.4118 - mse: 1.1161 - val_loss: 3.1963 - val_mse: 1.1439\n",
      "Epoch 8/20\n",
      "8/8 [==============================] - 6s 736ms/step - loss: 3.4763 - mse: 1.2031 - val_loss: 3.4801 - val_mse: 1.1528\n",
      "Epoch 9/20\n",
      "8/8 [==============================] - 6s 712ms/step - loss: 3.4910 - mse: 1.1869 - val_loss: 3.2600 - val_mse: 1.2152\n",
      "Epoch 10/20\n",
      "8/8 [==============================] - 6s 724ms/step - loss: 3.5008 - mse: 1.1222 - val_loss: 3.3433 - val_mse: 1.0858\n",
      "Epoch 11/20\n",
      "8/8 [==============================] - 6s 733ms/step - loss: 3.3524 - mse: 1.2976 - val_loss: 3.3937 - val_mse: 1.3555\n",
      "Epoch 12/20\n",
      "8/8 [==============================] - 6s 731ms/step - loss: 3.2503 - mse: 1.1497 - val_loss: 3.5914 - val_mse: 1.2747\n",
      "Epoch 13/20\n",
      "8/8 [==============================] - 6s 729ms/step - loss: 3.3567 - mse: 1.1339 - val_loss: 3.3896 - val_mse: 1.0998\n",
      "Epoch 14/20\n",
      "8/8 [==============================] - 6s 707ms/step - loss: 3.4082 - mse: 1.2818 - val_loss: 3.1782 - val_mse: 1.0534\n",
      "Epoch 15/20\n",
      "8/8 [==============================] - 6s 727ms/step - loss: 3.2430 - mse: 1.2439 - val_loss: 3.5470 - val_mse: 1.2163\n",
      "Epoch 16/20\n",
      "8/8 [==============================] - 6s 717ms/step - loss: 3.3251 - mse: 1.1990 - val_loss: 3.3542 - val_mse: 1.1838\n",
      "Epoch 17/20\n",
      "8/8 [==============================] - 6s 717ms/step - loss: 3.5121 - mse: 1.1487 - val_loss: 3.2292 - val_mse: 1.2621\n",
      "Epoch 18/20\n",
      "8/8 [==============================] - 6s 708ms/step - loss: 3.4272 - mse: 1.1616 - val_loss: 3.1590 - val_mse: 1.0443\n",
      "Epoch 19/20\n",
      "8/8 [==============================] - 6s 711ms/step - loss: 3.4477 - mse: 1.1296 - val_loss: 3.1503 - val_mse: 1.2841\n",
      "Epoch 20/20\n",
      "8/8 [==============================] - 6s 710ms/step - loss: 3.3863 - mse: 1.1959 - val_loss: 3.2447 - val_mse: 1.1486\n"
     ]
    },
    {
     "data": {
      "text/plain": [
       "<tensorflow.python.keras.callbacks.History at 0x7feb69c67128>"
      ]
     },
     "execution_count": 180,
     "metadata": {},
     "output_type": "execute_result"
    }
   ],
   "source": [
    "######## Train the network\n",
    "model.fit_generator(generator=training_generator, epochs=20,\n",
    "          steps_per_epoch=8,#128\n",
    "          verbose=1,\n",
    "          shuffle=True,\n",
    "          validation_data=validation_generator,\n",
    "          validation_steps=1,#16\n",
    "          #callbacks=callbacks,\n",
    "          #max_queue_size=4,\n",
    "          workers=0,#4 \n",
    "          use_multiprocessing = False)"
   ]
  },
  {
   "cell_type": "code",
   "execution_count": 170,
   "metadata": {},
   "outputs": [],
   "source": [
    "test = training_generator.__getitem__(2)"
   ]
  },
  {
   "cell_type": "code",
   "execution_count": 171,
   "metadata": {},
   "outputs": [
    {
     "data": {
      "text/plain": [
       "((100, 64, 64, 6), (100, 3))"
      ]
     },
     "execution_count": 171,
     "metadata": {},
     "output_type": "execute_result"
    }
   ],
   "source": [
    "test[0].shape, test[1].shape"
   ]
  },
  {
   "cell_type": "code",
   "execution_count": 172,
   "metadata": {},
   "outputs": [],
   "source": [
    "test_out = model(test[0])"
   ]
  },
  {
   "cell_type": "code",
   "execution_count": 173,
   "metadata": {},
   "outputs": [
    {
     "data": {
      "text/plain": [
       "TensorShape([100, 3])"
      ]
     },
     "execution_count": 173,
     "metadata": {},
     "output_type": "execute_result"
    }
   ],
   "source": [
    "test_out.mean().shape"
   ]
  },
  {
   "cell_type": "code",
   "execution_count": 174,
   "metadata": {},
   "outputs": [
    {
     "data": {
      "text/plain": [
       "TensorShape([100, 3])"
      ]
     },
     "execution_count": 174,
     "metadata": {},
     "output_type": "execute_result"
    }
   ],
   "source": [
    "test_out.stddev().shape"
   ]
  },
  {
   "cell_type": "code",
   "execution_count": 175,
   "metadata": {},
   "outputs": [],
   "source": [
    "out = model.predict(test[0])"
   ]
  },
  {
   "cell_type": "code",
   "execution_count": 176,
   "metadata": {},
   "outputs": [
    {
     "data": {
      "text/plain": [
       "(100, 3)"
      ]
     },
     "execution_count": 176,
     "metadata": {},
     "output_type": "execute_result"
    }
   ],
   "source": [
    "out.shape"
   ]
  },
  {
   "cell_type": "code",
   "execution_count": 177,
   "metadata": {},
   "outputs": [],
   "source": [
    "import seaborn as sns"
   ]
  },
  {
   "cell_type": "code",
   "execution_count": 178,
   "metadata": {},
   "outputs": [
    {
     "data": {
      "text/plain": [
       "<matplotlib.axes._subplots.AxesSubplot at 0x7feb695a0b38>"
      ]
     },
     "execution_count": 178,
     "metadata": {},
     "output_type": "execute_result"
    },
    {
     "data": {
      "image/png": "[encoded data removed]",
      "text/plain": [
       "<Figure size 432x288 with 1 Axes>"
      ]
     },
     "metadata": {
      "needs_background": "light"
     },
     "output_type": "display_data"
    }
   ],
   "source": [
    "sns.distplot(out[:,0], bins = 20)\n",
    "sns.distplot(test[1][:,0], bins = 20)"
   ]
  },
  {
   "cell_type": "code",
   "execution_count": 179,
   "metadata": {},
   "outputs": [
    {
     "data": {
      "text/plain": [
       "<matplotlib.axes._subplots.AxesSubplot at 0x7feb695ca6a0>"
      ]
     },
     "execution_count": 179,
     "metadata": {},
     "output_type": "execute_result"
    },
    {
     "data": {
      "image/png": "[encoded data removed]",
      "text/plain": [
       "<Figure size 432x288 with 1 Axes>"
      ]
     },
     "metadata": {
      "needs_background": "light"
     },
     "output_type": "display_data"
    }
   ],
   "source": [
    "sns.distplot(out[:,2], bins = 20)\n",
    "sns.distplot(test[1][:,2], bins = 20)"
   ]
  },
  {
   "cell_type": "code",
   "execution_count": 13,
   "metadata": {},
   "outputs": [],
   "source": [
    "tfd = tfp.distributions"
   ]
  },
  {
   "cell_type": "code",
   "execution_count": 17,
   "metadata": {},
   "outputs": [],
   "source": [
    "#### Create encooder\n",
    "def build_encoder(latent_dim, hidden_dim, filters, kernels,nb_of_bands, conv_activation=None, dense_activation=None):#'sofplus'\n",
    "    \"\"\"\n",
    "    Return encoder as model\n",
    "    latent_dim : dimension of the latent variable\n",
    "    hidden_dim : dimension of the dense hidden layer\n",
    "    filters: list of the sizes of the filters used for this model\n",
    "    list of the size of the kernels used for each filter of this model\n",
    "    conv_activation: type of activation layer used after the convolutional layers\n",
    "    dense_activation: type of activation layer used after the dense layers\n",
    "    nb_of bands : nb of band-pass filters needed in the model\n",
    "    \"\"\"\n",
    "    # input_layer = Input(shape=(64,64,nb_of_bands))\n",
    "\n",
    "    # h = Reshape((64,64,nb_of_bands))(input_layer)\n",
    "    # h = BatchNormalization()(h)\n",
    "    # for i in range(len(filters)):\n",
    "    #     h = Conv2D(filters[i], (kernels[i],kernels[i]), activation=conv_activation, padding='same')(h)\n",
    "    #     h = PReLU()(h)\n",
    "    #     h = Conv2D(filters[i], (kernels[i],kernels[i]), activation=conv_activation, padding='same', strides=(2,2))(h)\n",
    "    #     h = PReLU()(h)\n",
    "    # h = Flatten()(h)\n",
    "    # h = Dense(hidden_dim, activation=dense_activation)(h)\n",
    "    # h = PReLU()(h)\n",
    "    # mu = Dense(latent_dim)(h)\n",
    "    # sigma = Dense(latent_dim, activation='softplus')(h)\n",
    "\n",
    "    tfd = tfp.distributions\n",
    "    latent_dim = 32\n",
    "    prior = tfd.Independent(tfd.Normal(loc=tf.zeros(latent_dim), scale=1),\n",
    "                            reinterpreted_batch_ndims=1)\n",
    "\n",
    "    encoder = tf.keras.Sequential([\n",
    "        tf.keras.layers.InputLayer(input_shape=(64,64,nb_of_bands)),\n",
    "        tf.keras.layers.BatchNormalization(),\n",
    "        tf.keras.layers.Conv2D(filters[0], (kernels[0], kernels[0]),\n",
    "                    padding='same', activation=conv_activation),\n",
    "        tf.keras.layers.PReLU(),\n",
    "        tf.keras.layers.Conv2D(filters[0], (kernels[0], kernels[0]),\n",
    "                    padding='same', activation=conv_activation, strides=(2,2)),\n",
    "        tf.keras.layers.PReLU(),\n",
    "        tf.keras.layers.Conv2D(filters[1], (kernels[1], kernels[1]),\n",
    "                    padding='same', activation=conv_activation),\n",
    "        tf.keras.layers.PReLU(),\n",
    "        tf.keras.layers.Conv2D(filters[1], (kernels[1], kernels[1]),\n",
    "                    padding='same', activation=conv_activation, strides=(2,2)),\n",
    "        tf.keras.layers.PReLU(),\n",
    "        tf.keras.layers.Conv2D(filters[2], (kernels[2], kernels[2]),\n",
    "                    padding='same', activation=conv_activation),\n",
    "        tf.keras.layers.PReLU(),\n",
    "        tf.keras.layers.Conv2D(filters[2], (kernels[2], kernels[2]),\n",
    "                    padding='same', activation=conv_activation, strides=(2,2)),\n",
    "        tf.keras.layers.PReLU(),\n",
    "        tf.keras.layers.Conv2D(filters[3], (kernels[3], kernels[3]),\n",
    "                    padding='same', activation=conv_activation),\n",
    "        tf.keras.layers.PReLU(),\n",
    "        tf.keras.layers.Conv2D(filters[3], (kernels[3], kernels[3]),\n",
    "                    padding='same', activation=conv_activation, strides=(2,2)),\n",
    "        tf.keras.layers.PReLU(),\n",
    "        tf.keras.layers.Flatten(),\n",
    "        tf.keras.layers.Dense(tfp.layers.MultivariateNormalTriL.params_size(latent_dim),\n",
    "                activation=None),\n",
    "        tf.keras.layers.Flatten(),\n",
    "        tfp.layers.MultivariateNormalTriL(\n",
    "            latent_dim,\n",
    "            activity_regularizer=tfp.layers.KLDivergenceRegularizer(prior, weight=1.0)),\n",
    "    ])\n",
    "\n",
    "\n",
    "    return encoder\n",
    "\n",
    "\n",
    "#### Create encooder\n",
    "def build_decoder(input_shape, latent_dim, hidden_dim, filters, kernels, conv_activation=None, dense_activation=None):\n",
    "    \"\"\"\n",
    "    Return decoder as model\n",
    "    input_shape: shape of the input data\n",
    "    latent_dim : dimension of the latent variable\n",
    "    hidden_dim : dimension of the dense hidden layer\n",
    "    filters: list of the sizes of the filters used for this model\n",
    "    list of the size of the kernels used for each filter of this model\n",
    "    conv_activation: type of activation layer used after the convolutional layers\n",
    "    dense_activation: type of activation layer used after the dense layers\n",
    "    \"\"\"\n",
    "    # input_layer = Input(shape=(latent_dim,))\n",
    "    # h = Dense(hidden_dim, activation=dense_activation)(input_layer)\n",
    "    # h = PReLU()(h)\n",
    "    # h = Dense(hidden_dim*2, activation=dense_activation)(input_layer)\n",
    "    # h = PReLU()(h)\n",
    "    # h = tfp.distributions.MultivariateNormalDiag()\n",
    "    final_dim = 3\n",
    "\n",
    "    prior_output = tfd.Independent(tfd.Normal(loc=tf.zeros(final_dim), scale=1),\n",
    "                            reinterpreted_batch_ndims=1)\n",
    "\n",
    "    decoder = tf.keras.Sequential([\n",
    "        tf.keras.layers.InputLayer(input_shape=(latent_dim)),\n",
    "        tf.keras.layers.Dense(512, activation=None),\n",
    "        tf.keras.layers.PReLU(),\n",
    "        tf.keras.layers.Dense(256, activation=None),\n",
    "        tf.keras.layers.PReLU(),\n",
    "        tf.keras.layers.Dense(tfp.layers.MultivariateNormalTriL.params_size(final_dim),\n",
    "                activation=None),\n",
    "        tfp.layers.MultivariateNormalTriL(final_dim)\n",
    "    ])\n",
    "\n",
    "    return decoder\n",
    "\n",
    "\n",
    "\n",
    "# Function to define model\n",
    "\n",
    "def vae_model(latent_dim, nb_of_bands):\n",
    "    \"\"\"\n",
    "    Function to create VAE model\n",
    "    nb_of bands : nb of band-pass filters needed in the model\n",
    "    \"\"\"\n",
    "\n",
    "    #### Parameters to fix\n",
    "    # batch_size : size of the batch given to the network\n",
    "    # input_shape: shape of the input data\n",
    "    # latent_dim : dimension of the latent variable\n",
    "    # hidden_dim : dimension of the dense hidden layer\n",
    "    # filters: list of the sizes of the filters used for this model\n",
    "    # kernels: list of the size of the kernels used for each filter of this model\n",
    "\n",
    "    batch_size = 100 \n",
    "    \n",
    "    input_shape = (64, 64, nb_of_bands)\n",
    "    hidden_dim = 256\n",
    "    filters = [32, 64, 128, 256]\n",
    "    kernels = [3,3,3,3]\n",
    "\n",
    "    # Build the encoder\n",
    "    encoder = build_encoder(latent_dim, hidden_dim, filters, kernels, nb_of_bands)\n",
    "    # Build the decoder\n",
    "    decoder = build_decoder(input_shape, latent_dim, hidden_dim, filters, kernels, conv_activation=None, dense_activation=None)\n",
    "\n",
    "    \n",
    "    return encoder, decoder"
   ]
  },
  {
   "cell_type": "code",
   "execution_count": 18,
   "metadata": {},
   "outputs": [],
   "source": [
    "encoder, decoder = vae_model(32, 6)\n",
    "\n",
    "model = tf.keras.Model(inputs=encoder.inputs,\n",
    "                outputs=decoder(encoder.outputs[0]))"
   ]
  },
  {
   "cell_type": "code",
   "execution_count": 19,
   "metadata": {},
   "outputs": [
    {
     "name": "stdout",
     "output_type": "stream",
     "text": [
      "Model: \"model_1\"\n",
      "_________________________________________________________________\n",
      "Layer (type)                 Output Shape              Param #   \n",
      "=================================================================\n",
      "input_4 (InputLayer)         [(None, 64, 64, 6)]       0         \n",
      "_________________________________________________________________\n",
      "batch_normalization_2 (Batch (None, 64, 64, 6)         24        \n",
      "_________________________________________________________________\n",
      "conv2d_16 (Conv2D)           (None, 64, 64, 32)        1760      \n",
      "_________________________________________________________________\n",
      "p_re_lu_17 (PReLU)           (None, 64, 64, 32)        131072    \n",
      "_________________________________________________________________\n",
      "conv2d_17 (Conv2D)           (None, 32, 32, 32)        9248      \n",
      "_________________________________________________________________\n",
      "p_re_lu_18 (PReLU)           (None, 32, 32, 32)        32768     \n",
      "_________________________________________________________________\n",
      "conv2d_18 (Conv2D)           (None, 32, 32, 64)        18496     \n",
      "_________________________________________________________________\n",
      "p_re_lu_19 (PReLU)           (None, 32, 32, 64)        65536     \n",
      "_________________________________________________________________\n",
      "conv2d_19 (Conv2D)           (None, 16, 16, 64)        36928     \n",
      "_________________________________________________________________\n",
      "p_re_lu_20 (PReLU)           (None, 16, 16, 64)        16384     \n",
      "_________________________________________________________________\n",
      "conv2d_20 (Conv2D)           (None, 16, 16, 128)       73856     \n",
      "_________________________________________________________________\n",
      "p_re_lu_21 (PReLU)           (None, 16, 16, 128)       32768     \n",
      "_________________________________________________________________\n",
      "conv2d_21 (Conv2D)           (None, 8, 8, 128)         147584    \n",
      "_________________________________________________________________\n",
      "p_re_lu_22 (PReLU)           (None, 8, 8, 128)         8192      \n",
      "_________________________________________________________________\n",
      "conv2d_22 (Conv2D)           (None, 8, 8, 256)         295168    \n",
      "_________________________________________________________________\n",
      "p_re_lu_23 (PReLU)           (None, 8, 8, 256)         16384     \n",
      "_________________________________________________________________\n",
      "conv2d_23 (Conv2D)           (None, 4, 4, 256)         590080    \n",
      "_________________________________________________________________\n",
      "p_re_lu_24 (PReLU)           (None, 4, 4, 256)         4096      \n",
      "_________________________________________________________________\n",
      "flatten_4 (Flatten)          (None, 4096)              0         \n",
      "_________________________________________________________________\n",
      "dense_4 (Dense)              (None, 560)               2294320   \n",
      "_________________________________________________________________\n",
      "flatten_5 (Flatten)          (None, 560)               0         \n",
      "_________________________________________________________________\n",
      "multivariate_normal_tri_l_3  ((None, 32), (None, 32))  0         \n",
      "_________________________________________________________________\n",
      "sequential_4 (Sequential)    (None, 3)                 151305    \n",
      "=================================================================\n",
      "Total params: 3,925,969\n",
      "Trainable params: 3,925,957\n",
      "Non-trainable params: 12\n",
      "_________________________________________________________________\n"
     ]
    }
   ],
   "source": [
    "model.summary()"
   ]
  },
  {
   "cell_type": "code",
   "execution_count": 20,
   "metadata": {},
   "outputs": [],
   "source": [
    "negative_log_likelihood = lambda x, rv_x: -rv_x.log_prob(x)"
   ]
  },
  {
   "cell_type": "code",
   "execution_count": 21,
   "metadata": {},
   "outputs": [],
   "source": [
    "model.compile(optimizer=tf.optimizers.Adam(learning_rate=1e-4), loss=negative_log_likelihood, metrics=['mse'])"
   ]
  },
  {
   "cell_type": "code",
   "execution_count": null,
   "metadata": {
    "scrolled": false
   },
   "outputs": [
    {
     "name": "stdout",
     "output_type": "stream",
     "text": [
      "Epoch 1/20\n",
      "8/8 [==============================] - 23s 3s/step - loss: 10.7011 - mse: 1.3789 - val_loss: 11.1944 - val_mse: 1.5431\n",
      "Epoch 2/20\n",
      "8/8 [==============================] - 19s 2s/step - loss: 9.3604 - mse: 1.3013 - val_loss: 8.0239 - val_mse: 1.2410\n",
      "Epoch 3/20\n",
      "8/8 [==============================] - 17s 2s/step - loss: 7.5626 - mse: 1.1679 - val_loss: 6.1336 - val_mse: 1.0976\n",
      "Epoch 4/20\n",
      "8/8 [==============================] - 16s 2s/step - loss: 4.8748 - mse: 1.0229 - val_loss: 4.9552 - val_mse: 1.0524\n",
      "Epoch 5/20\n",
      "8/8 [==============================] - 15s 2s/step - loss: 4.0436 - mse: 0.9659 - val_loss: 3.1638 - val_mse: 0.9072\n",
      "Epoch 6/20\n",
      "8/8 [==============================] - 14s 2s/step - loss: 3.3799 - mse: 0.8712 - val_loss: 2.8609 - val_mse: 0.9065\n",
      "Epoch 7/20\n",
      "8/8 [==============================] - 14s 2s/step - loss: 2.9533 - mse: 0.8134 - val_loss: 2.6387 - val_mse: 0.7661\n",
      "Epoch 8/20\n",
      "8/8 [==============================] - 13s 2s/step - loss: 2.6600 - mse: 0.7652 - val_loss: 2.7807 - val_mse: 0.8322\n",
      "Epoch 9/20\n",
      "8/8 [==============================] - 12s 2s/step - loss: 2.5942 - mse: 0.7338 - val_loss: 2.5998 - val_mse: 0.7676\n",
      "Epoch 10/20\n",
      "8/8 [==============================] - 11s 1s/step - loss: 2.6035 - mse: 0.7007 - val_loss: 2.6291 - val_mse: 0.6816\n",
      "Epoch 11/20\n",
      "8/8 [==============================] - 11s 1s/step - loss: 2.5203 - mse: 0.6714 - val_loss: 2.3522 - val_mse: 0.6790\n",
      "Epoch 12/20\n",
      "8/8 [==============================] - 11s 1s/step - loss: 2.4357 - mse: 0.7284 - val_loss: 2.8138 - val_mse: 0.7219\n",
      "Epoch 13/20\n",
      "8/8 [==============================] - 10s 1s/step - loss: 2.3987 - mse: 0.6325 - val_loss: 2.1576 - val_mse: 0.5787\n",
      "Epoch 14/20\n",
      "8/8 [==============================] - 10s 1s/step - loss: 2.3342 - mse: 0.6726 - val_loss: 2.0003 - val_mse: 0.6625\n",
      "Epoch 15/20\n",
      "8/8 [==============================] - 10s 1s/step - loss: 2.3006 - mse: 0.6721 - val_loss: 2.3975 - val_mse: 0.6558\n",
      "Epoch 16/20\n",
      "7/8 [=========================>....] - ETA: 0s - loss: 2.3073 - mse: 0.6456"
     ]
    }
   ],
   "source": [
    "######## Train the network\n",
    "hist = model.fit_generator(generator=training_generator, epochs=20,\n",
    "          steps_per_epoch=8,#128\n",
    "          verbose=1,\n",
    "          shuffle=True,\n",
    "          validation_data=validation_generator,\n",
    "          validation_steps=2,#16\n",
    "          #callbacks=callbacks,\n",
    "          #max_queue_size=4,\n",
    "          workers=0,#4 \n",
    "          use_multiprocessing = False)"
   ]
  },
  {
   "cell_type": "code",
   "execution_count": 279,
   "metadata": {},
   "outputs": [],
   "source": [
    "test = training_generator.__getitem__(2)"
   ]
  },
  {
   "cell_type": "code",
   "execution_count": 280,
   "metadata": {},
   "outputs": [],
   "source": [
    "out = model.predict(test[0])"
   ]
  },
  {
   "cell_type": "code",
   "execution_count": 281,
   "metadata": {},
   "outputs": [
    {
     "data": {
      "text/plain": [
       "<matplotlib.axes._subplots.AxesSubplot at 0x7fe9d28ac7f0>"
      ]
     },
     "execution_count": 281,
     "metadata": {},
     "output_type": "execute_result"
    },
    {
     "data": {
      "image/png": "[encoded data removed]",
      "text/plain": [
       "<Figure size 432x288 with 1 Axes>"
      ]
     },
     "metadata": {
      "needs_background": "light"
     },
     "output_type": "display_data"
    }
   ],
   "source": [
    "sns.distplot(out[:,0], bins = 20)\n",
    "sns.distplot(test[1][:,0], bins = 20)"
   ]
  },
  {
   "cell_type": "code",
   "execution_count": 282,
   "metadata": {},
   "outputs": [
    {
     "data": {
      "text/plain": [
       "<matplotlib.axes._subplots.AxesSubplot at 0x7fe9d278bd30>"
      ]
     },
     "execution_count": 282,
     "metadata": {},
     "output_type": "execute_result"
    },
    {
     "data": {
      "image/png": "[encoded data removed]",
      "text/plain": [
       "<Figure size 432x288 with 1 Axes>"
      ]
     },
     "metadata": {
      "needs_background": "light"
     },
     "output_type": "display_data"
    }
   ],
   "source": [
    "sns.distplot(out[:,2], bins = 20)\n",
    "sns.distplot(test[1][:,2], bins = 20)"
   ]
  },
  {
   "cell_type": "code",
   "execution_count": 283,
   "metadata": {},
   "outputs": [
    {
     "name": "stdout",
     "output_type": "stream",
     "text": [
      "[ 1.7217293   0.8821109  -0.07805949 -0.9111776   2.0128024   0.6241628\n",
      "  2.0201128   0.86363286  0.05856061  1.6288843   2.8217096   1.239708\n",
      "  1.6447608   1.6213908   1.0330833   0.10366505  0.47666746  0.6071119\n",
      "  0.6937348   0.12835085  2.0007744   0.9191674   1.6952224   1.6668725\n",
      "  1.475757    2.3583367   2.0119946   0.94068897  1.1634471   1.6641474\n",
      "  1.1032076  -0.03303921  1.6483481  -0.15157431  0.57106936  1.430053\n",
      "  2.6346593   0.18079817  0.68502504  2.3311448   1.3789172   1.511142\n",
      " -0.13274527  1.2875834   0.463654    0.53283834  1.1207008   0.6515695\n",
      "  1.7630503   1.0027022   0.60666513 -0.03694928  1.5720983   0.37975663\n",
      "  1.3906693   1.5281181   0.48871678  0.964806    1.1679019   1.2853928\n",
      "  1.414041    1.9823854  -0.6705128   0.15784776  1.3769997   1.2592883\n",
      "  0.30435264  0.9929921   0.81915665  1.0822244   0.5606001   1.6867698\n",
      "  0.03388     1.4905257  -0.01263738  0.34085166  0.9334474   2.04547\n",
      "  1.6071746   1.9261372   0.71732014  0.7982101   1.3039705   0.4442104\n",
      "  0.4425673   1.5786281   0.8510945  -0.8855081   1.8568549   1.952711\n",
      "  1.0083576   1.4770057   0.95528805  1.1449239   2.4899092  -0.8638378\n",
      "  2.0735588   2.0352933   1.5584587   1.0048221 ]\n"
     ]
    }
   ],
   "source": [
    "print(out[:,2])"
   ]
  },
  {
   "cell_type": "code",
   "execution_count": 284,
   "metadata": {},
   "outputs": [
    {
     "data": {
      "text/plain": [
       "[<matplotlib.lines.Line2D at 0x7fe9d26812e8>]"
      ]
     },
     "execution_count": 284,
     "metadata": {},
     "output_type": "execute_result"
    },
    {
     "data": {
      "image/png": "[encoded data removed]",
      "text/plain": [
       "<Figure size 432x288 with 1 Axes>"
      ]
     },
     "metadata": {
      "needs_background": "light"
     },
     "output_type": "display_data"
    }
   ],
   "source": [
    "plt.plot(test[1][:,0], out[:,0], 'o')\n",
    "x = np.linspace(-1,1)\n",
    "plt.plot(x, x)"
   ]
  },
  {
   "cell_type": "code",
   "execution_count": 291,
   "metadata": {},
   "outputs": [],
   "source": [
    "test_2 = np.load(list_of_samples[0], mmap_mode = 'c')[:10000,1,4:]"
   ]
  },
  {
   "cell_type": "code",
   "execution_count": 292,
   "metadata": {},
   "outputs": [],
   "source": [
    "test_2 = test_2.transpose(0,2,3,1)"
   ]
  },
  {
   "cell_type": "code",
   "execution_count": 293,
   "metadata": {},
   "outputs": [
    {
     "data": {
      "text/plain": [
       "(10000, 64, 64, 6)"
      ]
     },
     "execution_count": 293,
     "metadata": {},
     "output_type": "execute_result"
    }
   ],
   "source": [
    "test_2.shape"
   ]
  },
  {
   "cell_type": "code",
   "execution_count": 294,
   "metadata": {},
   "outputs": [],
   "source": [
    "out = model.predict(test_2)"
   ]
  },
  {
   "cell_type": "code",
   "execution_count": 295,
   "metadata": {},
   "outputs": [],
   "source": [
    "data = pd.read_csv('/sps/lsst/users/barcelin/data/isolated_galaxies/centered/test/galaxies_isolated_20191024_0_data.csv')\n",
    "\n",
    "input_test = data['e1'][:10000]"
   ]
  },
  {
   "cell_type": "code",
   "execution_count": 296,
   "metadata": {},
   "outputs": [
    {
     "data": {
      "text/plain": [
       "[<matplotlib.lines.Line2D at 0x7fe9d2531320>]"
      ]
     },
     "execution_count": 296,
     "metadata": {},
     "output_type": "execute_result"
    },
    {
     "data": {
      "image/png": "[encoded data removed]",
      "text/plain": [
       "<Figure size 432x288 with 1 Axes>"
      ]
     },
     "metadata": {
      "needs_background": "light"
     },
     "output_type": "display_data"
    }
   ],
   "source": [
    "plt.hist2d(input_test, out[:,0], bins = 100)\n",
    "x = np.linspace(-1,1)\n",
    "plt.plot(x, x)"
   ]
  },
  {
   "cell_type": "code",
   "execution_count": null,
   "metadata": {},
   "outputs": [],
   "source": []
  }
 ],
 "metadata": {
  "kernelspec": {
   "display_name": "Python 3",
   "language": "python",
   "name": "python3"
  },
  "language_info": {
   "codemirror_mode": {
    "name": "ipython",
    "version": 3
   },
   "file_extension": ".py",
   "mimetype": "text/x-python",
   "name": "python",
   "nbconvert_exporter": "python",
   "pygments_lexer": "ipython3",
   "version": "3.6.8"
  },
  "toc": {
   "base_numbering": 1,
   "nav_menu": {},
   "number_sections": true,
   "sideBar": true,
   "skip_h1_title": false,
   "title_cell": "Table of Contents",
   "title_sidebar": "Contents",
   "toc_cell": false,
   "toc_position": {},
   "toc_section_display": true,
   "toc_window_display": false
  }
 },
 "nbformat": 4,
 "nbformat_minor": 2
}
