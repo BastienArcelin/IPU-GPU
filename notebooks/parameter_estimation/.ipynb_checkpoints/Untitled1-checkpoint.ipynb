{
 "cells": [
  {
   "cell_type": "code",
   "execution_count": 1,
   "metadata": {},
   "outputs": [],
   "source": [
    "#### Import librairies\n",
    "import sys\n",
    "import os\n",
    "import numpy as np\n",
    "import matplotlib.pyplot as plt\n",
    "import pandas as pd\n",
    "import seaborn as sns\n",
    "import collections\n",
    "from importlib import reload\n",
    "\n",
    "import tensorflow\n",
    "import tensorflow as tf\n",
    "import tensorflow_probability as tfp\n",
    "from tensorflow.keras.layers import Input, Dense, Lambda, Layer, Add, Multiply, Reshape, Flatten, BatchNormalization\n",
    "from tensorflow.keras.models import Model, Sequential\n",
    "from tensorflow.keras.layers import Conv2D, Input, Dense, Dropout, MaxPool2D, Flatten,  Reshape, UpSampling2D, Cropping2D, Conv2DTranspose, PReLU, Concatenate, Lambda, BatchNormalization, concatenate, LeakyReLU\n",
    "\n",
    "tfd = tfp.distributions\n",
    "\n",
    "sys.path.insert(0,'../../scripts/tools_for_VAE/')\n",
    "import tools_for_VAE.layers as layers\n",
    "from tools_for_VAE import utils, vae_functions, generator, model\n",
    "from tensorflow.keras import backend as K"
   ]
  },
  {
   "cell_type": "code",
   "execution_count": 2,
   "metadata": {},
   "outputs": [],
   "source": [
    "######## Parameters\n",
    "nb_of_bands = 6\n",
    "batch_size = 100 \n",
    "\n",
    "input_shape = (64, 64, nb_of_bands)\n",
    "hidden_dim = 256\n",
    "latent_dim = 32\n",
    "final_dim = 9\n",
    "filters = [32, 64]#, 128]#, 256]#, 512]\n",
    "kernels = [3,3]#,3]#,3]#,3]\n",
    "\n",
    "conv_activation = None\n",
    "dense_activation = None\n",
    "\n",
    "steps_per_epoch = 32\n",
    "validation_steps = 8\n",
    "\n",
    "bands = [4,5,6,7,8,9]"
   ]
  },
  {
   "cell_type": "code",
   "execution_count": 3,
   "metadata": {},
   "outputs": [
    {
     "name": "stdout",
     "output_type": "stream",
     "text": [
      "[BatchGenerator] total_sample_size =  100000\n",
      "[BatchGenerator] len(list_of_samples) =  10\n",
      "[BatchGenerator] total_sample_size =  20000\n",
      "[BatchGenerator] len(list_of_samples) =  2\n",
      "[BatchGenerator] total_sample_size =  10000\n",
      "[BatchGenerator] len(list_of_samples) =  1\n"
     ]
    }
   ],
   "source": [
    "# With generator\n",
    "images_dir = '/sps/lsst/users/barcelin/data/TFP/GalSim_COSMOS/blended_galaxies/random/'\n",
    "\n",
    "list_of_samples = [x for x in utils.listdir_fullpath(os.path.join(images_dir,'training')) if x.endswith('.npy')]\n",
    "list_of_samples_val = [x for x in utils.listdir_fullpath(os.path.join(images_dir,'validation')) if x.endswith('.npy')]\n",
    "list_of_samples_test = [x for x in utils.listdir_fullpath(os.path.join(images_dir,'test')) if x.endswith('.npy')]\n",
    "\n",
    "training_generator = generator.BatchGenerator_multi_galaxies(bands, list_of_samples, total_sample_size=None,\n",
    "                                    batch_size=batch_size, \n",
    "                                    trainval_or_test='training',\n",
    "                                    do_norm=False,\n",
    "                                    denorm = False,\n",
    "                                    list_of_weights_e=None)\n",
    "\n",
    "validation_generator = generator.BatchGenerator_multi_galaxies(bands, list_of_samples_val, total_sample_size=None,\n",
    "                                    batch_size=batch_size, \n",
    "                                    trainval_or_test='validation',\n",
    "                                    do_norm=False,\n",
    "                                    denorm = False,\n",
    "                                    list_of_weights_e=None)\n",
    "\n",
    "test_generator = generator.BatchGenerator_multi_galaxies(bands, list_of_samples_test, total_sample_size=None,\n",
    "                                    batch_size=batch_size, \n",
    "                                    trainval_or_test='test',\n",
    "                                    do_norm=False,\n",
    "                                    denorm = False,\n",
    "                                    list_of_weights_e=None)"
   ]
  },
  {
   "cell_type": "code",
   "execution_count": 4,
   "metadata": {},
   "outputs": [
    {
     "name": "stdout",
     "output_type": "stream",
     "text": [
      "Model: \"model\"\n",
      "_________________________________________________________________\n",
      "Layer (type)                 Output Shape              Param #   \n",
      "=================================================================\n",
      "input_1 (InputLayer)         [(None, 64, 64, 6)]       0         \n",
      "_________________________________________________________________\n",
      "batch_normalization (BatchNo (None, 64, 64, 6)         24        \n",
      "_________________________________________________________________\n",
      "conv2d (Conv2D)              (None, 64, 64, 32)        1760      \n",
      "_________________________________________________________________\n",
      "p_re_lu (PReLU)              (None, 64, 64, 32)        131072    \n",
      "_________________________________________________________________\n",
      "conv2d_1 (Conv2D)            (None, 32, 32, 32)        9248      \n",
      "_________________________________________________________________\n",
      "p_re_lu_1 (PReLU)            (None, 32, 32, 32)        32768     \n",
      "_________________________________________________________________\n",
      "conv2d_2 (Conv2D)            (None, 32, 32, 64)        18496     \n",
      "_________________________________________________________________\n",
      "p_re_lu_2 (PReLU)            (None, 32, 32, 64)        65536     \n",
      "_________________________________________________________________\n",
      "conv2d_3 (Conv2D)            (None, 16, 16, 64)        36928     \n",
      "_________________________________________________________________\n",
      "p_re_lu_3 (PReLU)            (None, 16, 16, 64)        16384     \n",
      "_________________________________________________________________\n",
      "flatten (Flatten)            (None, 16384)             0         \n",
      "_________________________________________________________________\n",
      "p_re_lu_4 (PReLU)            (None, 16384)             16384     \n",
      "_________________________________________________________________\n",
      "dense (Dense)                (None, 54)                884790    \n",
      "_________________________________________________________________\n",
      "p_re_lu_5 (PReLU)            (None, 54)                54        \n",
      "_________________________________________________________________\n",
      "multivariate_normal_tri_l (M ((None, 9), (None, 9))    0         \n",
      "=================================================================\n",
      "Total params: 1,213,444\n",
      "Trainable params: 1,213,432\n",
      "Non-trainable params: 12\n",
      "_________________________________________________________________\n"
     ]
    }
   ],
   "source": [
    "#### Model definition\n",
    "model_choice = 'wo_ls'\n",
    "# With latent space\n",
    "if model_choice == 'ls':\n",
    "    net = model.create_model(input_shape, latent_dim, hidden_dim, filters, kernels, final_dim, conv_activation=None, dense_activation=None)\n",
    "# Without latent space\n",
    "if model_choice == 'wo_ls': # create_model_wo_ls\n",
    "    net = model.create_model_wo_ls_multi(input_shape, latent_dim, hidden_dim, filters, kernels, final_dim, conv_activation=None, dense_activation=None)\n",
    "# Full probabilistic model\n",
    "if model_choice == 'full_prob':\n",
    "    net = model.create_model_full_prob(input_shape, latent_dim, hidden_dim, filters, kernels, final_dim, conv_activation=None, dense_activation=None)\n",
    "net.summary()"
   ]
  },
  {
   "cell_type": "code",
   "execution_count": 158,
   "metadata": {},
   "outputs": [],
   "source": [
    "def numpy_fcn(x,y):\n",
    "    x[y==0]=0\n",
    "    return x"
   ]
  },
  {
   "cell_type": "code",
   "execution_count": 55,
   "metadata": {},
   "outputs": [],
   "source": [
    "#### Loss definition\n",
    "if model_choice == 'full_prob':\n",
    "    kl = sum(net.losses)\n",
    "    def loss(x, dists):\n",
    "        nll = -dists.log_prob(x)\n",
    "        print(nll)\n",
    "        kl = sum(net.losses)\n",
    "        print(kl)\n",
    "        return nll + kl, collections.namedtuple('loss','nll,kl')(nll, kl)\n",
    "    negative_log_likelihood = lambda x, rv_x: -rv_x.log_prob(x) + kl *(10/(batch_size*steps_per_epoch)-1)\n",
    "\n",
    "else:\n",
    "    def loss(x, dists):\n",
    "        mse = tf.keras.losses.MeanSquaredError()\n",
    "        loss = 0\n",
    "        for i in range(final_dim):\n",
    "            loss += mse(dists[:,i], x[:,i])\n",
    "        return loss"
   ]
  },
  {
   "cell_type": "code",
   "execution_count": 237,
   "metadata": {},
   "outputs": [],
   "source": [
    "#### Loss definition\n",
    "if model_choice == 'full_prob':\n",
    "    kl = sum(net.losses)\n",
    "    def loss(x, dists):\n",
    "        nll = -dists.log_prob(x)\n",
    "        print(nll)\n",
    "        kl = sum(net.losses)\n",
    "        print(kl)\n",
    "        return nll + kl, collections.namedtuple('loss','nll,kl')(nll, kl)\n",
    "    negative_log_likelihood = lambda x, rv_x: -rv_x.log_prob(x) + kl *(10/(batch_size*steps_per_epoch)-1)\n",
    "\n",
    "else:\n",
    "    def loss(x, dists):\n",
    "        mse = tf.keras.losses.MeanSquaredError()\n",
    "        loss = 0\n",
    "        \n",
    "        a = tf.numpy_function(numpy_fcn, [tf.ones([100], tf.float32), tf.convert_to_tensor(x[:,6])], tf.float32)\n",
    "        print(tf.math.squared_difference(dists[:,6], x[:,6]))\n",
    "        print(a*tf.math.squared_difference(dists[:,6], x[:,6]))\n",
    "        for i in range(final_dim):\n",
    "\n",
    "            a = tf.numpy_function(numpy_fcn, [tf.ones([100], tf.float32), tf.convert_to_tensor(x[:,i])], tf.float32)\n",
    "            loss += tf.reduce_mean(a*tf.math.squared_difference(dists.mean()[:,i], x[:,i]))#mse(a*dists[:,i], x[:,i])\n",
    "        return loss"
   ]
  },
  {
   "cell_type": "code",
   "execution_count": 238,
   "metadata": {},
   "outputs": [
    {
     "name": "stdout",
     "output_type": "stream",
     "text": [
      "Tensor(\"loss_45/multivariate_normal_tri_l_loss/SquaredDifference:0\", shape=(None,), dtype=float32)\n",
      "Tensor(\"loss_45/multivariate_normal_tri_l_loss/mul:0\", dtype=float32)\n"
     ]
    },
    {
     "ename": "AttributeError",
     "evalue": "'Tensor' object has no attribute 'mean'",
     "output_type": "error",
     "traceback": [
      "\u001b[0;31m\u001b[0m",
      "\u001b[0;31mAttributeError\u001b[0mTraceback (most recent call last)",
      "\u001b[0;32m<ipython-input-238-594813d99c1a>\u001b[0m in \u001b[0;36m<module>\u001b[0;34m\u001b[0m\n\u001b[1;32m      1\u001b[0m net.compile(optimizer=tf.optimizers.Adam(learning_rate=1e-3), \n\u001b[0;32m----> 2\u001b[0;31m               loss=loss , metrics = ['mse', 'acc'], experimental_run_tf_function=False)\n\u001b[0m",
      "\u001b[0;32m/sps/lsst/users/barcelin/miniconda/envs/python_cpu6/lib/python3.6/site-packages/tensorflow_core/python/training/tracking/base.py\u001b[0m in \u001b[0;36m_method_wrapper\u001b[0;34m(self, *args, **kwargs)\u001b[0m\n\u001b[1;32m    455\u001b[0m     \u001b[0mself\u001b[0m\u001b[0;34m.\u001b[0m\u001b[0m_self_setattr_tracking\u001b[0m \u001b[0;34m=\u001b[0m \u001b[0;32mFalse\u001b[0m  \u001b[0;31m# pylint: disable=protected-access\u001b[0m\u001b[0;34m\u001b[0m\u001b[0;34m\u001b[0m\u001b[0m\n\u001b[1;32m    456\u001b[0m     \u001b[0;32mtry\u001b[0m\u001b[0;34m:\u001b[0m\u001b[0;34m\u001b[0m\u001b[0;34m\u001b[0m\u001b[0m\n\u001b[0;32m--> 457\u001b[0;31m       \u001b[0mresult\u001b[0m \u001b[0;34m=\u001b[0m \u001b[0mmethod\u001b[0m\u001b[0;34m(\u001b[0m\u001b[0mself\u001b[0m\u001b[0;34m,\u001b[0m \u001b[0;34m*\u001b[0m\u001b[0margs\u001b[0m\u001b[0;34m,\u001b[0m \u001b[0;34m**\u001b[0m\u001b[0mkwargs\u001b[0m\u001b[0;34m)\u001b[0m\u001b[0;34m\u001b[0m\u001b[0;34m\u001b[0m\u001b[0m\n\u001b[0m\u001b[1;32m    458\u001b[0m     \u001b[0;32mfinally\u001b[0m\u001b[0;34m:\u001b[0m\u001b[0;34m\u001b[0m\u001b[0;34m\u001b[0m\u001b[0m\n\u001b[1;32m    459\u001b[0m       \u001b[0mself\u001b[0m\u001b[0;34m.\u001b[0m\u001b[0m_self_setattr_tracking\u001b[0m \u001b[0;34m=\u001b[0m \u001b[0mprevious_value\u001b[0m  \u001b[0;31m# pylint: disable=protected-access\u001b[0m\u001b[0;34m\u001b[0m\u001b[0;34m\u001b[0m\u001b[0m\n",
      "\u001b[0;32m/sps/lsst/users/barcelin/miniconda/envs/python_cpu6/lib/python3.6/site-packages/tensorflow_core/python/keras/engine/training.py\u001b[0m in \u001b[0;36mcompile\u001b[0;34m(self, optimizer, loss, metrics, loss_weights, sample_weight_mode, weighted_metrics, target_tensors, distribute, **kwargs)\u001b[0m\n\u001b[1;32m    371\u001b[0m \u001b[0;34m\u001b[0m\u001b[0m\n\u001b[1;32m    372\u001b[0m       \u001b[0;31m# Creates the model loss and weighted metrics sub-graphs.\u001b[0m\u001b[0;34m\u001b[0m\u001b[0;34m\u001b[0m\u001b[0;34m\u001b[0m\u001b[0m\n\u001b[0;32m--> 373\u001b[0;31m       \u001b[0mself\u001b[0m\u001b[0;34m.\u001b[0m\u001b[0m_compile_weights_loss_and_weighted_metrics\u001b[0m\u001b[0;34m(\u001b[0m\u001b[0;34m)\u001b[0m\u001b[0;34m\u001b[0m\u001b[0;34m\u001b[0m\u001b[0m\n\u001b[0m\u001b[1;32m    374\u001b[0m \u001b[0;34m\u001b[0m\u001b[0m\n\u001b[1;32m    375\u001b[0m       \u001b[0;31m# Functions for train, test and predict will\u001b[0m\u001b[0;34m\u001b[0m\u001b[0;34m\u001b[0m\u001b[0;34m\u001b[0m\u001b[0m\n",
      "\u001b[0;32m/sps/lsst/users/barcelin/miniconda/envs/python_cpu6/lib/python3.6/site-packages/tensorflow_core/python/training/tracking/base.py\u001b[0m in \u001b[0;36m_method_wrapper\u001b[0;34m(self, *args, **kwargs)\u001b[0m\n\u001b[1;32m    455\u001b[0m     \u001b[0mself\u001b[0m\u001b[0;34m.\u001b[0m\u001b[0m_self_setattr_tracking\u001b[0m \u001b[0;34m=\u001b[0m \u001b[0;32mFalse\u001b[0m  \u001b[0;31m# pylint: disable=protected-access\u001b[0m\u001b[0;34m\u001b[0m\u001b[0;34m\u001b[0m\u001b[0m\n\u001b[1;32m    456\u001b[0m     \u001b[0;32mtry\u001b[0m\u001b[0;34m:\u001b[0m\u001b[0;34m\u001b[0m\u001b[0;34m\u001b[0m\u001b[0m\n\u001b[0;32m--> 457\u001b[0;31m       \u001b[0mresult\u001b[0m \u001b[0;34m=\u001b[0m \u001b[0mmethod\u001b[0m\u001b[0;34m(\u001b[0m\u001b[0mself\u001b[0m\u001b[0;34m,\u001b[0m \u001b[0;34m*\u001b[0m\u001b[0margs\u001b[0m\u001b[0;34m,\u001b[0m \u001b[0;34m**\u001b[0m\u001b[0mkwargs\u001b[0m\u001b[0;34m)\u001b[0m\u001b[0;34m\u001b[0m\u001b[0;34m\u001b[0m\u001b[0m\n\u001b[0m\u001b[1;32m    458\u001b[0m     \u001b[0;32mfinally\u001b[0m\u001b[0;34m:\u001b[0m\u001b[0;34m\u001b[0m\u001b[0;34m\u001b[0m\u001b[0m\n\u001b[1;32m    459\u001b[0m       \u001b[0mself\u001b[0m\u001b[0;34m.\u001b[0m\u001b[0m_self_setattr_tracking\u001b[0m \u001b[0;34m=\u001b[0m \u001b[0mprevious_value\u001b[0m  \u001b[0;31m# pylint: disable=protected-access\u001b[0m\u001b[0;34m\u001b[0m\u001b[0;34m\u001b[0m\u001b[0m\n",
      "\u001b[0;32m/sps/lsst/users/barcelin/miniconda/envs/python_cpu6/lib/python3.6/site-packages/tensorflow_core/python/keras/engine/training.py\u001b[0m in \u001b[0;36m_compile_weights_loss_and_weighted_metrics\u001b[0;34m(self, sample_weights)\u001b[0m\n\u001b[1;32m   1651\u001b[0m       \u001b[0;31m#                   loss_weight_2 * output_2_loss_fn(...) +\u001b[0m\u001b[0;34m\u001b[0m\u001b[0;34m\u001b[0m\u001b[0;34m\u001b[0m\u001b[0m\n\u001b[1;32m   1652\u001b[0m       \u001b[0;31m#                   layer losses.\u001b[0m\u001b[0;34m\u001b[0m\u001b[0;34m\u001b[0m\u001b[0;34m\u001b[0m\u001b[0m\n\u001b[0;32m-> 1653\u001b[0;31m       \u001b[0mself\u001b[0m\u001b[0;34m.\u001b[0m\u001b[0mtotal_loss\u001b[0m \u001b[0;34m=\u001b[0m \u001b[0mself\u001b[0m\u001b[0;34m.\u001b[0m\u001b[0m_prepare_total_loss\u001b[0m\u001b[0;34m(\u001b[0m\u001b[0mmasks\u001b[0m\u001b[0;34m)\u001b[0m\u001b[0;34m\u001b[0m\u001b[0;34m\u001b[0m\u001b[0m\n\u001b[0m\u001b[1;32m   1654\u001b[0m \u001b[0;34m\u001b[0m\u001b[0m\n\u001b[1;32m   1655\u001b[0m   \u001b[0;32mdef\u001b[0m \u001b[0m_prepare_skip_target_masks\u001b[0m\u001b[0;34m(\u001b[0m\u001b[0mself\u001b[0m\u001b[0;34m)\u001b[0m\u001b[0;34m:\u001b[0m\u001b[0;34m\u001b[0m\u001b[0;34m\u001b[0m\u001b[0m\n",
      "\u001b[0;32m/sps/lsst/users/barcelin/miniconda/envs/python_cpu6/lib/python3.6/site-packages/tensorflow_core/python/keras/engine/training.py\u001b[0m in \u001b[0;36m_prepare_total_loss\u001b[0;34m(self, masks)\u001b[0m\n\u001b[1;32m   1711\u001b[0m \u001b[0;34m\u001b[0m\u001b[0m\n\u001b[1;32m   1712\u001b[0m           \u001b[0;32mif\u001b[0m \u001b[0mhasattr\u001b[0m\u001b[0;34m(\u001b[0m\u001b[0mloss_fn\u001b[0m\u001b[0;34m,\u001b[0m \u001b[0;34m'reduction'\u001b[0m\u001b[0;34m)\u001b[0m\u001b[0;34m:\u001b[0m\u001b[0;34m\u001b[0m\u001b[0;34m\u001b[0m\u001b[0m\n\u001b[0;32m-> 1713\u001b[0;31m             \u001b[0mper_sample_losses\u001b[0m \u001b[0;34m=\u001b[0m \u001b[0mloss_fn\u001b[0m\u001b[0;34m.\u001b[0m\u001b[0mcall\u001b[0m\u001b[0;34m(\u001b[0m\u001b[0my_true\u001b[0m\u001b[0;34m,\u001b[0m \u001b[0my_pred\u001b[0m\u001b[0;34m)\u001b[0m\u001b[0;34m\u001b[0m\u001b[0;34m\u001b[0m\u001b[0m\n\u001b[0m\u001b[1;32m   1714\u001b[0m             weighted_losses = losses_utils.compute_weighted_loss(\n\u001b[1;32m   1715\u001b[0m                 \u001b[0mper_sample_losses\u001b[0m\u001b[0;34m,\u001b[0m\u001b[0;34m\u001b[0m\u001b[0;34m\u001b[0m\u001b[0m\n",
      "\u001b[0;32m/sps/lsst/users/barcelin/miniconda/envs/python_cpu6/lib/python3.6/site-packages/tensorflow_core/python/keras/losses.py\u001b[0m in \u001b[0;36mcall\u001b[0;34m(self, y_true, y_pred)\u001b[0m\n\u001b[1;32m    219\u001b[0m       y_pred, y_true = tf_losses_util.squeeze_or_expand_dimensions(\n\u001b[1;32m    220\u001b[0m           y_pred, y_true)\n\u001b[0;32m--> 221\u001b[0;31m     \u001b[0;32mreturn\u001b[0m \u001b[0mself\u001b[0m\u001b[0;34m.\u001b[0m\u001b[0mfn\u001b[0m\u001b[0;34m(\u001b[0m\u001b[0my_true\u001b[0m\u001b[0;34m,\u001b[0m \u001b[0my_pred\u001b[0m\u001b[0;34m,\u001b[0m \u001b[0;34m**\u001b[0m\u001b[0mself\u001b[0m\u001b[0;34m.\u001b[0m\u001b[0m_fn_kwargs\u001b[0m\u001b[0;34m)\u001b[0m\u001b[0;34m\u001b[0m\u001b[0;34m\u001b[0m\u001b[0m\n\u001b[0m\u001b[1;32m    222\u001b[0m \u001b[0;34m\u001b[0m\u001b[0m\n\u001b[1;32m    223\u001b[0m   \u001b[0;32mdef\u001b[0m \u001b[0mget_config\u001b[0m\u001b[0;34m(\u001b[0m\u001b[0mself\u001b[0m\u001b[0;34m)\u001b[0m\u001b[0;34m:\u001b[0m\u001b[0;34m\u001b[0m\u001b[0;34m\u001b[0m\u001b[0m\n",
      "\u001b[0;32m<ipython-input-237-18940cb5b92b>\u001b[0m in \u001b[0;36mloss\u001b[0;34m(x, dists)\u001b[0m\n\u001b[1;32m     21\u001b[0m \u001b[0;34m\u001b[0m\u001b[0m\n\u001b[1;32m     22\u001b[0m             \u001b[0ma\u001b[0m \u001b[0;34m=\u001b[0m \u001b[0mtf\u001b[0m\u001b[0;34m.\u001b[0m\u001b[0mnumpy_function\u001b[0m\u001b[0;34m(\u001b[0m\u001b[0mnumpy_fcn\u001b[0m\u001b[0;34m,\u001b[0m \u001b[0;34m[\u001b[0m\u001b[0mtf\u001b[0m\u001b[0;34m.\u001b[0m\u001b[0mones\u001b[0m\u001b[0;34m(\u001b[0m\u001b[0;34m[\u001b[0m\u001b[0;36m100\u001b[0m\u001b[0;34m]\u001b[0m\u001b[0;34m,\u001b[0m \u001b[0mtf\u001b[0m\u001b[0;34m.\u001b[0m\u001b[0mfloat32\u001b[0m\u001b[0;34m)\u001b[0m\u001b[0;34m,\u001b[0m \u001b[0mtf\u001b[0m\u001b[0;34m.\u001b[0m\u001b[0mconvert_to_tensor\u001b[0m\u001b[0;34m(\u001b[0m\u001b[0mx\u001b[0m\u001b[0;34m[\u001b[0m\u001b[0;34m:\u001b[0m\u001b[0;34m,\u001b[0m\u001b[0mi\u001b[0m\u001b[0;34m]\u001b[0m\u001b[0;34m)\u001b[0m\u001b[0;34m]\u001b[0m\u001b[0;34m,\u001b[0m \u001b[0mtf\u001b[0m\u001b[0;34m.\u001b[0m\u001b[0mfloat32\u001b[0m\u001b[0;34m)\u001b[0m\u001b[0;34m\u001b[0m\u001b[0;34m\u001b[0m\u001b[0m\n\u001b[0;32m---> 23\u001b[0;31m             \u001b[0mloss\u001b[0m \u001b[0;34m+=\u001b[0m \u001b[0mtf\u001b[0m\u001b[0;34m.\u001b[0m\u001b[0mreduce_mean\u001b[0m\u001b[0;34m(\u001b[0m\u001b[0ma\u001b[0m\u001b[0;34m*\u001b[0m\u001b[0mtf\u001b[0m\u001b[0;34m.\u001b[0m\u001b[0mmath\u001b[0m\u001b[0;34m.\u001b[0m\u001b[0msquared_difference\u001b[0m\u001b[0;34m(\u001b[0m\u001b[0mdists\u001b[0m\u001b[0;34m[\u001b[0m\u001b[0;34m:\u001b[0m\u001b[0;34m,\u001b[0m\u001b[0mi\u001b[0m\u001b[0;34m]\u001b[0m\u001b[0;34m.\u001b[0m\u001b[0mmean\u001b[0m\u001b[0;34m(\u001b[0m\u001b[0;34m)\u001b[0m\u001b[0;34m,\u001b[0m \u001b[0mx\u001b[0m\u001b[0;34m[\u001b[0m\u001b[0;34m:\u001b[0m\u001b[0;34m,\u001b[0m\u001b[0mi\u001b[0m\u001b[0;34m]\u001b[0m\u001b[0;34m)\u001b[0m\u001b[0;34m)\u001b[0m\u001b[0;31m#mse(a*dists[:,i], x[:,i])\u001b[0m\u001b[0;34m\u001b[0m\u001b[0;34m\u001b[0m\u001b[0m\n\u001b[0m\u001b[1;32m     24\u001b[0m         \u001b[0;32mreturn\u001b[0m \u001b[0mloss\u001b[0m\u001b[0;34m\u001b[0m\u001b[0;34m\u001b[0m\u001b[0m\n",
      "\u001b[0;31mAttributeError\u001b[0m: 'Tensor' object has no attribute 'mean'"
     ]
    }
   ],
   "source": [
    "net.compile(optimizer=tf.optimizers.Adam(learning_rate=1e-3), \n",
    "              loss=loss , metrics = ['mse', 'acc'], experimental_run_tf_function=False)"
   ]
  },
  {
   "cell_type": "code",
   "execution_count": 231,
   "metadata": {},
   "outputs": [],
   "source": [
    "output_gen = training_generator.__getitem__(2)"
   ]
  },
  {
   "cell_type": "code",
   "execution_count": 232,
   "metadata": {},
   "outputs": [
    {
     "data": {
      "text/plain": [
       "((100, 64, 64, 6), (100, 9))"
      ]
     },
     "execution_count": 232,
     "metadata": {},
     "output_type": "execute_result"
    }
   ],
   "source": [
    "output_gen[0].shape, output_gen[1].shape"
   ]
  },
  {
   "cell_type": "code",
   "execution_count": 239,
   "metadata": {},
   "outputs": [],
   "source": [
    "out = net(output_gen[0])"
   ]
  },
  {
   "cell_type": "code",
   "execution_count": 240,
   "metadata": {},
   "outputs": [
    {
     "data": {
      "text/plain": [
       "TensorShape([100, 9])"
      ]
     },
     "execution_count": 240,
     "metadata": {},
     "output_type": "execute_result"
    }
   ],
   "source": [
    "out.shape"
   ]
  },
  {
   "cell_type": "code",
   "execution_count": 243,
   "metadata": {},
   "outputs": [
    {
     "data": {
      "text/plain": [
       "<tf.Tensor: id=44352, shape=(100,), dtype=float32, numpy=\n",
       "array([3.9752436e+00, 2.2152599e+01, 0.0000000e+00, 0.0000000e+00,\n",
       "       0.0000000e+00, 0.0000000e+00, 0.0000000e+00, 0.0000000e+00,\n",
       "       0.0000000e+00, 0.0000000e+00, 0.0000000e+00, 2.3323689e+01,\n",
       "       0.0000000e+00, 0.0000000e+00, 0.0000000e+00, 4.3532288e+01,\n",
       "       5.7669205e+01, 0.0000000e+00, 0.0000000e+00, 0.0000000e+00,\n",
       "       1.8036339e+02, 0.0000000e+00, 3.8851471e+01, 0.0000000e+00,\n",
       "       0.0000000e+00, 3.8381589e+02, 0.0000000e+00, 0.0000000e+00,\n",
       "       0.0000000e+00, 0.0000000e+00, 1.4502766e+02, 2.2350784e+01,\n",
       "       0.0000000e+00, 1.7189700e+03, 6.1514519e+01, 0.0000000e+00,\n",
       "       5.3808323e+01, 0.0000000e+00, 0.0000000e+00, 0.0000000e+00,\n",
       "       0.0000000e+00, 0.0000000e+00, 2.2853108e+02, 0.0000000e+00,\n",
       "       0.0000000e+00, 0.0000000e+00, 8.2433057e+02, 0.0000000e+00,\n",
       "       2.2846313e+01, 4.9538086e+01, 2.6729179e+01, 0.0000000e+00,\n",
       "       0.0000000e+00, 0.0000000e+00, 0.0000000e+00, 0.0000000e+00,\n",
       "       4.8998940e+01, 0.0000000e+00, 0.0000000e+00, 0.0000000e+00,\n",
       "       0.0000000e+00, 0.0000000e+00, 2.4400786e+03, 1.7908897e+00,\n",
       "       4.1961655e+01, 1.3386703e+02, 2.8466821e+02, 4.4873611e+02,\n",
       "       1.2541422e+01, 0.0000000e+00, 0.0000000e+00, 0.0000000e+00,\n",
       "       1.7950233e+02, 4.6485382e+02, 9.9471069e+02, 0.0000000e+00,\n",
       "       0.0000000e+00, 0.0000000e+00, 0.0000000e+00, 7.7466986e+02,\n",
       "       2.4061125e+02, 0.0000000e+00, 0.0000000e+00, 1.7018428e+02,\n",
       "       1.5212343e+02, 0.0000000e+00, 7.9750732e+01, 0.0000000e+00,\n",
       "       0.0000000e+00, 0.0000000e+00, 0.0000000e+00, 3.6284863e+01,\n",
       "       0.0000000e+00, 0.0000000e+00, 0.0000000e+00, 5.3406281e+02,\n",
       "       0.0000000e+00, 0.0000000e+00, 0.0000000e+00, 0.0000000e+00],\n",
       "      dtype=float32)>"
      ]
     },
     "execution_count": 243,
     "metadata": {},
     "output_type": "execute_result"
    }
   ],
   "source": [
    "out.mean()[:,0]"
   ]
  },
  {
   "cell_type": "code",
   "execution_count": 236,
   "metadata": {},
   "outputs": [
    {
     "data": {
      "text/plain": [
       "array([0.        , 0.        , 2.74109742, 1.58009423, 0.        ,\n",
       "       0.        , 1.74605056, 2.1723007 , 2.41795226, 0.        ,\n",
       "       0.        , 1.97736485, 0.        , 1.6615159 , 1.93781344,\n",
       "       1.27176562, 2.13318969, 0.        , 0.        , 0.        ,\n",
       "       2.02044392, 0.        , 4.15354668, 0.        , 0.        ,\n",
       "       2.33739483, 0.        , 0.        , 1.72828829, 0.        ,\n",
       "       0.        , 0.        , 0.        , 1.78727534, 1.24124089,\n",
       "       0.        , 0.        , 1.96946249, 0.        , 0.        ,\n",
       "       0.        , 3.07442537, 1.91620632, 1.36307238, 0.        ,\n",
       "       0.        , 0.        , 0.        , 2.24569287, 0.        ,\n",
       "       0.        , 0.        , 0.        , 0.        , 1.88100979,\n",
       "       1.56948527, 2.06061915, 1.79188618, 1.70694922, 0.        ,\n",
       "       0.        , 0.        , 0.        , 3.43261015, 0.        ,\n",
       "       1.65006848, 0.        , 1.22575993, 3.42356304, 0.        ,\n",
       "       2.02013722, 1.83249877, 0.        , 1.22352693, 1.53250826,\n",
       "       0.        , 2.4821403 , 2.3319674 , 2.88304305, 1.75378338,\n",
       "       2.20925459, 0.        , 2.6486016 , 0.        , 2.49277159,\n",
       "       0.        , 3.04436054, 2.05376729, 1.37345218, 2.67272296,\n",
       "       1.90883709, 2.59849923, 2.40499823, 2.25130585, 0.        ,\n",
       "       0.        , 1.62303362, 1.876819  , 0.        , 0.        ])"
      ]
     },
     "execution_count": 236,
     "metadata": {},
     "output_type": "execute_result"
    }
   ],
   "source": [
    "output_gen[1][:,6]"
   ]
  },
  {
   "cell_type": "code",
   "execution_count": 234,
   "metadata": {},
   "outputs": [
    {
     "name": "stdout",
     "output_type": "stream",
     "text": [
      "tf.Tensor(\n",
      "[1.4343372e+04 3.1789193e+04 2.1662156e+03 7.4501712e+05 2.7111680e+03\n",
      " 2.9917266e+04 2.6483492e+07 5.5988973e+04 2.3239630e+07 9.8201758e+03\n",
      " 4.4122482e+02 2.6873821e+03 7.2317633e+04 3.0585341e+05 2.9275788e+06\n",
      " 4.7346616e+03 1.3914405e+06 3.1704607e+04 7.7713438e+05 2.8605352e+03\n",
      " 3.2582272e+06 4.4354458e+03 1.4466916e+02 1.2175929e+06 2.4756462e+03\n",
      " 6.3779606e+05 6.4095253e+01 2.4625256e+04 1.3653484e+05 4.3902219e+04\n",
      " 3.5964656e+04 2.9800627e+03 1.7684855e+04 2.0582140e+06 3.0759156e+05\n",
      " 4.8055672e+05 1.3685473e+04 7.2501953e+04 3.1119169e+05 5.8634754e+01\n",
      " 1.1382940e+04 1.9846170e+04 5.8260089e+02 1.8450204e+03 1.7442247e+01\n",
      " 4.3572904e+07 9.8873232e+07 5.0364328e+04 1.3356933e+05 1.0779164e+05\n",
      " 2.2724872e+05 3.6368541e+05 2.0201127e+03 6.3990308e+03 3.3666660e+04\n",
      " 9.4128797e+04 3.8036540e+06 4.1935449e+04 3.8175294e+05 4.1169170e-03\n",
      " 6.7709144e+07 1.4363311e+05 2.4721442e+06 2.9631909e+05 3.1072348e+06\n",
      " 1.8995228e+00 2.1138384e+05 8.6670294e+05 6.9519831e+05 6.1662305e+04\n",
      " 1.0940504e+07 5.3215074e+04 3.8589980e+03 2.0900175e+02 2.5296655e+05\n",
      " 1.1841668e+05 1.8769372e+07 7.9613775e+06 3.6307797e+04 2.8970075e+06\n",
      " 1.7655253e+03 4.3578378e+05 3.9166656e+05 1.0691946e+06 2.7241540e+06\n",
      " 2.1755382e+06 4.7189340e+04 1.1233360e+06 2.0468975e+04 4.2865399e+02\n",
      " 9.7129070e+04 3.7179137e+04 3.0631250e+03 4.1753612e+05 1.3882373e+05\n",
      " 1.3826559e+05 7.1166870e+06 1.5335928e+05 4.0984955e+00 1.9679438e+04], shape=(100,), dtype=float32)\n",
      "tf.Tensor(\n",
      "[0.0000000e+00 0.0000000e+00 2.1662156e+03 7.4501712e+05 0.0000000e+00\n",
      " 0.0000000e+00 2.6483492e+07 5.5988973e+04 2.3239630e+07 0.0000000e+00\n",
      " 0.0000000e+00 2.6873821e+03 0.0000000e+00 3.0585341e+05 2.9275788e+06\n",
      " 4.7346616e+03 1.3914405e+06 0.0000000e+00 0.0000000e+00 0.0000000e+00\n",
      " 3.2582272e+06 0.0000000e+00 1.4466916e+02 0.0000000e+00 0.0000000e+00\n",
      " 6.3779606e+05 0.0000000e+00 0.0000000e+00 1.3653484e+05 0.0000000e+00\n",
      " 0.0000000e+00 0.0000000e+00 0.0000000e+00 2.0582140e+06 3.0759156e+05\n",
      " 0.0000000e+00 0.0000000e+00 7.2501953e+04 0.0000000e+00 0.0000000e+00\n",
      " 0.0000000e+00 1.9846170e+04 5.8260089e+02 1.8450204e+03 0.0000000e+00\n",
      " 0.0000000e+00 0.0000000e+00 0.0000000e+00 1.3356933e+05 0.0000000e+00\n",
      " 0.0000000e+00 0.0000000e+00 0.0000000e+00 0.0000000e+00 3.3666660e+04\n",
      " 9.4128797e+04 3.8036540e+06 4.1935449e+04 3.8175294e+05 0.0000000e+00\n",
      " 0.0000000e+00 0.0000000e+00 0.0000000e+00 2.9631909e+05 0.0000000e+00\n",
      " 1.8995228e+00 0.0000000e+00 8.6670294e+05 6.9519831e+05 0.0000000e+00\n",
      " 1.0940504e+07 5.3215074e+04 0.0000000e+00 2.0900175e+02 2.5296655e+05\n",
      " 0.0000000e+00 1.8769372e+07 7.9613775e+06 3.6307797e+04 2.8970075e+06\n",
      " 1.7655253e+03 0.0000000e+00 3.9166656e+05 0.0000000e+00 2.7241540e+06\n",
      " 0.0000000e+00 4.7189340e+04 1.1233360e+06 2.0468975e+04 4.2865399e+02\n",
      " 9.7129070e+04 3.7179137e+04 3.0631250e+03 4.1753612e+05 0.0000000e+00\n",
      " 0.0000000e+00 7.1166870e+06 1.5335928e+05 0.0000000e+00 0.0000000e+00], shape=(100,), dtype=float32)\n"
     ]
    },
    {
     "data": {
      "text/plain": [
       "<tf.Tensor: id=44069, shape=(), dtype=float32, numpy=9956587.0>"
      ]
     },
     "execution_count": 234,
     "metadata": {},
     "output_type": "execute_result"
    }
   ],
   "source": [
    "loss(output_gen[1], out)"
   ]
  },
  {
   "cell_type": "code",
   "execution_count": 235,
   "metadata": {},
   "outputs": [
    {
     "name": "stdout",
     "output_type": "stream",
     "text": [
      "tf.Tensor(156237.890625, shape=(), dtype=float64)\n"
     ]
    }
   ],
   "source": [
    "mse = tf.keras.losses.MeanSquaredError()\n",
    "loss = mse(out[:,0], output_gen[1][:,0])\n",
    "print(loss)"
   ]
  },
  {
   "cell_type": "code",
   "execution_count": 205,
   "metadata": {},
   "outputs": [
    {
     "data": {
      "text/plain": [
       "<tf.Tensor: id=40486, shape=(), dtype=float32, numpy=-0.41115904>"
      ]
     },
     "execution_count": 205,
     "metadata": {},
     "output_type": "execute_result"
    }
   ],
   "source": [
    "out[:,0][0]-output_gen[1][:,0][0]"
   ]
  },
  {
   "cell_type": "code",
   "execution_count": 206,
   "metadata": {},
   "outputs": [
    {
     "data": {
      "text/plain": [
       "array([0.        , 0.        , 0.53119999, 0.        , 0.63150001,\n",
       "       0.62110001, 0.65170002, 0.73640001, 0.        , 0.65499997,\n",
       "       0.38839999, 0.        , 0.        , 1.12880003, 0.85460001,\n",
       "       1.17840004, 0.76550001, 0.        , 0.92610002, 0.23010001,\n",
       "       1.08340001, 3.2434001 , 2.3355999 , 0.        , 2.17070007,\n",
       "       0.78320003, 2.45079994, 0.        , 0.        , 2.4066    ,\n",
       "       0.5887    , 1.29910004, 0.        , 0.        , 1.53429997,\n",
       "       0.        , 1.1832    , 0.        , 1.25989997, 0.41929999,\n",
       "       0.        , 0.        , 0.        , 0.        , 0.96359998,\n",
       "       0.4163    , 0.        , 0.41240001, 1.23010004, 2.12709999,\n",
       "       1.71819997, 0.8071    , 1.68219995, 0.97939998, 0.        ,\n",
       "       0.37099999, 1.83340001, 0.        , 0.        , 0.26800001,\n",
       "       4.71869993, 0.48359999, 0.65219998, 2.66700006, 0.73390001,\n",
       "       0.        , 0.361     , 0.20469999, 0.28749999, 2.27929997,\n",
       "       0.1913    , 0.92989981, 0.        , 1.77400005, 0.        ,\n",
       "       0.50150001, 0.        , 0.        , 0.        , 0.62800002,\n",
       "       0.81199998, 0.        , 0.72589999, 0.        , 1.06219995,\n",
       "       0.        , 0.47979999, 1.14289999, 0.99690002, 0.        ,\n",
       "       0.43959999, 0.74339998, 0.35780001, 0.        , 0.41569999,\n",
       "       0.56120002, 0.38839999, 0.        , 0.53780001, 0.        ])"
      ]
     },
     "execution_count": 206,
     "metadata": {},
     "output_type": "execute_result"
    }
   ],
   "source": [
    "output_gen[1][:,5]"
   ]
  },
  {
   "cell_type": "code",
   "execution_count": 207,
   "metadata": {},
   "outputs": [
    {
     "name": "stdout",
     "output_type": "stream",
     "text": [
      "[0. 0. 1. 0. 1. 1. 1. 1. 0. 1. 1. 0. 0. 1. 1. 1. 1. 0. 1. 1. 1. 1. 1. 0.\n",
      " 1. 1. 1. 0. 0. 1. 1. 1. 0. 0. 1. 0. 1. 0. 1. 1. 0. 0. 0. 0. 1. 1. 0. 1.\n",
      " 1. 1. 1. 1. 1. 1. 0. 1. 1. 0. 0. 1. 1. 1. 1. 1. 1. 0. 1. 1. 1. 1. 1. 1.\n",
      " 0. 1. 0. 1. 0. 0. 0. 1. 1. 0. 1. 0. 1. 0. 1. 1. 1. 0. 1. 1. 1. 0. 1. 1.\n",
      " 1. 0. 1. 0.]\n"
     ]
    }
   ],
   "source": [
    "a = np.ones((100))\n",
    "a[output_gen[1][:,5]==0]=0\n",
    "print(a)"
   ]
  },
  {
   "cell_type": "code",
   "execution_count": 50,
   "metadata": {},
   "outputs": [
    {
     "data": {
      "text/plain": [
       "array([0.        , 1.31980002, 1.23020005, 1.46389997, 0.54040003,\n",
       "       1.96379995, 0.        , 0.        , 0.30849999, 3.53970003,\n",
       "       0.        , 0.51370001, 0.        , 0.42320001, 0.47909999,\n",
       "       1.08420002, 0.44980001, 0.        , 1.24800003, 1.25090003,\n",
       "       0.53320003, 0.74150002, 0.65789998, 0.95920002, 0.745     ,\n",
       "       0.        , 1.09080005, 1.69120002, 0.        , 1.28269994,\n",
       "       1.13750005, 0.65649998, 0.76800001, 0.37349999, 1.36670005,\n",
       "       0.        , 0.        , 1.17700005, 0.54769999, 0.5072    ,\n",
       "       0.        , 0.43900001, 0.        , 1.12380004, 0.42629999,\n",
       "       0.        , 1.34019995, 0.99860001, 0.        , 0.96310002,\n",
       "       0.59170002, 3.01169991, 0.3114    , 0.3572    , 0.        ,\n",
       "       0.1389    , 1.102     , 2.05940008, 0.        , 1.03069997,\n",
       "       0.56870002, 1.60959995, 0.58939999, 0.        , 0.        ,\n",
       "       0.86900002, 0.67180002, 0.2062    , 0.55070001, 0.3312    ,\n",
       "       0.74070001, 0.67739999, 0.68830001, 0.        , 0.        ,\n",
       "       0.        , 1.7385    , 0.        , 0.33219999, 1.50139999,\n",
       "       0.32519999, 0.        , 0.0723    , 0.        , 0.60299999,\n",
       "       0.        , 1.85010004, 2.45860004, 0.        , 0.60039997,\n",
       "       0.        , 0.        , 0.60039997, 0.65509999, 2.3678    ,\n",
       "       0.        , 0.76889998, 0.94059998, 0.4303    , 1.77110004])"
      ]
     },
     "execution_count": 50,
     "metadata": {},
     "output_type": "execute_result"
    }
   ],
   "source": [
    "a*output_gen[1][:,5]"
   ]
  },
  {
   "cell_type": "code",
   "execution_count": 51,
   "metadata": {},
   "outputs": [
    {
     "data": {
      "text/plain": [
       "array([0., 1., 1., 1., 1., 1., 0., 0., 1., 1., 0., 1., 0., 1., 1., 1., 1.,\n",
       "       0., 1., 1., 1., 1., 1., 1., 1., 0., 1., 1., 0., 1., 1., 1., 1., 1.,\n",
       "       1., 0., 0., 1., 1., 1., 0., 1., 0., 1., 1., 0., 1., 1., 0., 1., 1.,\n",
       "       1., 1., 1., 0., 1., 1., 1., 0., 1., 1., 1., 1., 0., 0., 1., 1., 1.,\n",
       "       1., 1., 1., 1., 1., 0., 0., 0., 1., 0., 1., 1., 1., 0., 1., 0., 1.,\n",
       "       0., 1., 1., 0., 1., 0., 0., 1., 1., 1., 0., 1., 1., 1., 1.])"
      ]
     },
     "execution_count": 51,
     "metadata": {},
     "output_type": "execute_result"
    }
   ],
   "source": [
    "a*np.ones((100))"
   ]
  },
  {
   "cell_type": "code",
   "execution_count": 14,
   "metadata": {},
   "outputs": [
    {
     "data": {
      "text/plain": [
       "<tf.Tensor: id=790, shape=(100,), dtype=float32, numpy=\n",
       "array([ 3.69066772e+01,  3.39415710e+02,  3.44805725e+02,  7.50777359e+01,\n",
       "        5.78050346e+01, -2.82469415e-03, -4.88606602e-01,  9.35387497e+01,\n",
       "       -2.03814068e+01,  2.44932938e+02,  1.76271744e+02, -8.89910161e-01,\n",
       "        6.75783992e-01,  3.50118011e-01,  1.49429749e+03,  5.35632253e-01,\n",
       "        3.32552834e+01,  4.03296700e+01,  1.02944695e+02,  5.04831135e-01,\n",
       "       -1.44285830e-02,  1.28350675e+00,  1.28119504e+00, -3.63215820e+02,\n",
       "        2.41852097e+02, -4.92380738e-01,  1.45497522e+01,  5.07986816e+02,\n",
       "       -3.04148737e-02, -3.35347652e-02, -3.01782131e-01, -1.78311970e-02,\n",
       "        2.52956040e-02,  3.17429474e+02, -3.86724383e-01,  5.63173866e+01,\n",
       "       -1.07196423e+03,  3.63836974e-01,  1.03067088e+00, -3.73538047e-01,\n",
       "        1.42455762e+03,  3.00773804e+02,  4.80793266e+01,  1.38414764e+02,\n",
       "       -7.20186949e-01, -2.84404665e-01,  3.77850056e-01,  9.37060318e+01,\n",
       "        1.97219391e+02, -1.56357346e+02,  4.30592918e+01,  3.35444856e+00,\n",
       "       -8.02983704e+02,  2.80458679e+02, -1.07229435e+00,  8.27561855e-01,\n",
       "        8.27009106e+00, -4.58685681e-02,  8.80502625e+01, -1.40011799e+00,\n",
       "        6.03970222e+01,  2.81095104e+01,  4.50347573e-01, -5.89570701e-01,\n",
       "        1.86039108e+02, -7.58669436e-01,  2.07533646e+02, -4.49052467e+01,\n",
       "        6.29429970e+01, -4.10944672e+02,  3.59274811e+02,  4.42659836e+01,\n",
       "        1.30858301e+03, -7.91053343e+00, -1.95579731e+00, -7.25464582e-01,\n",
       "       -1.68119385e+02,  1.53577100e+03, -3.84257197e-01,  3.37128639e-02,\n",
       "        4.68797569e+01,  3.68898659e+01,  8.83909424e+02, -7.37328339e+01,\n",
       "        4.52966392e-01,  2.84147766e+02,  5.67294061e-01,  3.39400500e-01,\n",
       "        4.77765083e-01, -1.62422771e+01,  6.08406677e+01, -6.78870056e+02,\n",
       "        6.75653458e+00, -3.76764832e+02,  4.23903942e-01,  2.03934431e-01,\n",
       "        5.91824150e+00,  6.50087433e+01,  1.11165939e+02,  1.46612844e+01],\n",
       "      dtype=float32)>"
      ]
     },
     "execution_count": 14,
     "metadata": {},
     "output_type": "execute_result"
    }
   ],
   "source": [
    "out[:,0]"
   ]
  },
  {
   "cell_type": "code",
   "execution_count": null,
   "metadata": {},
   "outputs": [],
   "source": [
    "loading_path = '/sps/lsst/users/barcelin/TFP/weights/blended_multi_3/loss/'\n",
    "latest = tf.train.latest_checkpoint(loading_path)\n",
    "net.load_weights(latest)\n",
    "\n",
    "\n",
    "\n",
    "# Callbacks\n",
    "saving_path = '/sps/lsst/users/barcelin/TFP/weights/blended_multi_3/'\n",
    "checkpointer_mse = tf.keras.callbacks.ModelCheckpoint(filepath=saving_path+'mse/weights_noisy_v4.{epoch:02d}-{val_mse:.2f}.ckpt', monitor='val_mse', verbose=1, save_best_only=True,save_weights_only=True, mode='min', period=1)\n",
    "checkpointer_loss = tf.keras.callbacks.ModelCheckpoint(filepath=saving_path+'loss/weights_noisy_v4.{epoch:02d}-{val_loss:.2f}.ckpt', monitor='val_loss', verbose=1, save_best_only=True,save_weights_only=True, mode='min', period=1)\n",
    "checkpointer_acc = tf.keras.callbacks.ModelCheckpoint(filepath=saving_path+'acc/weights_noisy_v4.{epoch:02d}-{val_acc:.2f}.ckpt', monitor='val_acc', verbose=1, save_best_only=True,save_weights_only=True, mode='max', period=1)\n",
    "\n",
    "callbacks = [checkpointer_mse, checkpointer_loss, checkpointer_acc]"
   ]
  },
  {
   "cell_type": "code",
   "execution_count": null,
   "metadata": {},
   "outputs": [],
   "source": [
    "######## Train the network\n",
    "hist = net.fit_generator(training_generator, epochs=200, # training\n",
    "          steps_per_epoch=steps_per_epoch,#128\n",
    "          verbose=1,\n",
    "          shuffle=True,\n",
    "          validation_data=validation_generator, # validation\n",
    "          validation_steps=validation_steps,#16\n",
    "          callbacks= callbacks,\n",
    "          workers=0,#4 \n",
    "          use_multiprocessing = True)"
   ]
  },
  {
   "cell_type": "code",
   "execution_count": null,
   "metadata": {},
   "outputs": [],
   "source": [
    "saving_path = '/sps/lsst/users/barcelin/TFP/weights/blended_multi_3/'\n",
    "net.save_weights(saving_path+'cp-{epoch:04d}.ckpt')\n",
    "# 2 galaxies dans /weights/blended_multi/\n",
    "\n",
    "\n",
    "## Plots\n",
    "loading_path = '/sps/lsst/users/barcelin/TFP/weights/blended_multi_3/loss/'\n",
    "latest = tf.train.latest_checkpoint(loading_path)\n",
    "net.load_weights(latest)\n",
    "\n",
    "\n",
    "test = test_generator.__getitem__(2)\n",
    "\n",
    "training_data = test[0]\n",
    "training_labels = test[1]\n",
    "out = net(training_data)\n",
    "\n",
    "fig = plt.figure()\n",
    "sns.distplot(out.mean().numpy()[:,0], bins = 20)\n",
    "sns.distplot(training_labels[:,0], bins = 20)\n",
    "fig.savefig('test_distrib_e1.png')\n",
    "\n",
    "\n",
    "fig = plt.figure()\n",
    "sns.distplot(out.mean().numpy()[:,1], bins = 20)\n",
    "sns.distplot(training_labels[:,1], bins = 20)\n",
    "fig.savefig('test_distrib_e2.png')\n",
    "\n",
    "\n",
    "fig = plt.figure()\n",
    "sns.distplot(out.mean().numpy()[:,2], bins = 20)\n",
    "sns.distplot(training_labels[:,2], bins = 20)\n",
    "fig.savefig('test_distrib_z.png')\n",
    "\n",
    "fig = plt.figure()\n",
    "sns.distplot(out.mean().numpy()[:,3], bins = 20)\n",
    "sns.distplot(training_labels[:,3], bins = 20)\n",
    "fig.savefig('test_distrib_e1_2.png')\n",
    "\n",
    "\n",
    "fig = plt.figure()\n",
    "sns.distplot(out.mean().numpy()[:,4], bins = 20)\n",
    "sns.distplot(training_labels[:,4], bins = 20)\n",
    "fig.savefig('test_distrib_e2_2.png')\n",
    "\n",
    "\n",
    "fig = plt.figure()\n",
    "sns.distplot(out.mean().numpy()[:,5], bins = 20)\n",
    "sns.distplot(training_labels[:,5], bins = 20)\n",
    "fig.savefig('test_distrib_z_2.png')\n",
    "\n",
    "fig = plt.figure()\n",
    "sns.distplot(out.mean().numpy()[:,6], bins = 20)\n",
    "sns.distplot(training_labels[:,6], bins = 20)\n",
    "fig.savefig('test_distrib_e1_3.png')\n",
    "\n",
    "\n",
    "fig = plt.figure()\n",
    "sns.distplot(out.mean().numpy()[:,7], bins = 20)\n",
    "sns.distplot(training_labels[:,7], bins = 20)\n",
    "fig.savefig('test_distrib_e2_3.png')\n",
    "\n",
    "\n",
    "fig = plt.figure()\n",
    "sns.distplot(out.mean().numpy()[:,8], bins = 20)\n",
    "sns.distplot(training_labels[:,8], bins = 20)\n",
    "fig.savefig('test_distrib_z_3.png')\n",
    "\n",
    "fig, axes = plt.subplots(1, 3, figsize=(15, 5))\n",
    "\n",
    "axes[0].plot(training_labels[:,0], out.mean().numpy()[:,0], '.', label = 'mean')\n",
    "axes[0].plot(training_labels[:,0], out.mean().numpy()[:,0]+ 2*out.stddev().numpy()[:,0], '+', label = 'mean + 2stddev')\n",
    "axes[0].plot(training_labels[:,0], out.mean().numpy()[:,0]- 2*out.stddev().numpy()[:,0], '+', label = 'mean - 2stddev')\n",
    "#x = np.linspace(-1,1)\n",
    "x = np.linspace(0,5)\n",
    "axes[0].plot(x, x)\n",
    "axes[0].legend()\n",
    "#axes[0].set_ylim(-1,1)\n",
    "axes[1].set_ylim(0,5)\n",
    "axes[0].set_title('$e1$')\n",
    "\n",
    "axes[1].plot(training_labels[:,1], out.mean().numpy()[:,1], '.', label = 'mean')\n",
    "axes[1].plot(training_labels[:,1], out.mean().numpy()[:,1]+ 2*out.stddev().numpy()[:,1], '+', label = 'mean + 2stddev')\n",
    "axes[1].plot(training_labels[:,1], out.mean().numpy()[:,1]- 2*out.stddev().numpy()[:,1], '+', label = 'mean - 2stddev')\n",
    "#x = np.linspace(-1,1)\n",
    "x = np.linspace(0,5)\n",
    "axes[1].plot(x, x)\n",
    "axes[1].legend()\n",
    "#axes[1].set_ylim(-1,1)\n",
    "axes[1].set_ylim(0,5)\n",
    "axes[1].set_title('$e2$')\n",
    "\n",
    "axes[2].plot(training_labels[:,2], out.mean().numpy()[:,2], '.', label = 'mean')\n",
    "axes[2].plot(training_labels[:,2], out.mean().numpy()[:,2]+ 2*out.stddev().numpy()[:,2], '+', label = 'mean + 2stddev')\n",
    "axes[2].plot(training_labels[:,2], out.mean().numpy()[:,2]- 2*out.stddev().numpy()[:,2], '+', label = 'mean - 2stddev')\n",
    "x = np.linspace(0,4)\n",
    "axes[2].plot(x, x)\n",
    "axes[2].legend()\n",
    "axes[2].set_ylim(-1,5.5)\n",
    "axes[2].set_title('$z$')\n",
    "\n",
    "fig.savefig('test_train.png')\n",
    "\n",
    "\n",
    "fig, axes = plt.subplots(1, 3, figsize=(15, 5))\n",
    "\n",
    "axes[0].plot(training_labels[:,3], out.mean().numpy()[:,3], '.', label = 'mean')\n",
    "axes[0].plot(training_labels[:,3], out.mean().numpy()[:,3]+ 2*out.stddev().numpy()[:,3], '+', label = 'mean + 2stddev')\n",
    "axes[0].plot(training_labels[:,3], out.mean().numpy()[:,3]- 2*out.stddev().numpy()[:,3], '+', label = 'mean - 2stddev')\n",
    "#x = np.linspace(-1,1)\n",
    "x = np.linspace(0,5)\n",
    "axes[0].plot(x, x)\n",
    "axes[0].legend()\n",
    "#axes[0].set_ylim(-1,1)\n",
    "axes[1].set_ylim(0,5)\n",
    "axes[0].set_title('$e1$')\n",
    "\n",
    "axes[1].plot(training_labels[:,4], out.mean().numpy()[:,4], '.', label = 'mean')\n",
    "axes[1].plot(training_labels[:,4], out.mean().numpy()[:,4]+ 2*out.stddev().numpy()[:,4], '+', label = 'mean + 2stddev')\n",
    "axes[1].plot(training_labels[:,4], out.mean().numpy()[:,4]- 2*out.stddev().numpy()[:,4], '+', label = 'mean - 2stddev')\n",
    "#x = np.linspace(-1,1)\n",
    "x = np.linspace(0,5)\n",
    "axes[1].plot(x, x)\n",
    "axes[1].legend()\n",
    "#axes[1].set_ylim(-1,1)\n",
    "axes[1].set_ylim(0,5)\n",
    "axes[1].set_title('$e2$')\n",
    "\n",
    "axes[2].plot(training_labels[:,5], out.mean().numpy()[:,5], '.', label = 'mean')\n",
    "axes[2].plot(training_labels[:,5], out.mean().numpy()[:,5]+ 2*out.stddev().numpy()[:,5], '+', label = 'mean + 2stddev')\n",
    "axes[2].plot(training_labels[:,5], out.mean().numpy()[:,5]- 2*out.stddev().numpy()[:,5], '+', label = 'mean - 2stddev')\n",
    "x = np.linspace(0,4)\n",
    "axes[2].plot(x, x)\n",
    "axes[2].legend()\n",
    "axes[2].set_ylim(-1,5.5)\n",
    "axes[2].set_title('$z$')\n",
    "fig.savefig('test_train_2.png')\n",
    "\n",
    "\n",
    "fig, axes = plt.subplots(1, 3, figsize=(15, 5))\n",
    "\n",
    "axes[0].plot(training_labels[:,6], out.mean().numpy()[:,6], '.', label = 'mean')\n",
    "axes[0].plot(training_labels[:,6], out.mean().numpy()[:,6]+ 2*out.stddev().numpy()[:,6], '+', label = 'mean + 2stddev')\n",
    "axes[0].plot(training_labels[:,6], out.mean().numpy()[:,6]- 2*out.stddev().numpy()[:,6], '+', label = 'mean - 2stddev')\n",
    "#x = np.linspace(-1,1)\n",
    "x = np.linspace(0,5)\n",
    "axes[0].plot(x, x)\n",
    "axes[0].legend()\n",
    "#axes[0].set_ylim(-1,1)\n",
    "axes[1].set_ylim(0,5)\n",
    "axes[0].set_title('$e1$')\n",
    "\n",
    "axes[1].plot(training_labels[:,7], out.mean().numpy()[:,7], '.', label = 'mean')\n",
    "axes[1].plot(training_labels[:,7], out.mean().numpy()[:,7]+ 2*out.stddev().numpy()[:,7], '+', label = 'mean + 2stddev')\n",
    "axes[1].plot(training_labels[:,7], out.mean().numpy()[:,7]- 2*out.stddev().numpy()[:,7], '+', label = 'mean - 2stddev')\n",
    "#x = np.linspace(-1,1)\n",
    "x = np.linspace(0,5)\n",
    "axes[1].plot(x, x)\n",
    "axes[1].legend()\n",
    "#axes[1].set_ylim(-1,1)\n",
    "axes[1].set_ylim(0,5)\n",
    "axes[1].set_title('$e2$')\n",
    "\n",
    "axes[2].plot(training_labels[:,8], out.mean().numpy()[:,8], '.', label = 'mean')\n",
    "axes[2].plot(training_labels[:,8], out.mean().numpy()[:,8]+ 2*out.stddev().numpy()[:,8], '+', label = 'mean + 2stddev')\n",
    "axes[2].plot(training_labels[:,8], out.mean().numpy()[:,8]- 2*out.stddev().numpy()[:,8], '+', label = 'mean - 2stddev')\n",
    "x = np.linspace(0,4)\n",
    "axes[2].plot(x, x)\n",
    "axes[2].legend()\n",
    "axes[2].set_ylim(-1,5.5)\n",
    "axes[2].set_title('$z$')\n",
    "fig.savefig('test_train_3.png')"
   ]
  }
 ],
 "metadata": {
  "kernelspec": {
   "display_name": "Python 3",
   "language": "python",
   "name": "python3"
  },
  "language_info": {
   "codemirror_mode": {
    "name": "ipython",
    "version": 3
   },
   "file_extension": ".py",
   "mimetype": "text/x-python",
   "name": "python",
   "nbconvert_exporter": "python",
   "pygments_lexer": "ipython3",
   "version": "3.6.8"
  },
  "toc": {
   "base_numbering": 1,
   "nav_menu": {},
   "number_sections": true,
   "sideBar": true,
   "skip_h1_title": false,
   "title_cell": "Table of Contents",
   "title_sidebar": "Contents",
   "toc_cell": false,
   "toc_position": {},
   "toc_section_display": true,
   "toc_window_display": false
  }
 },
 "nbformat": 4,
 "nbformat_minor": 2
}
